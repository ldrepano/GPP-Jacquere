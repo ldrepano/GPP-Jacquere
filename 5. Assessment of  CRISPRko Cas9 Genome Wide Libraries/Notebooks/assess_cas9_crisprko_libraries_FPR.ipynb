{
 "cells": [
  {
   "cell_type": "code",
   "execution_count": 1,
   "id": "b128773d",
   "metadata": {},
   "outputs": [
    {
     "name": "stdout",
     "output_type": "stream",
     "text": [
      "The history saving thread hit an unexpected error (OperationalError('attempt to write a readonly database')).History will not be written to the database.\n"
     ]
    }
   ],
   "source": [
    "import pandas as pd\n",
    "import seaborn as sns\n",
    "import matplotlib.pyplot as plt\n",
    "import numpy as np\n",
    "from scipy.stats import normaltest\n",
    "from cycler import cycler\n"
   ]
  },
  {
   "attachments": {},
   "cell_type": "markdown",
   "id": "abb41d21",
   "metadata": {},
   "source": [
    "Identifying False Postive Rate (% of nonessential genes depleted across targeting guides) from various CRISPRko Cas9 libraries to confirm that Jacquere demonstrates adequate performance despite the objective in its design to optimize the False Negative Rate.\n",
    "\n",
    "To retrieve guide mappings in GENCODE 47, guide sequences are inserted into the GPP Internal LIMS tool "
   ]
  },
  {
   "cell_type": "code",
   "execution_count": 2,
   "id": "ee7b77c8-ac9d-45ed-83d4-5a7141b53623",
   "metadata": {},
   "outputs": [],
   "source": [
    "path_to_annotations=\"../Data/GENCODE47 Mappings of CRISPRko Cas9 Genome Wide Libraries/\""
   ]
  },
  {
   "cell_type": "markdown",
   "id": "a846c088-f077-40f9-b3d1-32404094f3b4",
   "metadata": {},
   "source": [
    "## GeCKO v2 (2014)\n",
    "6 guides/gene"
   ]
  },
  {
   "cell_type": "code",
   "execution_count": 3,
   "id": "659aff6a-6d46-4a66-a35f-bc070cf2d6f0",
   "metadata": {},
   "outputs": [],
   "source": [
    "gecko_a=pd.read_csv(path_to_annotations+\"gecko_a_adhoc_sgRNA_disco_GRCh38_Ensembl_SpyoCas9Ko_strict.csv\")\n",
    "gecko_b=pd.read_csv(path_to_annotations+\"gecko_b_adhoc_sgRNA_disco_GRCh38_Ensembl_SpyoCas9Ko_strict.csv\")\n",
    "gecko=pd.concat([gecko_a,gecko_b])\n",
    "gecko_guides= gecko[\"Target Sequence\"].tolist()"
   ]
  },
  {
   "cell_type": "markdown",
   "id": "9063f46b-f411-48fe-95d1-c7ac1e3682fe",
   "metadata": {},
   "source": [
    "## Avana (2016)\n",
    "4 guides/gene screened for DepMap. Downloaded from [DepMap](https://depmap.org/portal/data_page/?tab=allData&releasename=DepMap+Public+24Q4&filename=AvanaGuideMap.csv)"
   ]
  },
  {
   "cell_type": "code",
   "execution_count": 4,
   "id": "81348cfd-b74a-43c9-befd-be6fa2f48fa6",
   "metadata": {},
   "outputs": [],
   "source": [
    "avana=pd.read_csv(path_to_annotations+\"avana_adhoc_sgRNA_disco_GRCh38_Ensembl_SpyoCas9Ko_strict.csv\")\n",
    "avana_guides= avana[\"Target Sequence\"].tolist()"
   ]
  },
  {
   "cell_type": "markdown",
   "id": "a7d95f50-12cf-4c29-8658-fb59a59cff83",
   "metadata": {},
   "source": [
    "## Brunello (2016)\n"
   ]
  },
  {
   "cell_type": "code",
   "execution_count": 5,
   "id": "4772ec18-8819-4db8-849d-d086d6d4d259",
   "metadata": {},
   "outputs": [],
   "source": [
    "brunello=pd.read_csv(path_to_annotations+\"brunello_adhoc_sgRNA_disco_GRCh38_Ensembl_SpyoCas9Ko_strict.csv\")\n",
    "brunello_guides= brunello[\"Target Sequence\"].tolist()"
   ]
  },
  {
   "cell_type": "markdown",
   "id": "4080e6c0-426f-4288-b0e7-32763e2c836c",
   "metadata": {},
   "source": [
    "## Human Sanger Genome Wide Library v1 (2016)\n",
    "\n",
    "human genome-wide CRISPR library (v1) consisting of 90,709 gRNAs targeting a total of 18,010 genes \n",
    "\n",
    "from [Tzelepis 2016](https://pmc.ncbi.nlm.nih.gov/articles/PMC5081405/#mmc2)\n",
    "\n",
    "used for [Project Score](https://score.depmap.sanger.ac.uk/documentation) \n",
    "\n",
    "note: I manually curated the hsangerv1.csv file from the MinLibCas9 github MasterLib_v1 [file](https://github.com/EmanuelGoncalves/crispy/blob/master/notebooks/minlib/libraries/MasterLib_v1.csv.gz) to be 20 nt long"
   ]
  },
  {
   "cell_type": "code",
   "execution_count": 6,
   "id": "d342fe2c-1e9a-4a4c-8782-6ec6bfd21a22",
   "metadata": {},
   "outputs": [],
   "source": [
    "hsangerv1=pd.read_csv(path_to_annotations+\"hsangerv1_adhoc_sgRNA_disco_GRCh38_Ensembl_SpyoCas9Ko_strict.csv\")\n",
    "hsangerv1_guides= hsangerv1[\"Target Sequence\"].tolist()"
   ]
  },
  {
   "cell_type": "markdown",
   "id": "6cb817aa",
   "metadata": {},
   "source": [
    "## TKOv3 (2017)\n",
    "[TKOv3 Library Introduction](https://academic.oup.com/g3journal/article/7/8/2719/6031511?login=true)\n",
    "70,948 gRNAs targeting 18,053 protein-coding genes (up to 4 sgRNA/gene)"
   ]
  },
  {
   "cell_type": "code",
   "execution_count": 7,
   "id": "d5e5c215-590f-44b6-983c-5c09499f96c2",
   "metadata": {},
   "outputs": [],
   "source": [
    "tkov3=pd.read_csv(path_to_annotations+\"tkov3_adhoc_sgRNA_disco_GRCh38_Ensembl_SpyoCas9Ko_strict.csv\")\n",
    "tkov3_guides= tkov3[\"Target Sequence\"].tolist()"
   ]
  },
  {
   "cell_type": "markdown",
   "id": "3d3398b6-1b70-440e-abfc-ac5642fa83a2",
   "metadata": {},
   "source": [
    "## Gattinara (2018)"
   ]
  },
  {
   "cell_type": "code",
   "execution_count": 8,
   "id": "3e4ac0b0-300f-4ba9-ab08-584a8e43564f",
   "metadata": {},
   "outputs": [],
   "source": [
    "gattinara=pd.read_csv(path_to_annotations+\"gattinara_adhoc_sgRNA_disco_GRCh38_Ensembl_SpyoCas9Ko_strict.csv\")\n",
    "gattinara_guides= gattinara[\"Target Sequence\"].tolist()"
   ]
  },
  {
   "cell_type": "markdown",
   "id": "8979f19d-bd9f-4747-9fb3-c3e02619789e",
   "metadata": {},
   "source": [
    "## VBC (2020)\n",
    "Represents the top 6 guide picks with the highest VBC scores, downloaded from vbc-score.org"
   ]
  },
  {
   "cell_type": "code",
   "execution_count": 9,
   "id": "628befdb-12a9-49b7-b47d-1bd709161955",
   "metadata": {},
   "outputs": [],
   "source": [
    "vbc=pd.read_csv(path_to_annotations+\"vbc_adhoc_sgRNA_disco_GRCh38_Ensembl_SpyoCas9Ko_strict.csv\")\n",
    "vbc_guides= vbc[\"Target Sequence\"].tolist()"
   ]
  },
  {
   "cell_type": "markdown",
   "id": "f8b0c71f-c84f-499b-8550-17e7c5f93538",
   "metadata": {},
   "source": [
    "## MinLibCas9 (2021)\n",
    "[source: Goncalves et al 2021](https://genomebiology.biomedcentral.com/articles/10.1186/s13059-021-02268-4#Sec15)\n",
    "covers 18,761 protein-coding genes with 37,522 sgRNAs (33,986 Project Score; 1732 Brunello; 1493 Avana and 311 TKOv3). Preferentially selected guides with demonstrated activity in Project Score data."
   ]
  },
  {
   "cell_type": "code",
   "execution_count": 10,
   "id": "08cef5a8-7694-4bf5-90e2-44e2529afeeb",
   "metadata": {},
   "outputs": [],
   "source": [
    "minlibcas9=pd.read_csv(path_to_annotations+\"minlibcas9_adhoc_sgRNA_disco_GRCh38_Ensembl_SpyoCas9Ko_strict.csv\")\n",
    "minlibcas9_guides= minlibcas9[\"Target Sequence\"].tolist()"
   ]
  },
  {
   "cell_type": "markdown",
   "id": "78536609-d41d-4c54-811e-b37662eb0184",
   "metadata": {},
   "source": [
    "## Jacquere (2025)"
   ]
  },
  {
   "cell_type": "code",
   "execution_count": 11,
   "id": "7454ebec-6904-47a8-b81a-3f92f5039f2a",
   "metadata": {},
   "outputs": [],
   "source": [
    "jacquere= pd.read_csv(path_to_annotations+\"jacquere_quota3_adhoc_sgRNA_disco_GRCh38_Ensembl_SpyoCas9Ko_strict.csv\")\n",
    "jacquere_guides= jacquere[\"Target Sequence\"].tolist()"
   ]
  },
  {
   "cell_type": "markdown",
   "id": "792a4d6e-6216-4c7e-9da4-24f004520683",
   "metadata": {},
   "source": [
    "# Get False Positive Rates from DeWeirdt 2022 tiling"
   ]
  },
  {
   "cell_type": "code",
   "execution_count": 12,
   "id": "d0592ee6-2370-4661-9062-8e098b16169d",
   "metadata": {},
   "outputs": [
    {
     "data": {
      "text/html": [
       "<div>\n",
       "<style scoped>\n",
       "    .dataframe tbody tr th:only-of-type {\n",
       "        vertical-align: middle;\n",
       "    }\n",
       "\n",
       "    .dataframe tbody tr th {\n",
       "        vertical-align: top;\n",
       "    }\n",
       "\n",
       "    .dataframe thead th {\n",
       "        text-align: right;\n",
       "    }\n",
       "</style>\n",
       "<table border=\"1\" class=\"dataframe\">\n",
       "  <thead>\n",
       "    <tr style=\"text-align: right;\">\n",
       "      <th></th>\n",
       "      <th>Unnamed: 0</th>\n",
       "      <th>sgRNA Sequence</th>\n",
       "      <th>sgRNA_lfc</th>\n",
       "      <th>Target Sequence</th>\n",
       "      <th>On-target Gene Symbols</th>\n",
       "      <th>Notes</th>\n",
       "      <th>noness_targeting</th>\n",
       "      <th>z_scored_sgRNA_lfc</th>\n",
       "    </tr>\n",
       "  </thead>\n",
       "  <tbody>\n",
       "    <tr>\n",
       "      <th>0</th>\n",
       "      <td>0</td>\n",
       "      <td>AAAAAAAAGCACTGTCATGC</td>\n",
       "      <td>1.551436</td>\n",
       "      <td>AAAAAAAAGCACTGTCATGC</td>\n",
       "      <td>C8orf17</td>\n",
       "      <td>NaN</td>\n",
       "      <td>False</td>\n",
       "      <td>1.801807</td>\n",
       "    </tr>\n",
       "    <tr>\n",
       "      <th>1</th>\n",
       "      <td>1</td>\n",
       "      <td>AAAAAAAGCACTGTCATGCA</td>\n",
       "      <td>0.879857</td>\n",
       "      <td>AAAAAAAGCACTGTCATGCA</td>\n",
       "      <td>C8orf17</td>\n",
       "      <td>NaN</td>\n",
       "      <td>False</td>\n",
       "      <td>0.583091</td>\n",
       "    </tr>\n",
       "    <tr>\n",
       "      <th>2</th>\n",
       "      <td>2</td>\n",
       "      <td>AAAAAAAGGGAGGACCACTG</td>\n",
       "      <td>-0.717881</td>\n",
       "      <td>AAAAAAAGGGAGGACCACTG</td>\n",
       "      <td>WDR55</td>\n",
       "      <td>NaN</td>\n",
       "      <td>False</td>\n",
       "      <td>-2.316328</td>\n",
       "    </tr>\n",
       "    <tr>\n",
       "      <th>3</th>\n",
       "      <td>3</td>\n",
       "      <td>AAAAAAAGGGCTGCCCCAAA</td>\n",
       "      <td>-0.537565</td>\n",
       "      <td>AAAAAAAGGGCTGCCCCAAA</td>\n",
       "      <td>TOP2A</td>\n",
       "      <td>NaN</td>\n",
       "      <td>False</td>\n",
       "      <td>-1.989108</td>\n",
       "    </tr>\n",
       "    <tr>\n",
       "      <th>4</th>\n",
       "      <td>4</td>\n",
       "      <td>AAAAAAAGTAGTGTGAAGTC</td>\n",
       "      <td>-0.790484</td>\n",
       "      <td>AAAAAAAGTAGTGTGAAGTC</td>\n",
       "      <td>LUC7L3</td>\n",
       "      <td>NaN</td>\n",
       "      <td>False</td>\n",
       "      <td>-2.448081</td>\n",
       "    </tr>\n",
       "    <tr>\n",
       "      <th>...</th>\n",
       "      <td>...</td>\n",
       "      <td>...</td>\n",
       "      <td>...</td>\n",
       "      <td>...</td>\n",
       "      <td>...</td>\n",
       "      <td>...</td>\n",
       "      <td>...</td>\n",
       "      <td>...</td>\n",
       "    </tr>\n",
       "    <tr>\n",
       "      <th>84340</th>\n",
       "      <td>84340</td>\n",
       "      <td>TTTGTTGTATGATAAACATC</td>\n",
       "      <td>-1.194462</td>\n",
       "      <td>TTTGTTGTATGATAAACATC</td>\n",
       "      <td>UPF2</td>\n",
       "      <td>NaN</td>\n",
       "      <td>False</td>\n",
       "      <td>-3.181181</td>\n",
       "    </tr>\n",
       "    <tr>\n",
       "      <th>84341</th>\n",
       "      <td>84341</td>\n",
       "      <td>TTTGTTTCAGACTTTGTTTC</td>\n",
       "      <td>0.859021</td>\n",
       "      <td>TTTGTTTCAGACTTTGTTTC</td>\n",
       "      <td>ITGAV</td>\n",
       "      <td>NaN</td>\n",
       "      <td>False</td>\n",
       "      <td>0.545279</td>\n",
       "    </tr>\n",
       "    <tr>\n",
       "      <th>84342</th>\n",
       "      <td>84342</td>\n",
       "      <td>TTTGTTTCTCAGGACCGCAT</td>\n",
       "      <td>-3.089690</td>\n",
       "      <td>TTTGTTTCTCAGGACCGCAT</td>\n",
       "      <td>DDB1</td>\n",
       "      <td>NaN</td>\n",
       "      <td>False</td>\n",
       "      <td>-6.620457</td>\n",
       "    </tr>\n",
       "    <tr>\n",
       "      <th>84343</th>\n",
       "      <td>84343</td>\n",
       "      <td>TTTGTTTCTCTTTCTACAAG</td>\n",
       "      <td>0.684651</td>\n",
       "      <td>TTTGTTTCTCTTTCTACAAG</td>\n",
       "      <td>HEATR1</td>\n",
       "      <td>NaN</td>\n",
       "      <td>False</td>\n",
       "      <td>0.228851</td>\n",
       "    </tr>\n",
       "    <tr>\n",
       "      <th>84344</th>\n",
       "      <td>84344</td>\n",
       "      <td>TTTGTTTGAAATACAGATGA</td>\n",
       "      <td>1.643931</td>\n",
       "      <td>TTTGTTTGAAATACAGATGA</td>\n",
       "      <td>(ENSG00000290348),(ENSG00000293249),(ENSG00000...</td>\n",
       "      <td>NaN</td>\n",
       "      <td>False</td>\n",
       "      <td>1.969658</td>\n",
       "    </tr>\n",
       "  </tbody>\n",
       "</table>\n",
       "<p>84345 rows × 8 columns</p>\n",
       "</div>"
      ],
      "text/plain": [
       "       Unnamed: 0        sgRNA Sequence  sgRNA_lfc       Target Sequence  \\\n",
       "0               0  AAAAAAAAGCACTGTCATGC   1.551436  AAAAAAAAGCACTGTCATGC   \n",
       "1               1  AAAAAAAGCACTGTCATGCA   0.879857  AAAAAAAGCACTGTCATGCA   \n",
       "2               2  AAAAAAAGGGAGGACCACTG  -0.717881  AAAAAAAGGGAGGACCACTG   \n",
       "3               3  AAAAAAAGGGCTGCCCCAAA  -0.537565  AAAAAAAGGGCTGCCCCAAA   \n",
       "4               4  AAAAAAAGTAGTGTGAAGTC  -0.790484  AAAAAAAGTAGTGTGAAGTC   \n",
       "...           ...                   ...        ...                   ...   \n",
       "84340       84340  TTTGTTGTATGATAAACATC  -1.194462  TTTGTTGTATGATAAACATC   \n",
       "84341       84341  TTTGTTTCAGACTTTGTTTC   0.859021  TTTGTTTCAGACTTTGTTTC   \n",
       "84342       84342  TTTGTTTCTCAGGACCGCAT  -3.089690  TTTGTTTCTCAGGACCGCAT   \n",
       "84343       84343  TTTGTTTCTCTTTCTACAAG   0.684651  TTTGTTTCTCTTTCTACAAG   \n",
       "84344       84344  TTTGTTTGAAATACAGATGA   1.643931  TTTGTTTGAAATACAGATGA   \n",
       "\n",
       "                                  On-target Gene Symbols Notes  \\\n",
       "0                                                C8orf17   NaN   \n",
       "1                                                C8orf17   NaN   \n",
       "2                                                  WDR55   NaN   \n",
       "3                                                  TOP2A   NaN   \n",
       "4                                                 LUC7L3   NaN   \n",
       "...                                                  ...   ...   \n",
       "84340                                               UPF2   NaN   \n",
       "84341                                              ITGAV   NaN   \n",
       "84342                                               DDB1   NaN   \n",
       "84343                                             HEATR1   NaN   \n",
       "84344  (ENSG00000290348),(ENSG00000293249),(ENSG00000...   NaN   \n",
       "\n",
       "       noness_targeting  z_scored_sgRNA_lfc  \n",
       "0                 False            1.801807  \n",
       "1                 False            0.583091  \n",
       "2                 False           -2.316328  \n",
       "3                 False           -1.989108  \n",
       "4                 False           -2.448081  \n",
       "...                 ...                 ...  \n",
       "84340             False           -3.181181  \n",
       "84341             False            0.545279  \n",
       "84342             False           -6.620457  \n",
       "84343             False            0.228851  \n",
       "84344             False            1.969658  \n",
       "\n",
       "[84345 rows x 8 columns]"
      ]
     },
     "execution_count": 12,
     "metadata": {},
     "output_type": "execute_result"
    }
   ],
   "source": [
    "rs3val_zscores= pd.read_csv(\"../../2. Developing promiscuous classifier/Data/rs3valdata_updatedmappings_zscore.csv\")\n",
    "rs3val_zscores"
   ]
  },
  {
   "cell_type": "code",
   "execution_count": 13,
   "id": "b9250471-b65f-4e7d-b49a-6e6f63fad1b9",
   "metadata": {},
   "outputs": [
    {
     "name": "stdout",
     "output_type": "stream",
     "text": [
      "# essential: 31240\n",
      "# nonessential: 25735\n"
     ]
    }
   ],
   "source": [
    "#get essential vs nonessential classifications \n",
    "\n",
    "noness_genes = pd.read_csv(\"../../2. Developing promiscuous classifier/Data/AchillesNonessentialControls.csv\")\n",
    "noness_genes[\"Gene\"]=noness_genes[\"Gene\"].apply(lambda x: x.split(\"(\")[0])\n",
    "#remove space from gene name \n",
    "noness_genes[\"Gene\"]=noness_genes[\"Gene\"].str.replace(\" \",\"\")\n",
    "noness_gene_list=noness_genes[\"Gene\"].tolist()\n",
    "\n",
    "essential_genes = pd.read_csv(\"../../2. Developing promiscuous classifier/Data/AchillesCommonEssentialControls.csv\")\n",
    "essential_genes[\"Gene\"]=essential_genes[\"Gene\"].apply(lambda x: x.split(\"(\")[0])\n",
    "#remove space from gene name \n",
    "essential_genes[\"Gene\"]=essential_genes[\"Gene\"].str.replace(\" \",\"\")\n",
    "essential_gene_list=essential_genes[\"Gene\"].tolist()\n",
    "\n",
    "rs3val_zscores[\"is_essential\"]=rs3val_zscores[\"On-target Gene Symbols\"].isin(essential_gene_list)\n",
    "rs3val_zscores[\"is_nonessential\"]=rs3val_zscores[\"On-target Gene Symbols\"].isin(noness_gene_list)\n",
    "\n",
    "print(\"# essential:\",len(rs3val_zscores[rs3val_zscores[\"is_essential\"]]))\n",
    "print(\"# nonessential:\",len(rs3val_zscores[rs3val_zscores[\"is_nonessential\"]]))"
   ]
  },
  {
   "cell_type": "markdown",
   "id": "ae38d3e0-4e17-4d25-919b-6cf11731153b",
   "metadata": {},
   "source": [
    "### Merge screen data with libraries"
   ]
  },
  {
   "cell_type": "code",
   "execution_count": 14,
   "id": "cf8958a7-7f2d-40b5-ad5b-e3dcd4caf415",
   "metadata": {},
   "outputs": [],
   "source": [
    "gecko_with_z_scores=rs3val_zscores[rs3val_zscores[\"sgRNA Sequence\"].isin(gecko_guides)].reset_index(drop=True)\n",
    "gene_avg_z_gecko = (gecko_with_z_scores.groupby(['On-target Gene Symbols',\"is_essential\",\"is_nonessential\"])\n",
    "                     .agg(mean_z = ('z_scored_sgRNA_lfc', 'mean'),\n",
    "                          n_sgrnas = ('z_scored_sgRNA_lfc', 'count'))\n",
    "                     .reset_index())\n",
    "\n",
    "avana_with_z_scores=rs3val_zscores[rs3val_zscores[\"sgRNA Sequence\"].isin(avana_guides)].reset_index(drop=True)\n",
    "gene_avg_z_avana = (avana_with_z_scores.groupby(['On-target Gene Symbols',\"is_essential\",\"is_nonessential\"])\n",
    "                     .agg(mean_z = ('z_scored_sgRNA_lfc', 'mean'),\n",
    "                          n_sgrnas = ('z_scored_sgRNA_lfc', 'count'))\n",
    "                     .reset_index())\n",
    "\n",
    "brunello_with_z_scores=rs3val_zscores[rs3val_zscores[\"sgRNA Sequence\"].isin(brunello_guides)].reset_index(drop=True)\n",
    "gene_avg_z_brunello = (brunello_with_z_scores.groupby(['On-target Gene Symbols',\"is_essential\",\"is_nonessential\"])\n",
    "                     .agg(mean_z = ('z_scored_sgRNA_lfc', 'mean'),\n",
    "                          n_sgrnas = ('z_scored_sgRNA_lfc', 'count'))\n",
    "                     .reset_index())\n",
    "\n",
    "hsangerv1_with_z_scores=rs3val_zscores[rs3val_zscores[\"sgRNA Sequence\"].isin(hsangerv1_guides)].reset_index(drop=True)\n",
    "gene_avg_z_hsangerv1 = (hsangerv1_with_z_scores.groupby(['On-target Gene Symbols',\"is_essential\",\"is_nonessential\"])\n",
    "                     .agg(mean_z = ('z_scored_sgRNA_lfc', 'mean'),\n",
    "                          n_sgrnas = ('z_scored_sgRNA_lfc', 'count'))\n",
    "                     .reset_index())\n",
    "\n",
    "tkov3_with_z_scores=rs3val_zscores[rs3val_zscores[\"sgRNA Sequence\"].isin(tkov3_guides)].reset_index(drop=True)\n",
    "gene_avg_z_tkov3 = (tkov3_with_z_scores.groupby(['On-target Gene Symbols',\"is_essential\",\"is_nonessential\"])\n",
    "                     .agg(mean_z = ('z_scored_sgRNA_lfc', 'mean'),\n",
    "                          n_sgrnas = ('z_scored_sgRNA_lfc', 'count'))\n",
    "                     .reset_index())\n",
    "\n",
    "\n",
    "gattinara_with_z_scores=rs3val_zscores[rs3val_zscores[\"sgRNA Sequence\"].isin(gattinara_guides)].reset_index(drop=True)\n",
    "gene_avg_z_gattinara = (gattinara_with_z_scores.groupby(['On-target Gene Symbols',\"is_essential\",\"is_nonessential\"])\n",
    "                     .agg(mean_z = ('z_scored_sgRNA_lfc', 'mean'),\n",
    "                          n_sgrnas = ('z_scored_sgRNA_lfc', 'count'))\n",
    "                     .reset_index())\n",
    "\n",
    "vbc_with_z_scores=rs3val_zscores[rs3val_zscores[\"sgRNA Sequence\"].isin(vbc_guides)].reset_index(drop=True)\n",
    "gene_avg_z_vbc = (vbc_with_z_scores.groupby(['On-target Gene Symbols',\"is_essential\",\"is_nonessential\"])\n",
    "                     .agg(mean_z = ('z_scored_sgRNA_lfc', 'mean'),\n",
    "                          n_sgrnas = ('z_scored_sgRNA_lfc', 'count'))\n",
    "                     .reset_index())\n",
    "\n",
    "minlibcas9_with_z_scores=rs3val_zscores[rs3val_zscores[\"sgRNA Sequence\"].isin(minlibcas9_guides)].reset_index(drop=True)\n",
    "gene_avg_z_minlibcas9 = (minlibcas9_with_z_scores.groupby(['On-target Gene Symbols',\"is_essential\",\"is_nonessential\"])\n",
    "                     .agg(mean_z = ('z_scored_sgRNA_lfc', 'mean'),\n",
    "                          n_sgrnas = ('z_scored_sgRNA_lfc', 'count'))\n",
    "                     .reset_index())\n",
    "\n",
    "jacquere_with_z_scores=rs3val_zscores[rs3val_zscores[\"sgRNA Sequence\"].isin(jacquere_guides)].reset_index(drop=True)\n",
    "gene_avg_z_jacquere = (jacquere_with_z_scores.groupby(['On-target Gene Symbols',\"is_essential\",\"is_nonessential\"])\n",
    "                     .agg(mean_z = ('z_scored_sgRNA_lfc', 'mean'),\n",
    "                          n_sgrnas = ('z_scored_sgRNA_lfc', 'count'))\n",
    "                     .reset_index())\n"
   ]
  },
  {
   "cell_type": "markdown",
   "id": "617fb161-18eb-483c-a117-cce9fbd53f9f",
   "metadata": {},
   "source": [
    "Get # nonessential-targeting guides in each library that do not deplete"
   ]
  },
  {
   "cell_type": "code",
   "execution_count": 15,
   "id": "f9ff1f0c-1c20-4e4b-9849-3d928e8cb5bf",
   "metadata": {},
   "outputs": [],
   "source": [
    "gene_avg_z_gecko_nonessentials=gene_avg_z_gecko[gene_avg_z_gecko[\"is_nonessential\"]].reset_index(drop=True)\n",
    "gene_avg_z_gecko_nonessentials[\"z>-2\"]=gene_avg_z_gecko_nonessentials[\"mean_z\"]>-2\n",
    "gene_avg_z_gecko_nonessentials[\"z>-3\"]=gene_avg_z_gecko_nonessentials[\"mean_z\"]>-3\n",
    "gene_avg_z_gecko_nonessentials[\"z>-4\"]=gene_avg_z_gecko_nonessentials[\"mean_z\"]>-4\n",
    "gecko_FNR_zneg2=len(gene_avg_z_gecko_nonessentials[gene_avg_z_gecko_nonessentials[\"z>-2\"]==False])/len(gene_avg_z_gecko_nonessentials)\n",
    "gecko_FNR_zneg3=len(gene_avg_z_gecko_nonessentials[gene_avg_z_gecko_nonessentials[\"z>-3\"]==False])/len(gene_avg_z_gecko_nonessentials)\n",
    "gecko_FNR_zneg4=len(gene_avg_z_gecko_nonessentials[gene_avg_z_gecko_nonessentials[\"z>-4\"]==False])/len(gene_avg_z_gecko_nonessentials)\n",
    "\n",
    "\n",
    "gene_avg_z_avana_nonessentials=gene_avg_z_avana[gene_avg_z_avana[\"is_nonessential\"]].reset_index(drop=True)\n",
    "gene_avg_z_avana_nonessentials[\"z>-2\"]=gene_avg_z_avana_nonessentials[\"mean_z\"]>-2\n",
    "gene_avg_z_avana_nonessentials[\"z>-3\"]=gene_avg_z_avana_nonessentials[\"mean_z\"]>-3\n",
    "gene_avg_z_avana_nonessentials[\"z>-4\"]=gene_avg_z_avana_nonessentials[\"mean_z\"]>-4\n",
    "avana_FNR_zneg2=len(gene_avg_z_avana_nonessentials[gene_avg_z_avana_nonessentials[\"z>-2\"]==False])/len(gene_avg_z_avana_nonessentials)\n",
    "avana_FNR_zneg3=len(gene_avg_z_avana_nonessentials[gene_avg_z_avana_nonessentials[\"z>-3\"]==False])/len(gene_avg_z_avana_nonessentials)\n",
    "avana_FNR_zneg4=len(gene_avg_z_avana_nonessentials[gene_avg_z_avana_nonessentials[\"z>-4\"]==False])/len(gene_avg_z_avana_nonessentials)\n",
    "\n",
    "gene_avg_z_hsangerv1_nonessentials=gene_avg_z_hsangerv1[gene_avg_z_hsangerv1[\"is_nonessential\"]].reset_index(drop=True)\n",
    "gene_avg_z_hsangerv1_nonessentials[\"z>-2\"]=gene_avg_z_hsangerv1_nonessentials[\"mean_z\"]>-2\n",
    "gene_avg_z_hsangerv1_nonessentials[\"z>-3\"]=gene_avg_z_hsangerv1_nonessentials[\"mean_z\"]>-3\n",
    "gene_avg_z_hsangerv1_nonessentials[\"z>-4\"]=gene_avg_z_hsangerv1_nonessentials[\"mean_z\"]>-4\n",
    "hsangerv1_FNR_zneg2=len(gene_avg_z_hsangerv1_nonessentials[gene_avg_z_hsangerv1_nonessentials[\"z>-2\"]==False])/len(gene_avg_z_hsangerv1_nonessentials)\n",
    "hsangerv1_FNR_zneg3=len(gene_avg_z_hsangerv1_nonessentials[gene_avg_z_hsangerv1_nonessentials[\"z>-3\"]==False])/len(gene_avg_z_hsangerv1_nonessentials)\n",
    "hsangerv1_FNR_zneg4=len(gene_avg_z_hsangerv1_nonessentials[gene_avg_z_hsangerv1_nonessentials[\"z>-4\"]==False])/len(gene_avg_z_hsangerv1_nonessentials)\n",
    "\n",
    "\n",
    "gene_avg_z_brunello_nonessentials=gene_avg_z_brunello[gene_avg_z_brunello[\"is_nonessential\"]].reset_index(drop=True)\n",
    "gene_avg_z_brunello_nonessentials[\"z>-2\"]=gene_avg_z_brunello_nonessentials[\"mean_z\"]>-2\n",
    "gene_avg_z_brunello_nonessentials[\"z>-3\"]=gene_avg_z_brunello_nonessentials[\"mean_z\"]>-3\n",
    "gene_avg_z_brunello_nonessentials[\"z>-4\"]=gene_avg_z_brunello_nonessentials[\"mean_z\"]>-4\n",
    "brunello_FNR_zneg2=len(gene_avg_z_brunello_nonessentials[gene_avg_z_brunello_nonessentials[\"z>-2\"]==False])/len(gene_avg_z_brunello_nonessentials)\n",
    "brunello_FNR_zneg3=len(gene_avg_z_brunello_nonessentials[gene_avg_z_brunello_nonessentials[\"z>-3\"]==False])/len(gene_avg_z_brunello_nonessentials)\n",
    "brunello_FNR_zneg4=len(gene_avg_z_brunello_nonessentials[gene_avg_z_brunello_nonessentials[\"z>-4\"]==False])/len(gene_avg_z_brunello_nonessentials)\n",
    "\n",
    "gene_avg_z_tkov3_nonessentials=gene_avg_z_tkov3[gene_avg_z_tkov3[\"is_nonessential\"]].reset_index(drop=True)\n",
    "gene_avg_z_tkov3_nonessentials[\"z>-2\"]=gene_avg_z_tkov3_nonessentials[\"mean_z\"]>-2\n",
    "gene_avg_z_tkov3_nonessentials[\"z>-3\"]=gene_avg_z_tkov3_nonessentials[\"mean_z\"]>-3\n",
    "gene_avg_z_tkov3_nonessentials[\"z>-4\"]=gene_avg_z_tkov3_nonessentials[\"mean_z\"]>-4\n",
    "tkov3_FNR_zneg2=len(gene_avg_z_tkov3_nonessentials[gene_avg_z_tkov3_nonessentials[\"z>-2\"]==False])/len(gene_avg_z_tkov3_nonessentials)\n",
    "tkov3_FNR_zneg3=len(gene_avg_z_tkov3_nonessentials[gene_avg_z_tkov3_nonessentials[\"z>-3\"]==False])/len(gene_avg_z_tkov3_nonessentials)\n",
    "tkov3_FNR_zneg4=len(gene_avg_z_tkov3_nonessentials[gene_avg_z_tkov3_nonessentials[\"z>-4\"]==False])/len(gene_avg_z_tkov3_nonessentials)\n",
    "\n",
    "gene_avg_z_gattinara_nonessentials=gene_avg_z_gattinara[gene_avg_z_gattinara[\"is_nonessential\"]].reset_index(drop=True)\n",
    "gene_avg_z_gattinara_nonessentials[\"z>-2\"]=gene_avg_z_gattinara_nonessentials[\"mean_z\"]>-2\n",
    "gene_avg_z_gattinara_nonessentials[\"z>-3\"]=gene_avg_z_gattinara_nonessentials[\"mean_z\"]>-3\n",
    "gene_avg_z_gattinara_nonessentials[\"z>-4\"]=gene_avg_z_gattinara_nonessentials[\"mean_z\"]>-4\n",
    "gattinara_FNR_zneg2=len(gene_avg_z_gattinara_nonessentials[gene_avg_z_gattinara_nonessentials[\"z>-2\"]==False])/len(gene_avg_z_gattinara_nonessentials)\n",
    "gattinara_FNR_zneg3=len(gene_avg_z_gattinara_nonessentials[gene_avg_z_gattinara_nonessentials[\"z>-3\"]==False])/len(gene_avg_z_gattinara_nonessentials)\n",
    "gattinara_FNR_zneg4=len(gene_avg_z_gattinara_nonessentials[gene_avg_z_gattinara_nonessentials[\"z>-4\"]==False])/len(gene_avg_z_gattinara_nonessentials)\n",
    "\n",
    "gene_avg_z_vbc_nonessentials=gene_avg_z_vbc[gene_avg_z_vbc[\"is_nonessential\"]].reset_index(drop=True)\n",
    "gene_avg_z_vbc_nonessentials[\"z>-2\"]=gene_avg_z_vbc_nonessentials[\"mean_z\"]>-2\n",
    "gene_avg_z_vbc_nonessentials[\"z>-3\"]=gene_avg_z_vbc_nonessentials[\"mean_z\"]>-3\n",
    "gene_avg_z_vbc_nonessentials[\"z>-4\"]=gene_avg_z_vbc_nonessentials[\"mean_z\"]>-4\n",
    "vbc_FNR_zneg2=len(gene_avg_z_vbc_nonessentials[gene_avg_z_vbc_nonessentials[\"z>-2\"]==False])/len(gene_avg_z_vbc_nonessentials)\n",
    "vbc_FNR_zneg3=len(gene_avg_z_vbc_nonessentials[gene_avg_z_vbc_nonessentials[\"z>-3\"]==False])/len(gene_avg_z_vbc_nonessentials)\n",
    "vbc_FNR_zneg4=len(gene_avg_z_vbc_nonessentials[gene_avg_z_vbc_nonessentials[\"z>-4\"]==False])/len(gene_avg_z_vbc_nonessentials)\n",
    "\n",
    "gene_avg_z_minlibcas9_nonessentials=gene_avg_z_minlibcas9[gene_avg_z_minlibcas9[\"is_nonessential\"]].reset_index(drop=True)\n",
    "gene_avg_z_minlibcas9_nonessentials[\"z>-2\"]=gene_avg_z_minlibcas9_nonessentials[\"mean_z\"]>-2\n",
    "gene_avg_z_minlibcas9_nonessentials[\"z>-3\"]=gene_avg_z_minlibcas9_nonessentials[\"mean_z\"]>-3\n",
    "gene_avg_z_minlibcas9_nonessentials[\"z>-4\"]=gene_avg_z_minlibcas9_nonessentials[\"mean_z\"]>-4\n",
    "minlibcas9_FNR_zneg2=len(gene_avg_z_minlibcas9_nonessentials[gene_avg_z_minlibcas9_nonessentials[\"z>-2\"]==False])/len(gene_avg_z_minlibcas9_nonessentials)\n",
    "minlibcas9_FNR_zneg3=len(gene_avg_z_minlibcas9_nonessentials[gene_avg_z_minlibcas9_nonessentials[\"z>-3\"]==False])/len(gene_avg_z_minlibcas9_nonessentials)\n",
    "minlibcas9_FNR_zneg4=len(gene_avg_z_minlibcas9_nonessentials[gene_avg_z_minlibcas9_nonessentials[\"z>-4\"]==False])/len(gene_avg_z_minlibcas9_nonessentials)\n",
    "\n",
    "gene_avg_z_jacquere_nonessentials=gene_avg_z_jacquere[gene_avg_z_jacquere[\"is_nonessential\"]].reset_index(drop=True)\n",
    "gene_avg_z_jacquere_nonessentials[\"z>-2\"]=gene_avg_z_jacquere_nonessentials[\"mean_z\"]>-2\n",
    "gene_avg_z_jacquere_nonessentials[\"z>-3\"]=gene_avg_z_jacquere_nonessentials[\"mean_z\"]>-3\n",
    "gene_avg_z_jacquere_nonessentials[\"z>-4\"]=gene_avg_z_jacquere_nonessentials[\"mean_z\"]>-4\n",
    "jacquere_FNR_zneg2=len(gene_avg_z_jacquere_nonessentials[gene_avg_z_jacquere_nonessentials[\"z>-2\"]==False])/len(gene_avg_z_jacquere_nonessentials)\n",
    "jacquere_FNR_zneg3=len(gene_avg_z_jacquere_nonessentials[gene_avg_z_jacquere_nonessentials[\"z>-3\"]==False])/len(gene_avg_z_jacquere_nonessentials)\n",
    "jacquere_FNR_zneg4=len(gene_avg_z_jacquere_nonessentials[gene_avg_z_jacquere_nonessentials[\"z>-4\"]==False])/len(gene_avg_z_jacquere_nonessentials)\n",
    "\n",
    "\n",
    "\n"
   ]
  },
  {
   "cell_type": "code",
   "execution_count": 16,
   "id": "c2856110-5ed9-415e-9057-982aae959bad",
   "metadata": {},
   "outputs": [
    {
     "data": {
      "text/html": [
       "<div>\n",
       "<style scoped>\n",
       "    .dataframe tbody tr th:only-of-type {\n",
       "        vertical-align: middle;\n",
       "    }\n",
       "\n",
       "    .dataframe tbody tr th {\n",
       "        vertical-align: top;\n",
       "    }\n",
       "\n",
       "    .dataframe thead th {\n",
       "        text-align: right;\n",
       "    }\n",
       "</style>\n",
       "<table border=\"1\" class=\"dataframe\">\n",
       "  <thead>\n",
       "    <tr style=\"text-align: right;\">\n",
       "      <th></th>\n",
       "      <th>Z&gt;-2</th>\n",
       "      <th>Z&gt;-3</th>\n",
       "      <th>Z&gt;-4</th>\n",
       "    </tr>\n",
       "  </thead>\n",
       "  <tbody>\n",
       "    <tr>\n",
       "      <th>GeCKOv2</th>\n",
       "      <td>1</td>\n",
       "      <td>0</td>\n",
       "      <td>0</td>\n",
       "    </tr>\n",
       "    <tr>\n",
       "      <th>Avana</th>\n",
       "      <td>4</td>\n",
       "      <td>1</td>\n",
       "      <td>0</td>\n",
       "    </tr>\n",
       "    <tr>\n",
       "      <th>Brunello</th>\n",
       "      <td>1</td>\n",
       "      <td>0</td>\n",
       "      <td>0</td>\n",
       "    </tr>\n",
       "    <tr>\n",
       "      <th>Proj.Score</th>\n",
       "      <td>0</td>\n",
       "      <td>0</td>\n",
       "      <td>0</td>\n",
       "    </tr>\n",
       "    <tr>\n",
       "      <th>TKOv3</th>\n",
       "      <td>0</td>\n",
       "      <td>0</td>\n",
       "      <td>0</td>\n",
       "    </tr>\n",
       "    <tr>\n",
       "      <th>Gattinara</th>\n",
       "      <td>4</td>\n",
       "      <td>2</td>\n",
       "      <td>1</td>\n",
       "    </tr>\n",
       "    <tr>\n",
       "      <th>VBC</th>\n",
       "      <td>0</td>\n",
       "      <td>0</td>\n",
       "      <td>0</td>\n",
       "    </tr>\n",
       "    <tr>\n",
       "      <th>MinLib</th>\n",
       "      <td>3</td>\n",
       "      <td>1</td>\n",
       "      <td>0</td>\n",
       "    </tr>\n",
       "    <tr>\n",
       "      <th>Jacquere</th>\n",
       "      <td>3</td>\n",
       "      <td>1</td>\n",
       "      <td>0</td>\n",
       "    </tr>\n",
       "  </tbody>\n",
       "</table>\n",
       "</div>"
      ],
      "text/plain": [
       "            Z>-2  Z>-3  Z>-4\n",
       "GeCKOv2        1     0     0\n",
       "Avana          4     1     0\n",
       "Brunello       1     0     0\n",
       "Proj.Score     0     0     0\n",
       "TKOv3          0     0     0\n",
       "Gattinara      4     2     1\n",
       "VBC            0     0     0\n",
       "MinLib         3     1     0\n",
       "Jacquere       3     1     0"
      ]
     },
     "execution_count": 16,
     "metadata": {},
     "output_type": "execute_result"
    }
   ],
   "source": [
    "library_labels=[\"GeCKOv2\",\n",
    "                \"Avana\",\n",
    "                \"Brunello\",\n",
    "                \"Proj.Score\",\n",
    "                \"TKOv3\",\n",
    "                \"Gattinara\",\n",
    "                \"VBC\",\n",
    "                \"MinLib\",\n",
    "                \"Jacquere\"]\n",
    "FPR_df=pd.DataFrame({\"Z>-2\":[gecko_FNR_zneg2,avana_FNR_zneg2,brunello_FNR_zneg2,hsangerv1_FNR_zneg2,tkov3_FNR_zneg2,gattinara_FNR_zneg2,vbc_FNR_zneg2,minlibcas9_FNR_zneg2,jacquere_FNR_zneg2],\n",
    "             \"Z>-3\":[gecko_FNR_zneg3,avana_FNR_zneg3,brunello_FNR_zneg3,hsangerv1_FNR_zneg3,tkov3_FNR_zneg3,gattinara_FNR_zneg3,vbc_FNR_zneg3,minlibcas9_FNR_zneg3,jacquere_FNR_zneg3],\n",
    "              \"Z>-4\":[gecko_FNR_zneg4,avana_FNR_zneg4,brunello_FNR_zneg4,hsangerv1_FNR_zneg4,tkov3_FNR_zneg4,gattinara_FNR_zneg4,vbc_FNR_zneg4,minlibcas9_FNR_zneg4,jacquere_FNR_zneg4]\n",
    "             },index=library_labels)\n",
    "FPR_df=FPR_df.multiply(100).astype(int) #convert decimals to percentages\n",
    "FPR_df"
   ]
  },
  {
   "cell_type": "code",
   "execution_count": 17,
   "id": "731f55ba-26d8-4873-9d40-ba0404efa947",
   "metadata": {},
   "outputs": [
    {
     "data": {
      "text/plain": [
       "(0.0, 100.0)"
      ]
     },
     "execution_count": 17,
     "metadata": {},
     "output_type": "execute_result"
    },
    {
     "data": {
      "image/png": "[encoded data removed]",
      "text/plain": [
       "<Figure size 1000x500 with 1 Axes>"
      ]
     },
     "metadata": {},
     "output_type": "display_data"
    }
   ],
   "source": [
    "x = np.arange(0,9,3)  # the label locations\n",
    "width = 0.25  # the width of the bars\n",
    "multiplier = 0\n",
    "\n",
    "fig, ax = plt.subplots(layout='constrained',figsize=(10,5))\n",
    "ax.set_prop_cycle(cycler('color', plt.cm.Set3.colors))\n",
    "\n",
    "for library, zcutoff in FPR_df[[\"Z>-4\",\"Z>-3\",\"Z>-2\"]].transpose().items():\n",
    "    offset = width * multiplier\n",
    "    rects = ax.bar(x + offset, zcutoff, width, label=library)\n",
    "    ax.bar_label(rects, padding=8)\n",
    "    multiplier += 1\n",
    "\n",
    "# Add some text for labels, title and custom x-axis tick labels, etc.\n",
    "ax.set_ylabel('% of nonessential genes depleted',fontsize=16)\n",
    "ax.set_xlabel(\"Guide average Z-score cutoff to classify gene as depleted\",fontsize=16)\n",
    "ax.set_title('False Positive Rate across CRISPRko Cas9 libraries (DeWeirdt 2022 Tiling)',fontsize=16)\n",
    "ax.set_xticks(x + 0.75,[\"Z>-4\",\"Z>-3\",\"Z>-2\"],fontsize=14)\n",
    "ax.legend(fontsize=14)\n",
    "ax.set_yticks([])\n",
    "ax.set_ylim([0,100])\n"
   ]
  }
 ],
 "metadata": {
  "kernelspec": {
   "display_name": "Python 3 (ipykernel)",
   "language": "python",
   "name": "python3"
  },
  "language_info": {
   "codemirror_mode": {
    "name": "ipython",
    "version": 3
   },
   "file_extension": ".py",
   "mimetype": "text/x-python",
   "name": "python",
   "nbconvert_exporter": "python",
   "pygments_lexer": "ipython3",
   "version": "3.13.0"
  }
 },
 "nbformat": 4,
 "nbformat_minor": 5
}
