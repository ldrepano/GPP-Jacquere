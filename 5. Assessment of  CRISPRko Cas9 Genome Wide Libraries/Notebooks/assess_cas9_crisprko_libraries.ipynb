{
 "cells": [
  {
   "cell_type": "code",
   "execution_count": 1,
   "id": "b128773d",
   "metadata": {},
   "outputs": [],
   "source": [
    "import pandas as pd\n",
    "import seaborn as sns\n",
    "import matplotlib.pyplot as plt\n",
    "import numpy as np\n",
    "import gpplot as gpp\n",
    "from scipy.stats import normaltest\n",
    "\n",
    "\n",
    "gpp.set_aesthetics(context = 'paper')"
   ]
  },
  {
   "cell_type": "markdown",
   "id": "d3066f4c-07f5-4c29-b2e3-41856d599b9a",
   "metadata": {},
   "source": [
    "Overall comparison between Jacquere (at 3 guides per gene) to existing CRISPRko Cas9 Genome Wide libraries."
   ]
  },
  {
   "cell_type": "code",
   "execution_count": 2,
   "id": "ee7b77c8-ac9d-45ed-83d4-5a7141b53623",
   "metadata": {},
   "outputs": [],
   "source": [
    "path_to_annotations=\"../Data/GENCODE47 Mappings of CRISPRko Cas9 Genome Wide Libraries/\"\n",
    "\n",
    "library_labels=[\"GeCKOv2\",\n",
    "                \"Avana\",\n",
    "                \"Brunello\",\n",
    "                \"Proj.Score\",\n",
    "                \"TKOv3\",\n",
    "                \"Gattinara\",\n",
    "                \"VBC\",\n",
    "                \"MinLib\",\n",
    "                \"Jacquere\"]\n"
   ]
  },
  {
   "cell_type": "markdown",
   "id": "b00b2b20-5e67-40ef-979a-575a549f4463",
   "metadata": {},
   "source": [
    "## GENCODE47 coverage \n",
    "Assess the coverage of GENCODE47 offered by various Genome Wide CRISPRko Cas9 libraries by identifying the % of GENCODE47 genes to which 0 guides map from each.\n",
    "\n",
    "Guide sequences for each library are retrieved from files in the \"Original Annotations of CRISPRko Cas9 Genome Wide Libraries\" Data folder.\n",
    "\n",
    "To retrieve guide mappings in GENCODE 47, guide sequences are inserted into a GPP Internal LIMS tool. \n"
   ]
  },
  {
   "cell_type": "markdown",
   "id": "a846c088-f077-40f9-b3d1-32404094f3b4",
   "metadata": {},
   "source": [
    "GeCKO v2 (2014): 6 guides/gene"
   ]
  },
  {
   "cell_type": "code",
   "execution_count": 3,
   "id": "659aff6a-6d46-4a66-a35f-bc070cf2d6f0",
   "metadata": {},
   "outputs": [],
   "source": [
    "gecko_a=pd.read_csv(path_to_annotations+\"gecko_a_adhoc_sgRNA_disco_GRCh38_Ensembl_SpyoCas9Ko_strict.csv\")\n",
    "gecko_b=pd.read_csv(path_to_annotations+\"gecko_b_adhoc_sgRNA_disco_GRCh38_Ensembl_SpyoCas9Ko_strict.csv\")\n",
    "gecko=pd.concat([gecko_a,gecko_b])"
   ]
  },
  {
   "cell_type": "markdown",
   "id": "9063f46b-f411-48fe-95d1-c7ac1e3682fe",
   "metadata": {},
   "source": [
    "Avana (2016): \n",
    "4 guides/gene screened for DepMap. Downloaded from [DepMap](https://depmap.org/portal/data_page/?tab=allData&releasename=DepMap+Public+24Q4&filename=AvanaGuideMap.csv)"
   ]
  },
  {
   "cell_type": "code",
   "execution_count": 4,
   "id": "81348cfd-b74a-43c9-befd-be6fa2f48fa6",
   "metadata": {},
   "outputs": [],
   "source": [
    "avana=pd.read_csv(path_to_annotations+\"avana_adhoc_sgRNA_disco_GRCh38_Ensembl_SpyoCas9Ko_strict.csv\")"
   ]
  },
  {
   "cell_type": "markdown",
   "id": "a7d95f50-12cf-4c29-8658-fb59a59cff83",
   "metadata": {},
   "source": [
    "Brunello (2016)\n"
   ]
  },
  {
   "cell_type": "code",
   "execution_count": 5,
   "id": "4772ec18-8819-4db8-849d-d086d6d4d259",
   "metadata": {},
   "outputs": [],
   "source": [
    "brunello=pd.read_csv(path_to_annotations+\"brunello_adhoc_sgRNA_disco_GRCh38_Ensembl_SpyoCas9Ko_strict.csv\")"
   ]
  },
  {
   "cell_type": "markdown",
   "id": "4080e6c0-426f-4288-b0e7-32763e2c836c",
   "metadata": {},
   "source": [
    "Human Sanger Genome Wide Library v1 (2016)\n",
    "\n",
    "human genome-wide CRISPR library (v1) consisting of 90,709 gRNAs targeting a total of 18,010 genes. From [Tzelepis 2016](https://pmc.ncbi.nlm.nih.gov/articles/PMC5081405/#mmc2), used for [Project Score](https://score.depmap.sanger.ac.uk/documentation) \n",
    "\n",
    "note: I manually curated the projscore.csv file from the MinLibCas9 github MasterLib_v1 [file](https://github.com/EmanuelGoncalves/crispy/blob/master/notebooks/minlib/libraries/MasterLib_v1.csv.gz) to be 20 nt long"
   ]
  },
  {
   "cell_type": "code",
   "execution_count": 6,
   "id": "d342fe2c-1e9a-4a4c-8782-6ec6bfd21a22",
   "metadata": {},
   "outputs": [],
   "source": [
    "projscore=pd.read_csv(path_to_annotations+\"hsangerv1_adhoc_sgRNA_disco_GRCh38_Ensembl_SpyoCas9Ko_strict.csv\")"
   ]
  },
  {
   "cell_type": "markdown",
   "id": "6cb817aa",
   "metadata": {},
   "source": [
    "TKOv3 (2017)\n",
    "[source paper](https://academic.oup.com/g3journal/article/7/8/2719/6031511?login=true)\n",
    "70,948 gRNAs targeting 18,053 protein-coding genes (up to 4 sgRNA/gene)"
   ]
  },
  {
   "cell_type": "code",
   "execution_count": 7,
   "id": "d5e5c215-590f-44b6-983c-5c09499f96c2",
   "metadata": {},
   "outputs": [],
   "source": [
    "tkov3=pd.read_csv(path_to_annotations+\"tkov3_adhoc_sgRNA_disco_GRCh38_Ensembl_SpyoCas9Ko_strict.csv\")"
   ]
  },
  {
   "cell_type": "markdown",
   "id": "3d3398b6-1b70-440e-abfc-ac5642fa83a2",
   "metadata": {},
   "source": [
    "Gattinara (2018)"
   ]
  },
  {
   "cell_type": "code",
   "execution_count": 8,
   "id": "3e4ac0b0-300f-4ba9-ab08-584a8e43564f",
   "metadata": {},
   "outputs": [],
   "source": [
    "gattinara=pd.read_csv(path_to_annotations+\"gattinara_adhoc_sgRNA_disco_GRCh38_Ensembl_SpyoCas9Ko_strict.csv\")"
   ]
  },
  {
   "cell_type": "markdown",
   "id": "6678716d-7bd4-47a3-b13f-86da60792bbb",
   "metadata": {},
   "source": [
    "VBC (2020) reports the 6 guides per gene with the top [VBC activity scores](https://www.nature.com/articles/s41592-020-0850-8) . Retrieved from vbc-score.org"
   ]
  },
  {
   "cell_type": "code",
   "execution_count": 9,
   "id": "e2e06553-a464-449d-ade3-e339d95b3010",
   "metadata": {},
   "outputs": [],
   "source": [
    "vbc=pd.read_csv(path_to_annotations+\"vbc_adhoc_sgRNA_disco_GRCh38_Ensembl_SpyoCas9Ko_strict.csv\")"
   ]
  },
  {
   "cell_type": "markdown",
   "id": "f8b0c71f-c84f-499b-8550-17e7c5f93538",
   "metadata": {},
   "source": [
    "MinLibCas9 (2021)\n",
    "[source: Goncalves et al 2021](https://genomebiology.biomedcentral.com/articles/10.1186/s13059-021-02268-4#Sec15)\n",
    "covers 18,761 protein-coding genes with 37,522 sgRNAs (33,986 Project Score; 1732 Brunello; 1493 Avana and 311 TKOv3). Preferentially selected guides with demonstrated activity in Project Score data."
   ]
  },
  {
   "cell_type": "code",
   "execution_count": 10,
   "id": "08cef5a8-7694-4bf5-90e2-44e2529afeeb",
   "metadata": {},
   "outputs": [],
   "source": [
    "minlibcas9=pd.read_csv(path_to_annotations+\"minlibcas9_adhoc_sgRNA_disco_GRCh38_Ensembl_SpyoCas9Ko_strict.csv\")"
   ]
  },
  {
   "cell_type": "markdown",
   "id": "78536609-d41d-4c54-811e-b37662eb0184",
   "metadata": {},
   "source": [
    "Jacquere (2025)"
   ]
  },
  {
   "cell_type": "code",
   "execution_count": 11,
   "id": "7454ebec-6904-47a8-b81a-3f92f5039f2a",
   "metadata": {},
   "outputs": [],
   "source": [
    "jacquere= pd.read_csv(path_to_annotations+\"jacquere_quota3_adhoc_sgRNA_disco_GRCh38_Ensembl_SpyoCas9Ko_strict.csv\")"
   ]
  },
  {
   "cell_type": "markdown",
   "id": "5e145911-c852-4f98-8a2a-cdb8bd86472e",
   "metadata": {},
   "source": [
    "I acquired all protein coding genes in Ensembl.v113 (which reflects GENCODE47) by doing a CRISPick run of all protein coding genes. \n",
    "I copied this list as input to HGNC when determining target annotations for Jacquere, so acquiring the list from that file. "
   ]
  },
  {
   "cell_type": "code",
   "execution_count": 12,
   "id": "56368dbf-0941-4b6b-9a99-ed5c4b5f7acc",
   "metadata": {},
   "outputs": [
    {
     "name": "stderr",
     "output_type": "stream",
     "text": [
      "/var/folders/nm/6_wl7tx50tq5bqfp8vzf4m6r0000gq/T/ipykernel_96097/2415063469.py:1: DtypeWarning: Columns (27,29,30,31) have mixed types. Specify dtype option on import or set low_memory=False.\n",
      "  gencode47_allproteincoding= pd.read_table(\"../../4. Jacquere Design/Data/ensembl_113_protein_coding_aggcfd_targetlocal-sgrna-designs.txt\")\n"
     ]
    }
   ],
   "source": [
    "gencode47_allproteincoding= pd.read_table(\"../../4. Jacquere Design/Data/ensembl_113_protein_coding_aggcfd_targetlocal-sgrna-designs.txt\")\n",
    "gencode47_allproteincoding=gencode47_allproteincoding.drop_duplicates(subset=\"Target Gene ID\",keep=\"first\")[[\"Target Gene Symbol\"]].dropna()\n"
   ]
  },
  {
   "cell_type": "code",
   "execution_count": 13,
   "id": "8d24f2b9-7b24-4def-85b3-d6483994c096",
   "metadata": {},
   "outputs": [],
   "source": [
    "#file to get count of guides targeting each ensembl gene from indicated library (guides mapped with LIMS tool)\n",
    "def get_unique_genes_targeted(LIMSfile,library):\n",
    "    LIMSfile[\"Target Gene Symbol\"]=LIMSfile[\"On-target Gene Symbols\"].str.split(\",\")\n",
    "    LIMSfile_long=LIMSfile.explode(\"Target Gene Symbol\")\n",
    "    LIMSfile_genecounts=pd.DataFrame(LIMSfile_long[\"Target Gene Symbol\"].value_counts()).reset_index()\n",
    "    LIMSfile_genecounts=LIMSfile_genecounts.rename(columns={ \"count\":library})\n",
    "    return LIMSfile_genecounts\n",
    "\n",
    "gecko_counts=get_unique_genes_targeted(gecko,\"gecko\")\n",
    "avana_counts=get_unique_genes_targeted(avana,\"avana\")\n",
    "brunello_counts=get_unique_genes_targeted(brunello,\"brunello\")\n",
    "projscore_counts=get_unique_genes_targeted(projscore,\"projscore\")\n",
    "tkov3_counts=get_unique_genes_targeted(tkov3,\"tkov3\")\n",
    "gattinara_counts=get_unique_genes_targeted(gattinara,\"gattinara\")\n",
    "vbc_counts=get_unique_genes_targeted(vbc,\"vbc\")\n",
    "minlibcas9_counts=get_unique_genes_targeted(minlibcas9,\"minlibcas9\")\n",
    "jacquere_counts=get_unique_genes_targeted(jacquere,\"jacquere\")"
   ]
  },
  {
   "cell_type": "code",
   "execution_count": 14,
   "id": "bc0fc041",
   "metadata": {},
   "outputs": [
    {
     "data": {
      "text/html": [
       "<div>\n",
       "<style scoped>\n",
       "    .dataframe tbody tr th:only-of-type {\n",
       "        vertical-align: middle;\n",
       "    }\n",
       "\n",
       "    .dataframe tbody tr th {\n",
       "        vertical-align: top;\n",
       "    }\n",
       "\n",
       "    .dataframe thead th {\n",
       "        text-align: right;\n",
       "    }\n",
       "</style>\n",
       "<table border=\"1\" class=\"dataframe\">\n",
       "  <thead>\n",
       "    <tr style=\"text-align: right;\">\n",
       "      <th></th>\n",
       "      <th>Target Gene Symbol</th>\n",
       "      <th>gecko</th>\n",
       "      <th>avana</th>\n",
       "      <th>brunello</th>\n",
       "      <th>projscore</th>\n",
       "      <th>tkov3</th>\n",
       "      <th>gattinara</th>\n",
       "      <th>vbc</th>\n",
       "      <th>minlibcas9</th>\n",
       "      <th>jacquere</th>\n",
       "    </tr>\n",
       "  </thead>\n",
       "  <tbody>\n",
       "    <tr>\n",
       "      <th>0</th>\n",
       "      <td>TSPAN6</td>\n",
       "      <td>6.0</td>\n",
       "      <td>4.0</td>\n",
       "      <td>4.0</td>\n",
       "      <td>5.0</td>\n",
       "      <td>4.0</td>\n",
       "      <td>2.0</td>\n",
       "      <td>6.0</td>\n",
       "      <td>2.0</td>\n",
       "      <td>3.0</td>\n",
       "    </tr>\n",
       "    <tr>\n",
       "      <th>1</th>\n",
       "      <td>TNMD</td>\n",
       "      <td>6.0</td>\n",
       "      <td>4.0</td>\n",
       "      <td>4.0</td>\n",
       "      <td>5.0</td>\n",
       "      <td>4.0</td>\n",
       "      <td>2.0</td>\n",
       "      <td>6.0</td>\n",
       "      <td>2.0</td>\n",
       "      <td>3.0</td>\n",
       "    </tr>\n",
       "    <tr>\n",
       "      <th>2</th>\n",
       "      <td>DPM1</td>\n",
       "      <td>7.0</td>\n",
       "      <td>4.0</td>\n",
       "      <td>4.0</td>\n",
       "      <td>5.0</td>\n",
       "      <td>4.0</td>\n",
       "      <td>2.0</td>\n",
       "      <td>6.0</td>\n",
       "      <td>2.0</td>\n",
       "      <td>3.0</td>\n",
       "    </tr>\n",
       "    <tr>\n",
       "      <th>3</th>\n",
       "      <td>SCYL3</td>\n",
       "      <td>6.0</td>\n",
       "      <td>4.0</td>\n",
       "      <td>4.0</td>\n",
       "      <td>10.0</td>\n",
       "      <td>4.0</td>\n",
       "      <td>2.0</td>\n",
       "      <td>6.0</td>\n",
       "      <td>2.0</td>\n",
       "      <td>3.0</td>\n",
       "    </tr>\n",
       "    <tr>\n",
       "      <th>4</th>\n",
       "      <td>FIRRM</td>\n",
       "      <td>6.0</td>\n",
       "      <td>4.0</td>\n",
       "      <td>4.0</td>\n",
       "      <td>5.0</td>\n",
       "      <td>4.0</td>\n",
       "      <td>2.0</td>\n",
       "      <td>6.0</td>\n",
       "      <td>2.0</td>\n",
       "      <td>3.0</td>\n",
       "    </tr>\n",
       "    <tr>\n",
       "      <th>...</th>\n",
       "      <td>...</td>\n",
       "      <td>...</td>\n",
       "      <td>...</td>\n",
       "      <td>...</td>\n",
       "      <td>...</td>\n",
       "      <td>...</td>\n",
       "      <td>...</td>\n",
       "      <td>...</td>\n",
       "      <td>...</td>\n",
       "      <td>...</td>\n",
       "    </tr>\n",
       "    <tr>\n",
       "      <th>19468</th>\n",
       "      <td>IL9R</td>\n",
       "      <td>12.0</td>\n",
       "      <td>8.0</td>\n",
       "      <td>8.0</td>\n",
       "      <td>8.0</td>\n",
       "      <td>0.0</td>\n",
       "      <td>4.0</td>\n",
       "      <td>12.0</td>\n",
       "      <td>4.0</td>\n",
       "      <td>8.0</td>\n",
       "    </tr>\n",
       "    <tr>\n",
       "      <th>19469</th>\n",
       "      <td>MSL3B</td>\n",
       "      <td>0.0</td>\n",
       "      <td>1.0</td>\n",
       "      <td>0.0</td>\n",
       "      <td>0.0</td>\n",
       "      <td>2.0</td>\n",
       "      <td>0.0</td>\n",
       "      <td>1.0</td>\n",
       "      <td>0.0</td>\n",
       "      <td>3.0</td>\n",
       "    </tr>\n",
       "    <tr>\n",
       "      <th>19470</th>\n",
       "      <td>DUSP13B</td>\n",
       "      <td>7.0</td>\n",
       "      <td>2.0</td>\n",
       "      <td>8.0</td>\n",
       "      <td>16.0</td>\n",
       "      <td>7.0</td>\n",
       "      <td>3.0</td>\n",
       "      <td>8.0</td>\n",
       "      <td>4.0</td>\n",
       "      <td>12.0</td>\n",
       "    </tr>\n",
       "    <tr>\n",
       "      <th>19471</th>\n",
       "      <td>DUSP13A</td>\n",
       "      <td>3.0</td>\n",
       "      <td>4.0</td>\n",
       "      <td>0.0</td>\n",
       "      <td>5.0</td>\n",
       "      <td>1.0</td>\n",
       "      <td>1.0</td>\n",
       "      <td>2.0</td>\n",
       "      <td>0.0</td>\n",
       "      <td>6.0</td>\n",
       "    </tr>\n",
       "    <tr>\n",
       "      <th>19472</th>\n",
       "      <td>CAST</td>\n",
       "      <td>6.0</td>\n",
       "      <td>4.0</td>\n",
       "      <td>4.0</td>\n",
       "      <td>5.0</td>\n",
       "      <td>4.0</td>\n",
       "      <td>2.0</td>\n",
       "      <td>6.0</td>\n",
       "      <td>2.0</td>\n",
       "      <td>3.0</td>\n",
       "    </tr>\n",
       "  </tbody>\n",
       "</table>\n",
       "<p>19473 rows × 10 columns</p>\n",
       "</div>"
      ],
      "text/plain": [
       "      Target Gene Symbol  gecko  avana  brunello  projscore  tkov3  gattinara  \\\n",
       "0                 TSPAN6    6.0    4.0       4.0        5.0    4.0        2.0   \n",
       "1                   TNMD    6.0    4.0       4.0        5.0    4.0        2.0   \n",
       "2                   DPM1    7.0    4.0       4.0        5.0    4.0        2.0   \n",
       "3                  SCYL3    6.0    4.0       4.0       10.0    4.0        2.0   \n",
       "4                  FIRRM    6.0    4.0       4.0        5.0    4.0        2.0   \n",
       "...                  ...    ...    ...       ...        ...    ...        ...   \n",
       "19468               IL9R   12.0    8.0       8.0        8.0    0.0        4.0   \n",
       "19469              MSL3B    0.0    1.0       0.0        0.0    2.0        0.0   \n",
       "19470            DUSP13B    7.0    2.0       8.0       16.0    7.0        3.0   \n",
       "19471            DUSP13A    3.0    4.0       0.0        5.0    1.0        1.0   \n",
       "19472               CAST    6.0    4.0       4.0        5.0    4.0        2.0   \n",
       "\n",
       "        vbc  minlibcas9  jacquere  \n",
       "0       6.0         2.0       3.0  \n",
       "1       6.0         2.0       3.0  \n",
       "2       6.0         2.0       3.0  \n",
       "3       6.0         2.0       3.0  \n",
       "4       6.0         2.0       3.0  \n",
       "...     ...         ...       ...  \n",
       "19468  12.0         4.0       8.0  \n",
       "19469   1.0         0.0       3.0  \n",
       "19470   8.0         4.0      12.0  \n",
       "19471   2.0         0.0       6.0  \n",
       "19472   6.0         2.0       3.0  \n",
       "\n",
       "[19473 rows x 10 columns]"
      ]
     },
     "execution_count": 14,
     "metadata": {},
     "output_type": "execute_result"
    }
   ],
   "source": [
    "all_counts=pd.merge(gencode47_allproteincoding,gecko_counts,on=\"Target Gene Symbol\",how=\"left\")\n",
    "all_counts=pd.merge(all_counts,avana_counts,on=\"Target Gene Symbol\",how=\"left\")\n",
    "all_counts=pd.merge(all_counts,brunello_counts,on=\"Target Gene Symbol\",how=\"left\")\n",
    "all_counts=pd.merge(all_counts,projscore_counts,on=\"Target Gene Symbol\",how=\"left\")\n",
    "all_counts=pd.merge(all_counts,tkov3_counts,on=\"Target Gene Symbol\",how=\"left\")\n",
    "all_counts=pd.merge(all_counts,gattinara_counts,on=\"Target Gene Symbol\",how=\"left\")\n",
    "all_counts=pd.merge(all_counts,vbc_counts,on=\"Target Gene Symbol\",how=\"left\")\n",
    "all_counts=pd.merge(all_counts,minlibcas9_counts,on=\"Target Gene Symbol\",how=\"left\")\n",
    "all_counts=pd.merge(all_counts,jacquere_counts,on=\"Target Gene Symbol\",how=\"left\")\n",
    "\n",
    "all_counts=all_counts.replace(np.nan,0)\n",
    "all_counts"
   ]
  },
  {
   "cell_type": "code",
   "execution_count": 15,
   "id": "bc099835-c9f7-473e-9424-ee4e658aef28",
   "metadata": {},
   "outputs": [
    {
     "data": {
      "text/plain": [
       "[2.72, 3.48, 2.23, 6.98, 7.57, 1.33, 1.73, 3.13, 0.61]"
      ]
     },
     "execution_count": 15,
     "metadata": {},
     "output_type": "execute_result"
    }
   ],
   "source": [
    "#identify % of GENCODE47 genes to which no guides in the library map\n",
    "total=len(all_counts)\n",
    "perc_gencode47_genes_untargeted_gecko= 100*len(all_counts[all_counts[\"gecko\"]==0])/total\n",
    "perc_gencode47_genes_untargeted_avana= 100*len(all_counts[all_counts[\"avana\"]==0])/total\n",
    "perc_gencode47_genes_untargeted_brunello= 100*len(all_counts[all_counts[\"brunello\"]==0])/total\n",
    "perc_gencode47_genes_untargeted_sanger= 100*len(all_counts[all_counts[\"projscore\"]==0])/total\n",
    "perc_gencode47_genes_untargeted_tkov3= 100*len(all_counts[all_counts[\"tkov3\"]==0])/total\n",
    "perc_gencode47_genes_untargeted_gattinara= 100*len(all_counts[all_counts[\"gattinara\"]==0])/total\n",
    "perc_gencode47_genes_untargeted_vbc= 100*len(all_counts[all_counts[\"vbc\"]==0])/total\n",
    "perc_gencode47_genes_untargeted_minlibcas9= 100*len(all_counts[all_counts[\"minlibcas9\"]==0])/total\n",
    "perc_gencode47_genes_untargeted_jacquere= 100*len(all_counts[all_counts[\"jacquere\"]==0])/total\n",
    "\n",
    "perc_gencode47_genes_untargeted=[round(perc_gencode47_genes_untargeted_gecko,2),round(perc_gencode47_genes_untargeted_avana,2),\n",
    "                                 round(perc_gencode47_genes_untargeted_brunello,2),round(perc_gencode47_genes_untargeted_sanger,2),\n",
    "                                 round(perc_gencode47_genes_untargeted_tkov3,2),round(perc_gencode47_genes_untargeted_gattinara,2),\n",
    "                                 round(perc_gencode47_genes_untargeted_vbc,2),round(perc_gencode47_genes_untargeted_minlibcas9,2),\n",
    "                                 round(perc_gencode47_genes_untargeted_jacquere,2)]\n",
    "perc_gencode47_genes_untargeted\n"
   ]
  },
  {
   "cell_type": "code",
   "execution_count": 16,
   "id": "ac455612-a32a-4cc7-885b-eac1926a4e6c",
   "metadata": {},
   "outputs": [
    {
     "data": {
      "image/png": "[encoded data removed]",
      "text/plain": [
       "<Figure size 1200x300 with 1 Axes>"
      ]
     },
     "metadata": {},
     "output_type": "display_data"
    }
   ],
   "source": [
    "#getting number of untargeted genes per library \n",
    "(fig,ax)=plt.subplots(figsize=(12,3))\n",
    "\n",
    "num_untargeted_genes= [len(all_counts[all_counts[\"gecko\"]==0]),len(all_counts[all_counts[\"avana\"]==0]),\n",
    "                       len(all_counts[all_counts[\"brunello\"]==0]),\n",
    "                       len(all_counts[all_counts[\"projscore\"]==0]),\n",
    "                       len(all_counts[all_counts[\"tkov3\"]==0]),\n",
    "                       len(all_counts[all_counts[\"gattinara\"]==0]),\n",
    "                       len(all_counts[all_counts[\"vbc\"]==0]),\n",
    "                       len(all_counts[all_counts[\"minlibcas9\"]==0]),\n",
    "                       len(all_counts[all_counts[\"jacquere\"]==0])]\n",
    "\n",
    "#library name, quota, PMID\n",
    "barplot_labels=[\"GeCKOv2\\n25075903\",\n",
    "                \"Avana\\n26780180\",\n",
    "                \"Brunello\\n26780180\",\n",
    "                \"Proj.Score\\n27760321\",\n",
    "                \"TKOv3\\n30970261\",\n",
    "                \"Gattinara\\n32029722\",\n",
    "                \"VBC\\n32514112\",\n",
    "                \"MinLib\\n33478580\",\n",
    "                \"Jacquere\\n (No PMID)\"]\n",
    "ax.bar(barplot_labels,num_untargeted_genes)\n",
    "ax.set_xticks(ticks=[0,1,2,3,4,5,6,7,8],labels=barplot_labels,fontsize=14)\n",
    "ax.set_yticks([])\n",
    "plt.ylim(0,1700) #keeps text on top from getting cut off \n",
    "plt.title(\"# Ensembl v.113 protein coding genes not targeted per CRISPRko Cas9 Genome Wide Library\",fontsize=16)\n",
    "ax.bar_label(ax.containers[0], fmt = '%d',size=16)\n",
    "#gpp.savefig(\"../Figures/barplot_ensembl113_coverage_by_genomewidelibrary.png\",bbox_inches=\"tight\",dpi=600)\n"
   ]
  },
  {
   "cell_type": "markdown",
   "id": "3afe89f4-bd8c-4326-8ebd-17e86b1bc918",
   "metadata": {},
   "source": [
    "## Evaluating libraries with criteria from CRISPick\n",
    "To contextualize the composition of Jacquere, I ran all evaluated CRISPRko Cas9 Genome Wide Libraries through CRISPick to determine the relative distributions of ...\n",
    "- Guides that exceed the gnomAD variant frequency\n",
    "- Aggregate CFD scores\n",
    "- RS3 scores\n"
   ]
  },
  {
   "cell_type": "code",
   "execution_count": 66,
   "id": "265086b3-860f-415e-8d56-f7b8e81eef7c",
   "metadata": {},
   "outputs": [
    {
     "name": "stderr",
     "output_type": "stream",
     "text": [
      "/var/folders/nm/6_wl7tx50tq5bqfp8vzf4m6r0000gq/T/ipykernel_36148/2646541394.py:21: DtypeWarning: Columns (6,7,27) have mixed types. Specify dtype option on import or set low_memory=False.\n",
      "  jacquere=pd.read_csv(\"../../4. Jacquere Design/Data/jacquere_assembled_crispick.csv\")\n"
     ]
    }
   ],
   "source": [
    "#Get data for external libraries\n",
    "\n",
    "folderpath= \"../Data/CRISPick evaluated CRISPRko Cas9 Genome Wide Libraries/\"\n",
    "\n",
    "'''\n",
    "\n",
    "For these CRISPick runs, I used Ensembl 113 as the reference genome and indicated targeting of all protein coding genes. \n",
    "I then supplied the set of guide sequences from the the \"Original Annotations of CRISPRko Cas9 Genome Wide Libraries\" Data folder. \n",
    "I indicated a quota of 1 and for CRISPick to show unpicked sequences.\n",
    "\n",
    "'''\n",
    "\n",
    "gecko=pd.read_table(folderpath+\"gecko_bothsets_2_10_2025-sgrna-designs.txt\",low_memory=False)\n",
    "avana=pd.read_table(folderpath+\"avana_2_10_2025-sgrna-designs.txt\",low_memory=False)\n",
    "brunello=pd.read_table(folderpath+\"brunello_2_10_2025-sgrna-designs.txt\",low_memory=False)\n",
    "hsangerv1=pd.read_table(folderpath+\"hsangerv1_2_10_2025-sgrna-designs.txt\",low_memory=False)\n",
    "tkov3=pd.read_table(folderpath+\"tkov3_2_10_2025-sgrna-designs.txt\",low_memory=False)\n",
    "gattinara=pd.read_table(folderpath+\"gattinara_2_10_2025-sgrna-designs.txt\",low_memory=False)\n",
    "vbc=pd.read_table(folderpath+\"vbc-sgrna-designs.txt\",low_memory=False)\n",
    "minlibcas9=pd.read_table(folderpath+\"minlibcas9_2_10_2025-sgrna-designs.txt\",low_memory=False)\n",
    "jacquere=pd.read_csv(\"../../4. Jacquere Design/Data/jacquere_assembled_crispick.csv\")\n",
    "\n",
    "\n",
    "#subset CRISPick runs to the guides that are actually in the libraries \n",
    "gecko=gecko[(gecko[\"Picking Notes\"].str.count(\"Preselect\")>0)].reset_index(drop=True)\n",
    "avana=avana[(avana[\"Picking Notes\"].str.count(\"Preselect\")>0)].reset_index(drop=True)\n",
    "brunello=brunello[(brunello[\"Picking Notes\"].str.count(\"Preselect\")>0)].reset_index(drop=True)\n",
    "hsangerv1=hsangerv1[(hsangerv1[\"Picking Notes\"].str.count(\"Preselect\")>0)].reset_index(drop=True)\n",
    "tkov3=tkov3[(tkov3[\"Picking Notes\"].str.count(\"Preselect\")>0)].reset_index(drop=True)\n",
    "gattinara=gattinara[(gattinara[\"Picking Notes\"].str.count(\"Preselect\")>0)].reset_index(drop=True)\n",
    "vbc=vbc[(vbc[\"Picking Notes\"].str.count(\"Preselect\")>0)].reset_index(drop=True)\n",
    "minlibcas9=minlibcas9[(minlibcas9[\"Picking Notes\"].str.count(\"Preselect\")>0)].reset_index(drop=True)\n"
   ]
  },
  {
   "cell_type": "markdown",
   "id": "77bd7361-f353-4a92-9a25-ec0aef3ff383",
   "metadata": {},
   "source": [
    "#### RS3 (on-Target propensity) distributions across libraries"
   ]
  },
  {
   "cell_type": "code",
   "execution_count": 67,
   "id": "b327a257-3ce3-4b1f-b309-71b566e38872",
   "metadata": {},
   "outputs": [
    {
     "data": {
      "image/png": "[encoded data removed]",
      "text/plain": [
       "<Figure size 1000x500 with 1 Axes>"
      ]
     },
     "metadata": {},
     "output_type": "display_data"
    }
   ],
   "source": [
    "all_aggcfd_rs3=pd.concat([gecko[[\"Aggregate CFD Score\",\"On-Target Efficacy Score\"]],\n",
    "           avana[[\"Aggregate CFD Score\",\"On-Target Efficacy Score\"]],\n",
    "           brunello[[\"Aggregate CFD Score\",\"On-Target Efficacy Score\"]],\n",
    "           hsangerv1[[\"Aggregate CFD Score\",\"On-Target Efficacy Score\"]],\n",
    "           tkov3[[\"Aggregate CFD Score\",\"On-Target Efficacy Score\"]],\n",
    "           gattinara[[\"Aggregate CFD Score\",\"On-Target Efficacy Score\"]],\n",
    "            vbc[[\"Aggregate CFD Score\",\"On-Target Efficacy Score\"]],\n",
    "           minlibcas9[[\"Aggregate CFD Score\",\"On-Target Efficacy Score\"]],\n",
    "            jacquere[[\"Aggregate CFD Score\",\"On-Target Efficacy Score\"]]],\n",
    "          keys=library_labels).reset_index().rename(columns={\"level_0\":\"Library\"}).drop([\"level_1\"],axis=1)\n",
    "\n",
    "plt.figure(figsize=(10,5))\n",
    "sns.boxplot(data=all_aggcfd_rs3,x=\"Library\",y=\"On-Target Efficacy Score\")\n",
    "plt.ylabel(\"Rule Set 3 score\",fontsize=16)\n",
    "plt.xlabel(\"\")\n",
    "plt.savefig(\"../Figures/RS3_CRISPRko_Cas9_libraries.pdf\",bbox_inches=\"tight\",dpi=600)"
   ]
  },
  {
   "cell_type": "markdown",
   "id": "929e1263-ce48-4117-b16d-a7dcdcd98fdd",
   "metadata": {},
   "source": [
    "#### Aggregate CFD (off-target propensity) distribution across libraries"
   ]
  },
  {
   "cell_type": "code",
   "execution_count": 68,
   "id": "60425d2b-1e7d-41ad-8e68-e52b13dca962",
   "metadata": {},
   "outputs": [
    {
     "data": {
      "text/html": [
       "<div>\n",
       "<style scoped>\n",
       "    .dataframe tbody tr th:only-of-type {\n",
       "        vertical-align: middle;\n",
       "    }\n",
       "\n",
       "    .dataframe tbody tr th {\n",
       "        vertical-align: top;\n",
       "    }\n",
       "\n",
       "    .dataframe thead th {\n",
       "        text-align: right;\n",
       "    }\n",
       "</style>\n",
       "<table border=\"1\" class=\"dataframe\">\n",
       "  <thead>\n",
       "    <tr style=\"text-align: right;\">\n",
       "      <th></th>\n",
       "      <th>num_MAX</th>\n",
       "    </tr>\n",
       "    <tr>\n",
       "      <th>Library</th>\n",
       "      <th></th>\n",
       "    </tr>\n",
       "  </thead>\n",
       "  <tbody>\n",
       "    <tr>\n",
       "      <th>Avana</th>\n",
       "      <td>13</td>\n",
       "    </tr>\n",
       "    <tr>\n",
       "      <th>Brunello</th>\n",
       "      <td>7</td>\n",
       "    </tr>\n",
       "    <tr>\n",
       "      <th>GeCKOv2</th>\n",
       "      <td>66</td>\n",
       "    </tr>\n",
       "    <tr>\n",
       "      <th>VBC</th>\n",
       "      <td>10</td>\n",
       "    </tr>\n",
       "  </tbody>\n",
       "</table>\n",
       "</div>"
      ],
      "text/plain": [
       "          num_MAX\n",
       "Library          \n",
       "Avana          13\n",
       "Brunello        7\n",
       "GeCKOv2        66\n",
       "VBC            10"
      ]
     },
     "execution_count": 68,
     "metadata": {},
     "output_type": "execute_result"
    }
   ],
   "source": [
    "# The next line of code excludes all guides that exceed 20,000 off-target sites. Here are the counts of such sites across libraries\n",
    "all_aggcfd_rs3[all_aggcfd_rs3[\"Aggregate CFD Score\"]==\"MAX\"].groupby([\"Library\"]).agg(num_MAX=(\"Aggregate CFD Score\",\"count\"))"
   ]
  },
  {
   "cell_type": "code",
   "execution_count": 69,
   "id": "b3248969-9f0e-41ec-8616-81fbb222c727",
   "metadata": {},
   "outputs": [
    {
     "name": "stderr",
     "output_type": "stream",
     "text": [
      "/var/folders/nm/6_wl7tx50tq5bqfp8vzf4m6r0000gq/T/ipykernel_36148/805151585.py:2: SettingWithCopyWarning: \n",
      "A value is trying to be set on a copy of a slice from a DataFrame.\n",
      "Try using .loc[row_indexer,col_indexer] = value instead\n",
      "\n",
      "See the caveats in the documentation: https://pandas.pydata.org/pandas-docs/stable/user_guide/indexing.html#returning-a-view-versus-a-copy\n",
      "  all_aggcfd_rs3_dropmax[\"Aggregate CFD Score\"]=all_aggcfd_rs3_dropmax[\"Aggregate CFD Score\"].astype(float)\n"
     ]
    }
   ],
   "source": [
    "all_aggcfd_rs3_dropmax=all_aggcfd_rs3[all_aggcfd_rs3[\"Aggregate CFD Score\"]!=\"MAX\"]\n",
    "all_aggcfd_rs3_dropmax[\"Aggregate CFD Score\"]=all_aggcfd_rs3_dropmax[\"Aggregate CFD Score\"].astype(float)\n",
    "\n",
    "total_library_guidecounts=all_aggcfd_rs3_dropmax.groupby([\"Library\"]).agg(total_library_guidecount=(\"Aggregate CFD Score\",\"count\"))\n",
    "\n",
    "all_aggcfd_overthreshold=all_aggcfd_rs3_dropmax[all_aggcfd_rs3_dropmax[\"Aggregate CFD Score\"]>4.8].reset_index(drop=True)\n",
    "counts_aggcfd_overthreshold=all_aggcfd_overthreshold.groupby([\"Library\"]).agg(num_over_aggcfd_threshold=(\"Aggregate CFD Score\",\"count\"))\n",
    "counts_aggcfd_overthreshold=counts_aggcfd_overthreshold.merge(total_library_guidecounts,left_index=True, right_index=True)\n",
    "counts_aggcfd_overthreshold[\"frac_aggcfd_over_threshold\"]= (counts_aggcfd_overthreshold[\"num_over_aggcfd_threshold\"]/counts_aggcfd_overthreshold[\"total_library_guidecount\"]).round(3)\n",
    "\n",
    "aggcfdstats=all_aggcfd_rs3_dropmax.groupby([\"Library\"],sort=False).agg(mean_aggcfd=(\"Aggregate CFD Score\",\"mean\"))\n",
    "aggcfdstats=aggcfdstats.merge(counts_aggcfd_overthreshold,left_index=True, right_index=True,how=\"left\")\n",
    "aggcfdstats=aggcfdstats.fillna(0)\n",
    "aggcfdstats[\"Mean\"]=aggcfdstats[\"mean_aggcfd\"].round(3)\n",
    "aggcfdstats[\"% >4.8\"]=(aggcfdstats[\"frac_aggcfd_over_threshold\"]*100).round(3)\n",
    "aggcfdstats=aggcfdstats[[\"Mean\",\"% >4.8\"]]\n"
   ]
  },
  {
   "cell_type": "markdown",
   "id": "cbf1683e-c681-4a5b-848b-029dc0a3dd9e",
   "metadata": {},
   "source": [
    "#### Representation of off-target sites with CFD Score = 1.0 across libraries"
   ]
  },
  {
   "cell_type": "code",
   "execution_count": 70,
   "id": "dc17a41c-74a0-478b-bc82-5cd3157500e2",
   "metadata": {},
   "outputs": [
    {
     "name": "stderr",
     "output_type": "stream",
     "text": [
      "/var/folders/nm/6_wl7tx50tq5bqfp8vzf4m6r0000gq/T/ipykernel_36148/1167492732.py:14: SettingWithCopyWarning: \n",
      "A value is trying to be set on a copy of a slice from a DataFrame.\n",
      "Try using .loc[row_indexer,col_indexer] = value instead\n",
      "\n",
      "See the caveats in the documentation: https://pandas.pydata.org/pandas-docs/stable/user_guide/indexing.html#returning-a-view-versus-a-copy\n",
      "  all_CFD1guides_dropmax[\"Off-Target CFD100 Hits\"]=all_CFD1guides_dropmax[\"Off-Target CFD100 Hits\"].astype(float)\n",
      "/var/folders/nm/6_wl7tx50tq5bqfp8vzf4m6r0000gq/T/ipykernel_36148/1167492732.py:15: SettingWithCopyWarning: \n",
      "A value is trying to be set on a copy of a slice from a DataFrame.\n",
      "Try using .loc[row_indexer,col_indexer] = value instead\n",
      "\n",
      "See the caveats in the documentation: https://pandas.pydata.org/pandas-docs/stable/user_guide/indexing.html#returning-a-view-versus-a-copy\n",
      "  all_CFD1guides_dropmax[\"Off-Target Tier I CFD100 Hits\"]=all_CFD1guides_dropmax[\"Off-Target Tier I CFD100 Hits\"].astype(float)\n"
     ]
    }
   ],
   "source": [
    "all_CFD1guides=pd.concat([gecko[[\"Off-Target CFD100 Hits\",\"Off-Target Tier I CFD100 Hits\"]],\n",
    "           avana[[\"Off-Target CFD100 Hits\",\"Off-Target Tier I CFD100 Hits\"]],\n",
    "           brunello[[\"Off-Target CFD100 Hits\",\"Off-Target Tier I CFD100 Hits\"]],\n",
    "           hsangerv1[[\"Off-Target CFD100 Hits\",\"Off-Target Tier I CFD100 Hits\"]],\n",
    "           tkov3[[\"Off-Target CFD100 Hits\",\"Off-Target Tier I CFD100 Hits\"]],\n",
    "           gattinara[[\"Off-Target CFD100 Hits\",\"Off-Target Tier I CFD100 Hits\"]],\n",
    "            vbc[[\"Off-Target CFD100 Hits\",\"Off-Target Tier I CFD100 Hits\"]],\n",
    "           minlibcas9[[\"Off-Target CFD100 Hits\",\"Off-Target Tier I CFD100 Hits\"]],\n",
    "            jacquere[[\"Off-Target CFD100 Hits\",\"Off-Target Tier I CFD100 Hits\"]]],\n",
    "          keys=library_labels).reset_index().rename(columns={\"level_0\":\"Library\"}).drop([\"level_1\"],axis=1)\n",
    "\n",
    "#drop guides with > 20,000 potential OTS (counts per library reported above)\n",
    "all_CFD1guides_dropmax=all_CFD1guides[all_CFD1guides[\"Off-Target CFD100 Hits\"]!=\"MAX\"]\n",
    "all_CFD1guides_dropmax[\"Off-Target CFD100 Hits\"]=all_CFD1guides_dropmax[\"Off-Target CFD100 Hits\"].astype(float)\n",
    "all_CFD1guides_dropmax[\"Off-Target Tier I CFD100 Hits\"]=all_CFD1guides_dropmax[\"Off-Target Tier I CFD100 Hits\"].astype(float)\n",
    "\n",
    "all_CFD100=all_CFD1guides_dropmax[all_CFD1guides_dropmax[\"Off-Target CFD100 Hits\"]>0].reset_index(drop=True)\n",
    "counts_CFD100=all_CFD100.groupby([\"Library\"],sort=False).agg(num_guides_with_CFD100_OTS=(\"Off-Target CFD100 Hits\",\"count\"))\n",
    "\n",
    "all_CFD100_tierI=all_CFD1guides_dropmax[all_CFD1guides_dropmax[\"Off-Target Tier I CFD100 Hits\"]>0].reset_index(drop=True)\n",
    "counts_all_CFD100_tierI=all_CFD100_tierI.groupby([\"Library\"],sort=False).agg(num_guides_with_CFD100_tierI_OTS=(\"Off-Target Tier I CFD100 Hits\",\"count\"))\n",
    "\n",
    "counts_all_CFD100=counts_CFD100.merge(counts_all_CFD100_tierI,left_index=True, right_index=True)\n",
    "counts_all_CFD100=counts_all_CFD100.merge(total_library_guidecounts,left_index=True, right_index=True)\n",
    "counts_all_CFD100[\"frac_CFD100\"]= (counts_all_CFD100[\"num_guides_with_CFD100_OTS\"]/counts_all_CFD100[\"total_library_guidecount\"]).round(3)\n",
    "counts_all_CFD100[\"frac_CFD100_tierI\"]= (counts_all_CFD100[\"num_guides_with_CFD100_tierI_OTS\"]/counts_all_CFD100[\"total_library_guidecount\"]).round(3)\n",
    "\n",
    "counts_all_CFD100[\"% \"]=(counts_all_CFD100[\"frac_CFD100\"]*100).round(2)\n",
    "counts_all_CFD100[\"% Tier I\"]=(counts_all_CFD100[\"frac_CFD100_tierI\"]*100).round(2)\n",
    "counts_all_CFD100=counts_all_CFD100[[\"% \",\"% Tier I\"]]\n"
   ]
  },
  {
   "cell_type": "markdown",
   "id": "7dab12e0-f266-41be-818f-bb70455aebc1",
   "metadata": {},
   "source": [
    "Joining all metrics as one table"
   ]
  },
  {
   "cell_type": "code",
   "execution_count": 71,
   "id": "fd2afbf9-8ae1-4118-ba59-89cea4109845",
   "metadata": {},
   "outputs": [
    {
     "data": {
      "text/html": [
       "<div>\n",
       "<style scoped>\n",
       "    .dataframe tbody tr th:only-of-type {\n",
       "        vertical-align: middle;\n",
       "    }\n",
       "\n",
       "    .dataframe tbody tr th {\n",
       "        vertical-align: top;\n",
       "    }\n",
       "\n",
       "    .dataframe thead tr th {\n",
       "        text-align: left;\n",
       "    }\n",
       "</style>\n",
       "<table border=\"1\" class=\"dataframe\">\n",
       "  <thead>\n",
       "    <tr>\n",
       "      <th></th>\n",
       "      <th colspan=\"6\" halign=\"left\"></th>\n",
       "      <th colspan=\"2\" halign=\"left\">Aggregate CFD</th>\n",
       "      <th colspan=\"2\" halign=\"left\">CFD 1.0 OTS</th>\n",
       "    </tr>\n",
       "    <tr>\n",
       "      <th></th>\n",
       "      <th>Library</th>\n",
       "      <th>Release Year</th>\n",
       "      <th>#Guides per gene</th>\n",
       "      <th>PMID</th>\n",
       "      <th>Addgene ID</th>\n",
       "      <th>% of GENCODE47 genes untargeted</th>\n",
       "      <th>Mean</th>\n",
       "      <th>% &gt;4.8</th>\n",
       "      <th>%</th>\n",
       "      <th>% Tier I</th>\n",
       "    </tr>\n",
       "  </thead>\n",
       "  <tbody>\n",
       "    <tr>\n",
       "      <th>0</th>\n",
       "      <td>GeCKOv2</td>\n",
       "      <td>2014</td>\n",
       "      <td>6</td>\n",
       "      <td>25075903</td>\n",
       "      <td>1000000048</td>\n",
       "      <td>2.72</td>\n",
       "      <td>3.114</td>\n",
       "      <td>2.9</td>\n",
       "      <td>14.3</td>\n",
       "      <td>3.4</td>\n",
       "    </tr>\n",
       "    <tr>\n",
       "      <th>1</th>\n",
       "      <td>Avana</td>\n",
       "      <td>2016</td>\n",
       "      <td>4</td>\n",
       "      <td>26780180</td>\n",
       "      <td>NA</td>\n",
       "      <td>3.48</td>\n",
       "      <td>2.131</td>\n",
       "      <td>4.6</td>\n",
       "      <td>15.4</td>\n",
       "      <td>3.3</td>\n",
       "    </tr>\n",
       "    <tr>\n",
       "      <th>2</th>\n",
       "      <td>Brunello</td>\n",
       "      <td>2016</td>\n",
       "      <td>4</td>\n",
       "      <td>26780180</td>\n",
       "      <td>73178</td>\n",
       "      <td>2.23</td>\n",
       "      <td>0.793</td>\n",
       "      <td>2.2</td>\n",
       "      <td>6.2</td>\n",
       "      <td>3.3</td>\n",
       "    </tr>\n",
       "    <tr>\n",
       "      <th>3</th>\n",
       "      <td>Proj.Score</td>\n",
       "      <td>2016</td>\n",
       "      <td>5</td>\n",
       "      <td>27760321</td>\n",
       "      <td>67989</td>\n",
       "      <td>6.98</td>\n",
       "      <td>0.635</td>\n",
       "      <td>1.4</td>\n",
       "      <td>9.8</td>\n",
       "      <td>2.4</td>\n",
       "    </tr>\n",
       "    <tr>\n",
       "      <th>4</th>\n",
       "      <td>TKOv3</td>\n",
       "      <td>2017</td>\n",
       "      <td>4</td>\n",
       "      <td>30970261</td>\n",
       "      <td>90294</td>\n",
       "      <td>7.57</td>\n",
       "      <td>0.760</td>\n",
       "      <td>1.1</td>\n",
       "      <td>11.1</td>\n",
       "      <td>1.3</td>\n",
       "    </tr>\n",
       "    <tr>\n",
       "      <th>5</th>\n",
       "      <td>Gattinara</td>\n",
       "      <td>2018</td>\n",
       "      <td>2</td>\n",
       "      <td>32029722</td>\n",
       "      <td>136986</td>\n",
       "      <td>1.33</td>\n",
       "      <td>1.014</td>\n",
       "      <td>3.1</td>\n",
       "      <td>13.1</td>\n",
       "      <td>3.8</td>\n",
       "    </tr>\n",
       "    <tr>\n",
       "      <th>6</th>\n",
       "      <td>VBC</td>\n",
       "      <td>2020</td>\n",
       "      <td>6</td>\n",
       "      <td>32514112</td>\n",
       "      <td>NA</td>\n",
       "      <td>1.73</td>\n",
       "      <td>1.126</td>\n",
       "      <td>2.8</td>\n",
       "      <td>12.6</td>\n",
       "      <td>1.8</td>\n",
       "    </tr>\n",
       "    <tr>\n",
       "      <th>7</th>\n",
       "      <td>MinLib</td>\n",
       "      <td>2021</td>\n",
       "      <td>2</td>\n",
       "      <td>33478580</td>\n",
       "      <td>164896</td>\n",
       "      <td>3.13</td>\n",
       "      <td>0.576</td>\n",
       "      <td>1.2</td>\n",
       "      <td>6.3</td>\n",
       "      <td>2.1</td>\n",
       "    </tr>\n",
       "    <tr>\n",
       "      <th>8</th>\n",
       "      <td>Jacquere</td>\n",
       "      <td>2025</td>\n",
       "      <td>3</td>\n",
       "      <td>NA</td>\n",
       "      <td>tbd</td>\n",
       "      <td>0.61</td>\n",
       "      <td>0.781</td>\n",
       "      <td>0.0</td>\n",
       "      <td>3.2</td>\n",
       "      <td>2.2</td>\n",
       "    </tr>\n",
       "  </tbody>\n",
       "</table>\n",
       "</div>"
      ],
      "text/plain": [
       "                                                                   \\\n",
       "      Library Release Year #Guides per gene      PMID  Addgene ID   \n",
       "0     GeCKOv2         2014                6  25075903  1000000048   \n",
       "1       Avana         2016                4  26780180          NA   \n",
       "2    Brunello         2016                4  26780180       73178   \n",
       "3  Proj.Score         2016                5  27760321       67989   \n",
       "4       TKOv3         2017                4  30970261       90294   \n",
       "5   Gattinara         2018                2  32029722      136986   \n",
       "6         VBC         2020                6  32514112          NA   \n",
       "7      MinLib         2021                2  33478580      164896   \n",
       "8    Jacquere         2025                3        NA         tbd   \n",
       "\n",
       "                                  Aggregate CFD        CFD 1.0 OTS           \n",
       "  % of GENCODE47 genes untargeted          Mean % >4.8           % % Tier I  \n",
       "0                            2.72         3.114    2.9        14.3      3.4  \n",
       "1                            3.48         2.131    4.6        15.4      3.3  \n",
       "2                            2.23         0.793    2.2         6.2      3.3  \n",
       "3                            6.98         0.635    1.4         9.8      2.4  \n",
       "4                            7.57         0.760    1.1        11.1      1.3  \n",
       "5                            1.33         1.014    3.1        13.1      3.8  \n",
       "6                            1.73         1.126    2.8        12.6      1.8  \n",
       "7                            3.13         0.576    1.2         6.3      2.1  \n",
       "8                            0.61         0.781    0.0         3.2      2.2  "
      ]
     },
     "execution_count": 71,
     "metadata": {},
     "output_type": "execute_result"
    }
   ],
   "source": [
    "library_PMIDs=[\"25075903\",\n",
    "                \"26780180\",\n",
    "                \"26780180\",\n",
    "                \"27760321\",\n",
    "                \"30970261\",\n",
    "                \"32029722\",\n",
    "                \"32514112\",\n",
    "                \"33478580\",\n",
    "                \"NA\"]\n",
    "\n",
    "library_years=[\"2014\",\"2016\",\"2016\",\"2016\",\"2017\",\"2018\",\"2020\",\"2021\",\"2025\"]\n",
    "\n",
    "library_addgeneIDs=['1000000048',\"NA\",\"73178\",\"67989\",\"90294\",\"136986\",\"NA\",\"164896\",\"tbd\"]\n",
    "\n",
    "library_quotas= [\"6\",\"4\",\"4\",\"5\",\"4\",\"2\",\"6\",\"2\",\"3\"]\n",
    "\n",
    "summary_table= pd.DataFrame({\"Library\":library_labels,\"Release Year\":library_years,\"# Guides per gene\":library_quotas,\"PubMed ID\":library_PMIDs,\"Addgene ID\":library_addgeneIDs,\"% of GENCODE47 genes untargeted\":perc_gencode47_genes_untargeted})\n",
    "summary_table.columns=pd.MultiIndex.from_arrays([[\"\",\"\",\"\",\"\",\"\",\"\"],[\"Library\",\"Release Year\",\"#Guides per gene\",\"PMID\",\"Addgene ID\",\"% of GENCODE47 genes untargeted\"]])\n",
    "\n",
    "aggcfdstats_reset=aggcfdstats.reset_index()\n",
    "aggcfdstats_reset.columns=pd.MultiIndex.from_arrays([[\"\",\"Aggregate CFD\",\"Aggregate CFD\"],[\"Library\",\"Mean\",\"% >4.8\"]])\n",
    "summary_table=summary_table.merge(aggcfdstats_reset)\n",
    "\n",
    "counts_all_CFD100_reset=counts_all_CFD100.reset_index()\n",
    "counts_all_CFD100_reset.columns=pd.MultiIndex.from_arrays([[\"\",\"CFD 1.0 OTS\",\"CFD 1.0 OTS\"],[\"Library\",\"%\",\"% Tier I\"]])\n",
    "summary_table=summary_table.merge(counts_all_CFD100_reset)\n",
    "\n",
    "summary_table"
   ]
  },
  {
   "cell_type": "code",
   "execution_count": 72,
   "id": "745e1bb1-b4ef-4191-a692-3bccbf01fcd7",
   "metadata": {},
   "outputs": [],
   "source": [
    "summary_table.to_csv(\"../Figures/GenomeWide_CRISPRkoCas9_librarycomparison.csv\",index=False)"
   ]
  }
 ],
 "metadata": {
  "kernelspec": {
   "display_name": "Python 3 (ipykernel)",
   "language": "python",
   "name": "python3"
  },
  "language_info": {
   "codemirror_mode": {
    "name": "ipython",
    "version": 3
   },
   "file_extension": ".py",
   "mimetype": "text/x-python",
   "name": "python",
   "nbconvert_exporter": "python",
   "pygments_lexer": "ipython3",
   "version": "3.13.0"
  }
 },
 "nbformat": 4,
 "nbformat_minor": 5
}
