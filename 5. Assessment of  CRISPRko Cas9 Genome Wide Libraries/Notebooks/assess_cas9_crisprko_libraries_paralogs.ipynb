{
 "cells": [
  {
   "cell_type": "code",
   "execution_count": 1,
   "id": "98f835bc-72e4-41e4-8f14-58c6b1b41f1e",
   "metadata": {},
   "outputs": [],
   "source": [
    "import pandas as pd\n",
    "import numpy as np\n",
    "import re\n",
    "import gzip\n"
   ]
  },
  {
   "cell_type": "markdown",
   "id": "20b41d99-dfd0-494d-9f57-38879a36018c",
   "metadata": {},
   "source": [
    "Assessing the effect of the library design choice in Jacquere to tolerate multi-target guides on guide selection for paralogs. \n"
   ]
  },
  {
   "cell_type": "code",
   "execution_count": 2,
   "id": "979e1366-afc7-4e9d-b4a3-47374cd0a641",
   "metadata": {},
   "outputs": [
    {
     "name": "stdout",
     "output_type": "stream",
     "text": [
      "# of guides in jacquere picked for numerous guides: 3925\n",
      "% of total library: 6.0\n",
      "\n",
      "# of genes that share guides with others in jacquere: 2689\n",
      "% of all genes targeted in jacquere: 13.0\n"
     ]
    },
    {
     "name": "stderr",
     "output_type": "stream",
     "text": [
      "/var/folders/nm/6_wl7tx50tq5bqfp8vzf4m6r0000gq/T/ipykernel_61851/1983965402.py:9: SettingWithCopyWarning: \n",
      "A value is trying to be set on a copy of a slice from a DataFrame.\n",
      "Try using .loc[row_indexer,col_indexer] = value instead\n",
      "\n",
      "See the caveats in the documentation: https://pandas.pydata.org/pandas-docs/stable/user_guide/indexing.html#returning-a-view-versus-a-copy\n",
      "  multi_target_guides[\"Target Gene ID\"]=multi_target_guides[\"Target Gene ID\"].apply(lambda x: x.split(\"|\"))\n"
     ]
    }
   ],
   "source": [
    "#Retrieve the genes targeted by each guide in Jacquere \n",
    "jacquere_perguide=pd.read_csv(\"../../4. Jacquere Design/Jacquere_PerGuideAnnotations.csv\")\n",
    "\n",
    "#Assess the prevalence of multi-target guides in Jacquere\n",
    "multi_target_guides= jacquere_perguide[jacquere_perguide[\"Target Gene ID\"].str.count(\"ENS\")>1]\n",
    "print(\"# of guides in jacquere picked for numerous guides:\",len(multi_target_guides))\n",
    "print(\"% of total library:\",100*round(len(multi_target_guides)/len(jacquere_perguide),2))\n",
    "\n",
    "multi_target_guides[\"Target Gene ID\"]=multi_target_guides[\"Target Gene ID\"].apply(lambda x: x.split(\"|\"))\n",
    "#get each unique guide/target pair as a row\n",
    "multi_target_guides_long=multi_target_guides.explode(\"Target Gene ID\")\n",
    "#keep ensembl gene IDs only \n",
    "multi_target_guides_long=multi_target_guides_long[multi_target_guides_long[\"Target Gene ID\"].str.count(\"ENS\")>0].reset_index(drop=True)\n",
    "#get list of all targets that share guides with other targets\n",
    "targets_that_share_guides= multi_target_guides_long[\"Target Gene ID\"].unique().tolist()\n",
    "print(\"\\n# of genes that share guides with others in jacquere:\",len(targets_that_share_guides))\n",
    "#get total # of genes targeted for context \n",
    "jacquere_perguide[\"Target Gene ID\"]=jacquere_perguide[\"Target Gene ID\"].apply(lambda x: x.split(\"|\"))\n",
    "jacquere_perguide_long=jacquere_perguide.explode(\"Target Gene ID\")\n",
    "jacquere_perguide_long=jacquere_perguide_long[jacquere_perguide_long[\"Target Gene ID\"].str.count(\"ENS\")>0].reset_index(drop=True)\n",
    "all_targets= jacquere_perguide_long[\"Target Gene ID\"].unique().tolist()\n",
    "print(\"% of all genes targeted in jacquere:\",100*round(len(targets_that_share_guides)/len(all_targets),2))"
   ]
  },
  {
   "cell_type": "markdown",
   "id": "dfc32241-171d-4890-bb18-ea74ba54b267",
   "metadata": {},
   "source": [
    "## Identify how exclude multimapping guides increases the number of untargetable genes\n",
    "\n",
    "Additionally examining how excluding multimapping guides removes *effective* guides necessary to target genes. These metrics are featured in the results section of the manuscript. For the purpose of this analysis, we are defining effective guides as RS3 >0.2 and disregarding the presence of restriction sites in candidate guides, spacing between guides, variability of the target according to gnomAD. "
   ]
  },
  {
   "cell_type": "code",
   "execution_count": null,
   "id": "bda19446-9429-499f-89ef-69e7a147abc8",
   "metadata": {},
   "outputs": [],
   "source": [
    "filepath=\"../Data/CRISPick evaluated CRISPRko Cas9 Genome Wide Libraries/sgRNA_design_9606_GRCh38_SpyoCas9_CRISPRko_RS3seq-Chen2013+RS3target_Ensembl_20241028.txt.gz\"\n",
    "with gzip.open(filepath) as f:\n",
    "    all_ensembl113_candidate_guides = pd.read_table(f)\n",
    "\n",
    "#total # genes that can be targeted by any guides (i.e. have a PAM)\n",
    "total_possible_targets= len(all_ensembl113_candidate_guides[\"Input\"].unique())\n",
    "#dataframe of guides that have no off-target matches in other genes \n",
    "no_other_target_matches= all_ensembl113_candidate_guides[all_ensembl113_candidate_guides['Other Target Matches'].isna()].reset_index(drop=True)\n",
    "\n",
    "print(\"# genes that at least have a PAM sequence:\",total_possible_targets)\n",
    "print(\"# genes that lose all candidate guides by removing multimapping guides:\",total_possible_targets-len(no_other_target_matches[\"Input\"].unique()))\n",
    "print(\"# genes that lose all candidate guides by removing RS3 <0.2 guides:\",total_possible_targets-len(all_ensembl113_candidate_guides[all_ensembl113_candidate_guides[\"On-Target Efficacy Score\"]>0.2][\"Input\"].unique()))\n",
    "print(\"# genes that lose all candidate guides by removing RS3 <0.2 and multimapping guides:\",total_possible_targets-len(no_other_target_matches[no_other_target_matches[\"On-Target Efficacy Score\"]>0.2][\"Input\"].unique()))\n"
   ]
  },
  {
   "cell_type": "markdown",
   "id": "02e2bd95-5b49-4ad9-87db-6a8e2ecbbbb1",
   "metadata": {},
   "source": [
    "The metrics above demonstrate that Multi-target guides are often the effective guides you need to target a gene: removing multi-target guides causes 1,124 genes to not receive any guides, and 1,331 genes to not receive any *effective* guides. "
   ]
  },
  {
   "cell_type": "markdown",
   "id": "e9475a87-6773-415e-b2e7-aecc9bc2e637",
   "metadata": {},
   "source": [
    "### Case study: Jacquere guide selections for paralogs\n",
    "\n",
    "Fc gamma receptor genes FCGR2A/B/C"
   ]
  },
  {
   "cell_type": "code",
   "execution_count": 3,
   "id": "c7dbb34e-8dcb-43e8-a9f9-ddaf9e9cb659",
   "metadata": {},
   "outputs": [],
   "source": [
    "jacquere_pertarget=pd.read_csv(\"../../4. Jacquere Design/Jacquere_PerTargetAnnotations.csv\")\n"
   ]
  },
  {
   "cell_type": "code",
   "execution_count": 4,
   "id": "22a973c7-fc68-4043-b91e-47daf7704c59",
   "metadata": {},
   "outputs": [
    {
     "name": "stdout",
     "output_type": "stream",
     "text": [
      "FCGR2B : FCGR2C mean % identity: 82.4993\n"
     ]
    }
   ],
   "source": [
    "#Retrieve % similarity among RAS family\n",
    "#File was downloaded from BioMart on 4/14/2025 with respect to Ensembl 113 (GENCODE47 gene annotations)\n",
    "\n",
    "biomart_ensembl113=pd.read_table(\"../Data/mart_export_ensembl113_paralogs.txt\",sep=\",\")\n",
    "#get average of AB and BA percent identity \n",
    "biomart_ensembl113[\"Mean percent identity\"]=biomart_ensembl113[[\"Paralogue %id. target Human gene identical to query gene\",\n",
    "                                                            \"Paralogue %id. query gene identical to target Human gene\"]].mean(axis=1)\n",
    "FCGR2B_GeneID=\"ENSG00000072694\"\n",
    "FCGR2C_GeneID=\"ENSG00000244682\"\n",
    "print(\"FCGR2B : FCGR2C mean % identity:\",biomart_ensembl113.loc[(biomart_ensembl113[\"Gene stable ID\"]==FCGR2B_GeneID)&(biomart_ensembl113[\"Human paralogue gene stable ID\"]==FCGR2C_GeneID),\"Mean percent identity\"].values[0])\n"
   ]
  },
  {
   "cell_type": "code",
   "execution_count": 5,
   "id": "67b04ab0-abfa-4bc1-8bcf-f2d214cf6523",
   "metadata": {},
   "outputs": [
    {
     "data": {
      "text/html": [
       "<div>\n",
       "<style scoped>\n",
       "    .dataframe tbody tr th:only-of-type {\n",
       "        vertical-align: middle;\n",
       "    }\n",
       "\n",
       "    .dataframe tbody tr th {\n",
       "        vertical-align: top;\n",
       "    }\n",
       "\n",
       "    .dataframe thead th {\n",
       "        text-align: right;\n",
       "    }\n",
       "</style>\n",
       "<table border=\"1\" class=\"dataframe\">\n",
       "  <thead>\n",
       "    <tr style=\"text-align: right;\">\n",
       "      <th></th>\n",
       "      <th>Target Gene ID</th>\n",
       "      <th>Target Gene Symbol</th>\n",
       "      <th>sgRNA Sequence</th>\n",
       "      <th>On-Target Ruleset</th>\n",
       "      <th>On-Target Efficacy Score</th>\n",
       "      <th>Aggregate CFD Score</th>\n",
       "      <th>Source</th>\n",
       "    </tr>\n",
       "  </thead>\n",
       "  <tbody>\n",
       "    <tr>\n",
       "      <th>3578</th>\n",
       "      <td>ENSG00000072694</td>\n",
       "      <td>FCGR2B</td>\n",
       "      <td>AAAGCACAGTCAGATGCACA</td>\n",
       "      <td>RS3seq-Chen2013+RS3target</td>\n",
       "      <td>0.9547</td>\n",
       "      <td>2.0222</td>\n",
       "      <td>GENCODE</td>\n",
       "    </tr>\n",
       "    <tr>\n",
       "      <th>55051</th>\n",
       "      <td>ENSG00000244682</td>\n",
       "      <td>FCGR2C</td>\n",
       "      <td>AGATTCCCATTGTGGAACCA</td>\n",
       "      <td>RS3seq-Chen2013+RS3target</td>\n",
       "      <td>0.3248</td>\n",
       "      <td>0.7446</td>\n",
       "      <td>GENCODE</td>\n",
       "    </tr>\n",
       "    <tr>\n",
       "      <th>3579</th>\n",
       "      <td>ENSG00000072694</td>\n",
       "      <td>FCGR2B</td>\n",
       "      <td>GGTGCTCCAGACCCCTCACC</td>\n",
       "      <td>RS3seq-Chen2013+RS3target</td>\n",
       "      <td>0.8991</td>\n",
       "      <td>3.6679</td>\n",
       "      <td>GENCODE</td>\n",
       "    </tr>\n",
       "    <tr>\n",
       "      <th>55049</th>\n",
       "      <td>ENSG00000244682</td>\n",
       "      <td>FCGR2C</td>\n",
       "      <td>GGTGCTCCAGACCCCTCACC</td>\n",
       "      <td>RS3seq-Chen2013+RS3target</td>\n",
       "      <td>0.8942</td>\n",
       "      <td>3.6679</td>\n",
       "      <td>GENCODE</td>\n",
       "    </tr>\n",
       "    <tr>\n",
       "      <th>55050</th>\n",
       "      <td>ENSG00000244682</td>\n",
       "      <td>FCGR2C</td>\n",
       "      <td>TCAGAGTCACAGAGTCCTCT</td>\n",
       "      <td>RS3seq-Chen2013+RS3target</td>\n",
       "      <td>0.4117</td>\n",
       "      <td>1.2727</td>\n",
       "      <td>GENCODE</td>\n",
       "    </tr>\n",
       "    <tr>\n",
       "      <th>3580</th>\n",
       "      <td>ENSG00000072694</td>\n",
       "      <td>FCGR2B</td>\n",
       "      <td>TGGAGCACGTTGATCCACTG</td>\n",
       "      <td>RS3seq-Chen2013+RS3target</td>\n",
       "      <td>0.4101</td>\n",
       "      <td>1.1875</td>\n",
       "      <td>GENCODE</td>\n",
       "    </tr>\n",
       "  </tbody>\n",
       "</table>\n",
       "</div>"
      ],
      "text/plain": [
       "        Target Gene ID Target Gene Symbol        sgRNA Sequence  \\\n",
       "3578   ENSG00000072694             FCGR2B  AAAGCACAGTCAGATGCACA   \n",
       "55051  ENSG00000244682             FCGR2C  AGATTCCCATTGTGGAACCA   \n",
       "3579   ENSG00000072694             FCGR2B  GGTGCTCCAGACCCCTCACC   \n",
       "55049  ENSG00000244682             FCGR2C  GGTGCTCCAGACCCCTCACC   \n",
       "55050  ENSG00000244682             FCGR2C  TCAGAGTCACAGAGTCCTCT   \n",
       "3580   ENSG00000072694             FCGR2B  TGGAGCACGTTGATCCACTG   \n",
       "\n",
       "               On-Target Ruleset  On-Target Efficacy Score  \\\n",
       "3578   RS3seq-Chen2013+RS3target                    0.9547   \n",
       "55051  RS3seq-Chen2013+RS3target                    0.3248   \n",
       "3579   RS3seq-Chen2013+RS3target                    0.8991   \n",
       "55049  RS3seq-Chen2013+RS3target                    0.8942   \n",
       "55050  RS3seq-Chen2013+RS3target                    0.4117   \n",
       "3580   RS3seq-Chen2013+RS3target                    0.4101   \n",
       "\n",
       "       Aggregate CFD Score   Source  \n",
       "3578                2.0222  GENCODE  \n",
       "55051               0.7446  GENCODE  \n",
       "3579                3.6679  GENCODE  \n",
       "55049               3.6679  GENCODE  \n",
       "55050               1.2727  GENCODE  \n",
       "3580                1.1875  GENCODE  "
      ]
     },
     "execution_count": 5,
     "metadata": {},
     "output_type": "execute_result"
    }
   ],
   "source": [
    "FCGR2_B_C_jacquere=jacquere_pertarget[jacquere_pertarget[\"Target Gene ID\"].isin([FCGR2B_GeneID,FCGR2C_GeneID])].sort_values(by=\"sgRNA Sequence\")\n",
    "FCGR2_B_C_jacquere"
   ]
  },
  {
   "cell_type": "code",
   "execution_count": 6,
   "id": "940e51bb-d1e1-4eea-9609-02a616ea57d4",
   "metadata": {},
   "outputs": [],
   "source": [
    "#from CRISPick: all possible guides for FCGRB, C \n",
    "#could maybe use this to make figure: highlight all options, report other genes targeted, Agg CFD, RS3 score + add % similarity\n",
    "all_FCGR2_B_C_guides=pd.read_table(\"../Data/FCGR2_B_C_allguides-sgrna-designs.txt\")\n",
    "all_FCGR2_B_C_guides[\"Other Target Matches\"]=all_FCGR2_B_C_guides[\"Other Target Matches\"].apply(lambda x: \",\".join(re.findall(r\"\\(([a-zA-Z0-9]+)\\)\",str(x))))\n"
   ]
  },
  {
   "cell_type": "code",
   "execution_count": 7,
   "id": "0133455d-7f06-4a1f-a6d4-f0b64dadc09e",
   "metadata": {},
   "outputs": [
    {
     "data": {
      "text/html": [
       "<div>\n",
       "<style scoped>\n",
       "    .dataframe tbody tr th:only-of-type {\n",
       "        vertical-align: middle;\n",
       "    }\n",
       "\n",
       "    .dataframe tbody tr th {\n",
       "        vertical-align: top;\n",
       "    }\n",
       "\n",
       "    .dataframe thead th {\n",
       "        text-align: right;\n",
       "    }\n",
       "</style>\n",
       "<table border=\"1\" class=\"dataframe\">\n",
       "  <thead>\n",
       "    <tr style=\"text-align: right;\">\n",
       "      <th></th>\n",
       "      <th>sgRNA Sequence</th>\n",
       "      <th>Other Target Matches</th>\n",
       "      <th>On-Target Efficacy Score</th>\n",
       "      <th>Aggregate CFD Score</th>\n",
       "      <th>Off-Target Tier I CFD100 Hits</th>\n",
       "      <th>Picking Round</th>\n",
       "    </tr>\n",
       "  </thead>\n",
       "  <tbody>\n",
       "    <tr>\n",
       "      <th>30</th>\n",
       "      <td>TGGAGCACGTTGATCCACTG</td>\n",
       "      <td></td>\n",
       "      <td>0.4101</td>\n",
       "      <td>1.1875</td>\n",
       "      <td>0</td>\n",
       "      <td>1.0</td>\n",
       "    </tr>\n",
       "    <tr>\n",
       "      <th>1</th>\n",
       "      <td>AAAGCACAGTCAGATGCACA</td>\n",
       "      <td>FCGR2A,FCGR2C</td>\n",
       "      <td>0.9547</td>\n",
       "      <td>2.0222</td>\n",
       "      <td>2</td>\n",
       "      <td>5.0</td>\n",
       "    </tr>\n",
       "    <tr>\n",
       "      <th>3</th>\n",
       "      <td>GGTGCTCCAGACCCCTCACC</td>\n",
       "      <td>FCGR2A,FCGR2C</td>\n",
       "      <td>0.8991</td>\n",
       "      <td>3.6679</td>\n",
       "      <td>2</td>\n",
       "      <td>5.0</td>\n",
       "    </tr>\n",
       "  </tbody>\n",
       "</table>\n",
       "</div>"
      ],
      "text/plain": [
       "          sgRNA Sequence Other Target Matches  On-Target Efficacy Score  \\\n",
       "30  TGGAGCACGTTGATCCACTG                                         0.4101   \n",
       "1   AAAGCACAGTCAGATGCACA        FCGR2A,FCGR2C                    0.9547   \n",
       "3   GGTGCTCCAGACCCCTCACC        FCGR2A,FCGR2C                    0.8991   \n",
       "\n",
       "    Aggregate CFD Score  Off-Target Tier I CFD100 Hits  Picking Round  \n",
       "30               1.1875                              0            1.0  \n",
       "1                2.0222                              2            5.0  \n",
       "3                3.6679                              2            5.0  "
      ]
     },
     "execution_count": 7,
     "metadata": {},
     "output_type": "execute_result"
    }
   ],
   "source": [
    "pd.set_option('display.max_colwidth', None)\n",
    "all_FCGR2B_guides=all_FCGR2_B_C_guides[all_FCGR2_B_C_guides[\"Target Gene Symbol\"]==\"FCGR2B\"].reset_index(drop=True)\n",
    "all_FCGR2B_guides_in_Jacquere=all_FCGR2B_guides[all_FCGR2B_guides[\"sgRNA Sequence\"].isin(jacquere_pertarget[jacquere_pertarget[\"Target Gene ID\"]==FCGR2B_GeneID][\"sgRNA Sequence\"].tolist())]\n",
    "all_FCGR2B_guides_in_Jacquere[[\"sgRNA Sequence\",\"Other Target Matches\",\"On-Target Efficacy Score\",\"Aggregate CFD Score\",'Off-Target Tier I CFD100 Hits','Picking Round']].sort_values(by=\"Picking Round\",ascending=True)\n"
   ]
  },
  {
   "cell_type": "code",
   "execution_count": 8,
   "id": "1cf7baf4-e2b7-42d2-b6a6-e88ff1493d88",
   "metadata": {},
   "outputs": [
    {
     "data": {
      "text/html": [
       "<div>\n",
       "<style scoped>\n",
       "    .dataframe tbody tr th:only-of-type {\n",
       "        vertical-align: middle;\n",
       "    }\n",
       "\n",
       "    .dataframe tbody tr th {\n",
       "        vertical-align: top;\n",
       "    }\n",
       "\n",
       "    .dataframe thead th {\n",
       "        text-align: right;\n",
       "    }\n",
       "</style>\n",
       "<table border=\"1\" class=\"dataframe\">\n",
       "  <thead>\n",
       "    <tr style=\"text-align: right;\">\n",
       "      <th></th>\n",
       "      <th>sgRNA Sequence</th>\n",
       "      <th>Other Target Matches</th>\n",
       "      <th>On-Target Efficacy Score</th>\n",
       "      <th>Aggregate CFD Score</th>\n",
       "      <th>Off-Target Tier I CFD100 Hits</th>\n",
       "      <th>Picking Round</th>\n",
       "    </tr>\n",
       "  </thead>\n",
       "  <tbody>\n",
       "    <tr>\n",
       "      <th>20</th>\n",
       "      <td>TCAGAGTCACAGAGTCCTCT</td>\n",
       "      <td></td>\n",
       "      <td>0.4117</td>\n",
       "      <td>1.2727</td>\n",
       "      <td>0</td>\n",
       "      <td>1.0</td>\n",
       "    </tr>\n",
       "    <tr>\n",
       "      <th>27</th>\n",
       "      <td>AGATTCCCATTGTGGAACCA</td>\n",
       "      <td></td>\n",
       "      <td>0.3248</td>\n",
       "      <td>0.7446</td>\n",
       "      <td>0</td>\n",
       "      <td>1.0</td>\n",
       "    </tr>\n",
       "    <tr>\n",
       "      <th>1</th>\n",
       "      <td>GGTGCTCCAGACCCCTCACC</td>\n",
       "      <td>FCGR2B,FCGR2A</td>\n",
       "      <td>0.8942</td>\n",
       "      <td>3.6679</td>\n",
       "      <td>2</td>\n",
       "      <td>5.0</td>\n",
       "    </tr>\n",
       "  </tbody>\n",
       "</table>\n",
       "</div>"
      ],
      "text/plain": [
       "          sgRNA Sequence Other Target Matches  On-Target Efficacy Score  \\\n",
       "20  TCAGAGTCACAGAGTCCTCT                                         0.4117   \n",
       "27  AGATTCCCATTGTGGAACCA                                         0.3248   \n",
       "1   GGTGCTCCAGACCCCTCACC        FCGR2B,FCGR2A                    0.8942   \n",
       "\n",
       "    Aggregate CFD Score  Off-Target Tier I CFD100 Hits  Picking Round  \n",
       "20               1.2727                              0            1.0  \n",
       "27               0.7446                              0            1.0  \n",
       "1                3.6679                              2            5.0  "
      ]
     },
     "execution_count": 8,
     "metadata": {},
     "output_type": "execute_result"
    }
   ],
   "source": [
    "all_FCGR2C_guides=all_FCGR2_B_C_guides[all_FCGR2_B_C_guides[\"Target Gene Symbol\"]==\"FCGR2C\"].reset_index(drop=True)\n",
    "all_FCGR2C_guides_in_Jacquere=all_FCGR2C_guides[all_FCGR2C_guides[\"sgRNA Sequence\"].isin(jacquere_pertarget[jacquere_pertarget[\"Target Gene ID\"]==FCGR2C_GeneID][\"sgRNA Sequence\"].tolist())]\n",
    "all_FCGR2C_guides_in_Jacquere[[\"sgRNA Sequence\",\"Other Target Matches\",\"On-Target Efficacy Score\",\"Aggregate CFD Score\",'Off-Target Tier I CFD100 Hits','Picking Round']].sort_values(by=\"Picking Round\",ascending=True)\n"
   ]
  }
 ],
 "metadata": {
  "kernelspec": {
   "display_name": "Python 3 (ipykernel)",
   "language": "python",
   "name": "python3"
  },
  "language_info": {
   "codemirror_mode": {
    "name": "ipython",
    "version": 3
   },
   "file_extension": ".py",
   "mimetype": "text/x-python",
   "name": "python",
   "nbconvert_exporter": "python",
   "pygments_lexer": "ipython3",
   "version": "3.13.0"
  }
 },
 "nbformat": 4,
 "nbformat_minor": 5
}
