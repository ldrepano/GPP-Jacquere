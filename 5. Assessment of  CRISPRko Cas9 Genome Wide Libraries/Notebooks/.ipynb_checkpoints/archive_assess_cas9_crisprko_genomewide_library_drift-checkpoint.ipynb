{
 "cells": [
  {
   "cell_type": "code",
   "execution_count": 62,
   "id": "b128773d",
   "metadata": {},
   "outputs": [],
   "source": [
    "import pandas as pd\n",
    "import seaborn as sns\n",
    "import matplotlib.pyplot as plt\n",
    "import numpy as np\n",
    "import gpplot as gpp\n",
    "from scipy.stats import normaltest\n",
    "\n",
    "\n",
    "gpp.set_aesthetics(context = 'paper')"
   ]
  },
  {
   "cell_type": "markdown",
   "id": "abb41d21",
   "metadata": {},
   "source": [
    "Assess the coverage of GENCODE47 offered by various Genome Wide CRISPRko Cas9 libraries \n",
    "\n",
    "To retrieve guide mappings in GENCODE 47, guide sequences are inserted into the [LIMS tool](https://gpplims.broadinstitute.org/annot/report/sgrna/disco).  "
   ]
  },
  {
   "cell_type": "code",
   "execution_count": 63,
   "id": "ee7b77c8-ac9d-45ed-83d4-5a7141b53623",
   "metadata": {},
   "outputs": [],
   "source": [
    "path_to_annotations=\"../Data/GENCODE47 Mappings of CRISPRko Cas9 Genome Wide Libraries/\""
   ]
  },
  {
   "cell_type": "markdown",
   "id": "a846c088-f077-40f9-b3d1-32404094f3b4",
   "metadata": {},
   "source": [
    "## GeCKO v2 (2014)\n",
    "6 guides/gene"
   ]
  },
  {
   "cell_type": "code",
   "execution_count": 64,
   "id": "659aff6a-6d46-4a66-a35f-bc070cf2d6f0",
   "metadata": {},
   "outputs": [],
   "source": [
    "gecko_a=pd.read_csv(path_to_annotations+\"gecko_a_adhoc_sgRNA_disco_GRCh38_Ensembl_SpyoCas9Ko_strict.csv\")\n",
    "gecko_b=pd.read_csv(path_to_annotations+\"gecko_b_adhoc_sgRNA_disco_GRCh38_Ensembl_SpyoCas9Ko_strict.csv\")\n",
    "gecko=pd.concat([gecko_a,gecko_b])"
   ]
  },
  {
   "cell_type": "markdown",
   "id": "9063f46b-f411-48fe-95d1-c7ac1e3682fe",
   "metadata": {},
   "source": [
    "## Avana (2016)\n",
    "4 guides/gene screened for DepMap. Downloaded from [DepMap](https://depmap.org/portal/data_page/?tab=allData&releasename=DepMap+Public+24Q4&filename=AvanaGuideMap.csv)"
   ]
  },
  {
   "cell_type": "code",
   "execution_count": 65,
   "id": "81348cfd-b74a-43c9-befd-be6fa2f48fa6",
   "metadata": {},
   "outputs": [],
   "source": [
    "avana=pd.read_csv(path_to_annotations+\"avana_adhoc_sgRNA_disco_GRCh38_Ensembl_SpyoCas9Ko_strict.csv\")"
   ]
  },
  {
   "cell_type": "markdown",
   "id": "a7d95f50-12cf-4c29-8658-fb59a59cff83",
   "metadata": {},
   "source": [
    "## Brunello (2016)\n"
   ]
  },
  {
   "cell_type": "code",
   "execution_count": 66,
   "id": "4772ec18-8819-4db8-849d-d086d6d4d259",
   "metadata": {},
   "outputs": [],
   "source": [
    "brunello=pd.read_csv(path_to_annotations+\"brunello_adhoc_sgRNA_disco_GRCh38_Ensembl_SpyoCas9Ko_strict.csv\")"
   ]
  },
  {
   "cell_type": "markdown",
   "id": "4080e6c0-426f-4288-b0e7-32763e2c836c",
   "metadata": {},
   "source": [
    "## Human Sanger Genome Wide Library v1 (2016)\n",
    "\n",
    "human genome-wide CRISPR library (v1) consisting of 90,709 gRNAs targeting a total of 18,010 genes \n",
    "\n",
    "from [Tzelepis 2016](https://pmc.ncbi.nlm.nih.gov/articles/PMC5081405/#mmc2)\n",
    "\n",
    "used for [Project Score](https://score.depmap.sanger.ac.uk/documentation) \n",
    "\n",
    "note: I manually curated the projscore.csv file from the MinLibCas9 github MasterLib_v1 [file](https://github.com/EmanuelGoncalves/crispy/blob/master/notebooks/minlib/libraries/MasterLib_v1.csv.gz) to be 20 nt long"
   ]
  },
  {
   "cell_type": "code",
   "execution_count": 68,
   "id": "d342fe2c-1e9a-4a4c-8782-6ec6bfd21a22",
   "metadata": {},
   "outputs": [],
   "source": [
    "projscore=pd.read_csv(path_to_annotations+\"hsangerv1_adhoc_sgRNA_disco_GRCh38_Ensembl_SpyoCas9Ko_strict.csv\")"
   ]
  },
  {
   "cell_type": "markdown",
   "id": "6cb817aa",
   "metadata": {},
   "source": [
    "## TKOv3 (2017)\n",
    "[TKOv3 Library Introduction](https://academic.oup.com/g3journal/article/7/8/2719/6031511?login=true)\n",
    "70,948 gRNAs targeting 18,053 protein-coding genes (up to 4 sgRNA/gene)"
   ]
  },
  {
   "cell_type": "code",
   "execution_count": 69,
   "id": "d5e5c215-590f-44b6-983c-5c09499f96c2",
   "metadata": {},
   "outputs": [],
   "source": [
    "tkov3=pd.read_csv(path_to_annotations+\"tkov3_adhoc_sgRNA_disco_GRCh38_Ensembl_SpyoCas9Ko_strict.csv\")"
   ]
  },
  {
   "cell_type": "markdown",
   "id": "3d3398b6-1b70-440e-abfc-ac5642fa83a2",
   "metadata": {},
   "source": [
    "## Gattinara (2018)"
   ]
  },
  {
   "cell_type": "code",
   "execution_count": 70,
   "id": "3e4ac0b0-300f-4ba9-ab08-584a8e43564f",
   "metadata": {},
   "outputs": [],
   "source": [
    "gattinara=pd.read_csv(path_to_annotations+\"gattinara_adhoc_sgRNA_disco_GRCh38_Ensembl_SpyoCas9Ko_strict.csv\")"
   ]
  },
  {
   "cell_type": "markdown",
   "id": "f8b0c71f-c84f-499b-8550-17e7c5f93538",
   "metadata": {},
   "source": [
    "## MinLibCas9 (2021)\n",
    "[source: Goncalves et al 2021](https://genomebiology.biomedcentral.com/articles/10.1186/s13059-021-02268-4#Sec15)\n",
    "covers 18,761 protein-coding genes with 37,522 sgRNAs (33,986 Project Score; 1732 Brunello; 1493 Avana and 311 TKOv3). Preferentially selected guides with demonstrated activity in Project Score data."
   ]
  },
  {
   "cell_type": "code",
   "execution_count": 71,
   "id": "08cef5a8-7694-4bf5-90e2-44e2529afeeb",
   "metadata": {},
   "outputs": [],
   "source": [
    "minlibcas9=pd.read_csv(path_to_annotations+\"minlibcas9_adhoc_sgRNA_disco_GRCh38_Ensembl_SpyoCas9Ko_strict.csv\")"
   ]
  },
  {
   "cell_type": "markdown",
   "id": "78536609-d41d-4c54-811e-b37662eb0184",
   "metadata": {},
   "source": [
    "## Jacquere (2025)"
   ]
  },
  {
   "cell_type": "code",
   "execution_count": 72,
   "id": "7454ebec-6904-47a8-b81a-3f92f5039f2a",
   "metadata": {},
   "outputs": [],
   "source": [
    "jacquere= pd.read_csv(path_to_annotations+\"jacquere_quota3_adhoc_sgRNA_disco_GRCh38_Ensembl_SpyoCas9Ko_strict.csv\")"
   ]
  },
  {
   "cell_type": "code",
   "execution_count": 73,
   "id": "45b808dd-b00e-41f3-8d24-7ea75bcff262",
   "metadata": {},
   "outputs": [
    {
     "data": {
      "text/plain": [
       "On-target Gene Symbols\n",
       "(ENSG00000284292),ARPC1A    6\n",
       "(ENSG00000285000),AGGF1     6\n",
       "STIMATE,STIMATE-MUSTN1      6\n",
       "H4C16                       6\n",
       "MRFAP1L2                    6\n",
       "                           ..\n",
       "(ENSG00000286098),ZNF844    1\n",
       "(ENSG00000293724),TGM2      1\n",
       "SUMO1,SUMO1P3,SUMO1P4       1\n",
       "(ENSG00000257622),JAG2      1\n",
       "PRDX6,TNFSF4                1\n",
       "Name: count, Length: 21701, dtype: int64"
      ]
     },
     "execution_count": 73,
     "metadata": {},
     "output_type": "execute_result"
    }
   ],
   "source": [
    "#max number of guides mapped to any single gene is 6 \n",
    "jacquere[\"On-target Gene Symbols\"].value_counts()"
   ]
  },
  {
   "cell_type": "markdown",
   "id": "db4ab80f",
   "metadata": {},
   "source": [
    "generating figure to see, for each library, what % of protein-coding genes in GENCODE47 are targeted at quota level\n",
    "\n",
    "I acquired all protein coding genes in Ensembl.v113 (which reflects GENCODE47) by doing a CRISPick run of all protein coding genes. \n",
    "I copied this list as input to HGNC when determining target annotations for Jacquere, so acquiring the list from that file. \n"
   ]
  },
  {
   "cell_type": "code",
   "execution_count": 74,
   "id": "56368dbf-0941-4b6b-9a99-ed5c4b5f7acc",
   "metadata": {},
   "outputs": [],
   "source": [
    "gencode47_allproteincoding= pd.read_table(\"../Jacquere_library/design_annotations/ensembl113-allproteincoding-sgrna-designs.txt\")\n",
    "gencode47_allproteincoding=gencode47_allproteincoding.drop_duplicates(subset=\"Target Gene ID\",keep=\"first\")[[\"Target Gene Symbol\"]].dropna()\n"
   ]
  },
  {
   "cell_type": "code",
   "execution_count": 75,
   "id": "8d24f2b9-7b24-4def-85b3-d6483994c096",
   "metadata": {},
   "outputs": [],
   "source": [
    "#file to get count of guides targeting each ensembl gene from indicated library (guides mapped with LIMS tool)\n",
    "def get_unique_genes_targeted(LIMSfile,library):\n",
    "    LIMSfile[\"Target Gene Symbol\"]=LIMSfile[\"On-target Gene Symbols\"].str.split(\",\")\n",
    "    LIMSfile_long=LIMSfile.explode(\"Target Gene Symbol\")\n",
    "    LIMSfile_genecounts=pd.DataFrame(LIMSfile_long[\"Target Gene Symbol\"].value_counts()).reset_index()\n",
    "    LIMSfile_genecounts=LIMSfile_genecounts.rename(columns={ \"count\":library})\n",
    "    return LIMSfile_genecounts\n",
    "\n",
    "gecko_counts=get_unique_genes_targeted(gecko,\"gecko\")\n",
    "avana_counts=get_unique_genes_targeted(avana,\"avana\")\n",
    "brunello_counts=get_unique_genes_targeted(brunello,\"brunello\")\n",
    "projscore_counts=get_unique_genes_targeted(projscore,\"projscore\")\n",
    "tkov3_counts=get_unique_genes_targeted(tkov3,\"tkov3\")\n",
    "gattinara_counts=get_unique_genes_targeted(gattinara,\"gattinara\")\n",
    "minlibcas9_counts=get_unique_genes_targeted(minlibcas9,\"minlibcas9\")\n",
    "jacquere_counts=get_unique_genes_targeted(jacquere,\"jacquere\")"
   ]
  },
  {
   "cell_type": "code",
   "execution_count": 76,
   "id": "bc0fc041",
   "metadata": {},
   "outputs": [
    {
     "data": {
      "text/html": [
       "<div>\n",
       "<style scoped>\n",
       "    .dataframe tbody tr th:only-of-type {\n",
       "        vertical-align: middle;\n",
       "    }\n",
       "\n",
       "    .dataframe tbody tr th {\n",
       "        vertical-align: top;\n",
       "    }\n",
       "\n",
       "    .dataframe thead th {\n",
       "        text-align: right;\n",
       "    }\n",
       "</style>\n",
       "<table border=\"1\" class=\"dataframe\">\n",
       "  <thead>\n",
       "    <tr style=\"text-align: right;\">\n",
       "      <th></th>\n",
       "      <th>Target Gene Symbol</th>\n",
       "      <th>gecko</th>\n",
       "      <th>avana</th>\n",
       "      <th>brunello</th>\n",
       "      <th>projscore</th>\n",
       "      <th>tkov3</th>\n",
       "      <th>gattinara</th>\n",
       "      <th>minlibcas9</th>\n",
       "      <th>jacquere</th>\n",
       "    </tr>\n",
       "  </thead>\n",
       "  <tbody>\n",
       "    <tr>\n",
       "      <th>0</th>\n",
       "      <td>TSPAN6</td>\n",
       "      <td>6.0</td>\n",
       "      <td>4.0</td>\n",
       "      <td>4.0</td>\n",
       "      <td>5.0</td>\n",
       "      <td>4.0</td>\n",
       "      <td>2.0</td>\n",
       "      <td>2.0</td>\n",
       "      <td>3.0</td>\n",
       "    </tr>\n",
       "    <tr>\n",
       "      <th>1</th>\n",
       "      <td>TNMD</td>\n",
       "      <td>6.0</td>\n",
       "      <td>4.0</td>\n",
       "      <td>4.0</td>\n",
       "      <td>5.0</td>\n",
       "      <td>4.0</td>\n",
       "      <td>2.0</td>\n",
       "      <td>2.0</td>\n",
       "      <td>3.0</td>\n",
       "    </tr>\n",
       "    <tr>\n",
       "      <th>2</th>\n",
       "      <td>DPM1</td>\n",
       "      <td>7.0</td>\n",
       "      <td>4.0</td>\n",
       "      <td>4.0</td>\n",
       "      <td>5.0</td>\n",
       "      <td>4.0</td>\n",
       "      <td>2.0</td>\n",
       "      <td>2.0</td>\n",
       "      <td>3.0</td>\n",
       "    </tr>\n",
       "    <tr>\n",
       "      <th>3</th>\n",
       "      <td>SCYL3</td>\n",
       "      <td>6.0</td>\n",
       "      <td>4.0</td>\n",
       "      <td>4.0</td>\n",
       "      <td>10.0</td>\n",
       "      <td>4.0</td>\n",
       "      <td>2.0</td>\n",
       "      <td>2.0</td>\n",
       "      <td>3.0</td>\n",
       "    </tr>\n",
       "    <tr>\n",
       "      <th>4</th>\n",
       "      <td>FIRRM</td>\n",
       "      <td>6.0</td>\n",
       "      <td>4.0</td>\n",
       "      <td>4.0</td>\n",
       "      <td>5.0</td>\n",
       "      <td>4.0</td>\n",
       "      <td>2.0</td>\n",
       "      <td>2.0</td>\n",
       "      <td>3.0</td>\n",
       "    </tr>\n",
       "    <tr>\n",
       "      <th>...</th>\n",
       "      <td>...</td>\n",
       "      <td>...</td>\n",
       "      <td>...</td>\n",
       "      <td>...</td>\n",
       "      <td>...</td>\n",
       "      <td>...</td>\n",
       "      <td>...</td>\n",
       "      <td>...</td>\n",
       "      <td>...</td>\n",
       "    </tr>\n",
       "    <tr>\n",
       "      <th>19468</th>\n",
       "      <td>IL9R</td>\n",
       "      <td>12.0</td>\n",
       "      <td>8.0</td>\n",
       "      <td>8.0</td>\n",
       "      <td>8.0</td>\n",
       "      <td>0.0</td>\n",
       "      <td>4.0</td>\n",
       "      <td>4.0</td>\n",
       "      <td>8.0</td>\n",
       "    </tr>\n",
       "    <tr>\n",
       "      <th>19469</th>\n",
       "      <td>MSL3B</td>\n",
       "      <td>0.0</td>\n",
       "      <td>1.0</td>\n",
       "      <td>0.0</td>\n",
       "      <td>0.0</td>\n",
       "      <td>2.0</td>\n",
       "      <td>0.0</td>\n",
       "      <td>0.0</td>\n",
       "      <td>3.0</td>\n",
       "    </tr>\n",
       "    <tr>\n",
       "      <th>19470</th>\n",
       "      <td>DUSP13B</td>\n",
       "      <td>7.0</td>\n",
       "      <td>2.0</td>\n",
       "      <td>8.0</td>\n",
       "      <td>16.0</td>\n",
       "      <td>7.0</td>\n",
       "      <td>3.0</td>\n",
       "      <td>4.0</td>\n",
       "      <td>12.0</td>\n",
       "    </tr>\n",
       "    <tr>\n",
       "      <th>19471</th>\n",
       "      <td>DUSP13A</td>\n",
       "      <td>3.0</td>\n",
       "      <td>4.0</td>\n",
       "      <td>0.0</td>\n",
       "      <td>5.0</td>\n",
       "      <td>1.0</td>\n",
       "      <td>1.0</td>\n",
       "      <td>0.0</td>\n",
       "      <td>6.0</td>\n",
       "    </tr>\n",
       "    <tr>\n",
       "      <th>19472</th>\n",
       "      <td>CAST</td>\n",
       "      <td>6.0</td>\n",
       "      <td>4.0</td>\n",
       "      <td>4.0</td>\n",
       "      <td>5.0</td>\n",
       "      <td>4.0</td>\n",
       "      <td>2.0</td>\n",
       "      <td>2.0</td>\n",
       "      <td>3.0</td>\n",
       "    </tr>\n",
       "  </tbody>\n",
       "</table>\n",
       "<p>19473 rows × 9 columns</p>\n",
       "</div>"
      ],
      "text/plain": [
       "      Target Gene Symbol  gecko  avana  brunello  projscore  tkov3  gattinara  \\\n",
       "0                 TSPAN6    6.0    4.0       4.0        5.0    4.0        2.0   \n",
       "1                   TNMD    6.0    4.0       4.0        5.0    4.0        2.0   \n",
       "2                   DPM1    7.0    4.0       4.0        5.0    4.0        2.0   \n",
       "3                  SCYL3    6.0    4.0       4.0       10.0    4.0        2.0   \n",
       "4                  FIRRM    6.0    4.0       4.0        5.0    4.0        2.0   \n",
       "...                  ...    ...    ...       ...        ...    ...        ...   \n",
       "19468               IL9R   12.0    8.0       8.0        8.0    0.0        4.0   \n",
       "19469              MSL3B    0.0    1.0       0.0        0.0    2.0        0.0   \n",
       "19470            DUSP13B    7.0    2.0       8.0       16.0    7.0        3.0   \n",
       "19471            DUSP13A    3.0    4.0       0.0        5.0    1.0        1.0   \n",
       "19472               CAST    6.0    4.0       4.0        5.0    4.0        2.0   \n",
       "\n",
       "       minlibcas9  jacquere  \n",
       "0             2.0       3.0  \n",
       "1             2.0       3.0  \n",
       "2             2.0       3.0  \n",
       "3             2.0       3.0  \n",
       "4             2.0       3.0  \n",
       "...           ...       ...  \n",
       "19468         4.0       8.0  \n",
       "19469         0.0       3.0  \n",
       "19470         4.0      12.0  \n",
       "19471         0.0       6.0  \n",
       "19472         2.0       3.0  \n",
       "\n",
       "[19473 rows x 9 columns]"
      ]
     },
     "execution_count": 76,
     "metadata": {},
     "output_type": "execute_result"
    }
   ],
   "source": [
    "all_counts=pd.merge(gencode47_allproteincoding,gecko_counts,on=\"Target Gene Symbol\",how=\"left\")\n",
    "all_counts=pd.merge(all_counts,avana_counts,on=\"Target Gene Symbol\",how=\"left\")\n",
    "all_counts=pd.merge(all_counts,brunello_counts,on=\"Target Gene Symbol\",how=\"left\")\n",
    "all_counts=pd.merge(all_counts,projscore_counts,on=\"Target Gene Symbol\",how=\"left\")\n",
    "all_counts=pd.merge(all_counts,tkov3_counts,on=\"Target Gene Symbol\",how=\"left\")\n",
    "all_counts=pd.merge(all_counts,gattinara_counts,on=\"Target Gene Symbol\",how=\"left\")\n",
    "all_counts=pd.merge(all_counts,minlibcas9_counts,on=\"Target Gene Symbol\",how=\"left\")\n",
    "all_counts=pd.merge(all_counts,jacquere_counts,on=\"Target Gene Symbol\",how=\"left\")\n",
    "\n",
    "all_counts=all_counts.replace(np.nan,0)\n",
    "all_counts"
   ]
  },
  {
   "cell_type": "code",
   "execution_count": 77,
   "id": "05e3b34d",
   "metadata": {},
   "outputs": [],
   "source": [
    "total=len(all_counts)\n",
    "frac_quota_met_gecko= 100*len(all_counts[all_counts[\"gecko\"]>=6])/total\n",
    "frac_quota_met_avana= 100*len(all_counts[all_counts[\"avana\"]>=4])/total\n",
    "frac_quota_met_brunello= 100*len(all_counts[all_counts[\"brunello\"]>=4])/total\n",
    "frac_quota_met_sanger= 100*len(all_counts[all_counts[\"projscore\"]>=5])/total\n",
    "frac_quota_met_tkov3= 100*len(all_counts[all_counts[\"tkov3\"]>=4])/total\n",
    "frac_quota_met_gattinara= 100*len(all_counts[all_counts[\"gattinara\"]>=2])/total\n",
    "frac_quota_met_minlibcas9= 100*len(all_counts[all_counts[\"minlibcas9\"]>=2])/total\n",
    "frac_quota_met_jacquere= 100*len(all_counts[all_counts[\"jacquere\"]>=3])/total\n",
    "\n",
    "frac_quota_met_list=[frac_quota_met_gecko,frac_quota_met_avana,frac_quota_met_brunello,frac_quota_met_sanger,frac_quota_met_tkov3,frac_quota_met_gattinara,frac_quota_met_minlibcas9,frac_quota_met_jacquere]\n",
    "library_labels=[\"GeCKOv2 (PMID:25075903)\\n2014\\n quota:6\",\n",
    "                \"Avana (PMID:26780180)\\n2016\\n quota:4\",\n",
    "                \"Brunello (PMID:26780180)\\n2016\\n quota:4\",\n",
    "                \"Proj.Score (PMID:27760321)\\n2016\\n quota:5\",\n",
    "                \"TKOv3 (PMID:30970261)\\n2017\\n quota:4\",\n",
    "                \"Gattinara (PMID:32029722)\\n2018\\n quota:2\",\n",
    "                \"MinLib (PMID:33478580)\\n2021\\n quota:2\",\n",
    "                \"Jacquere \\n2025\\n quota:3\"]\n",
    "\n",
    "gene_level_figure=pd.DataFrame({\"Library\":library_labels,\"% genes with quota met\":frac_quota_met_list})\n",
    "gene_level_figure[['Library','Year','Quota']] = gene_level_figure['Library'].str.split('\\n', n=3, expand=True)\n",
    "\n",
    "\n",
    "#changes for aesthetic purposes \n",
    "gene_level_figure[\"Quota\"]=gene_level_figure[\"Quota\"].str.replace(\"quota:\",\"\")\n",
    "gene_level_figure[\"% not covered\"]=(100-gene_level_figure[\"% genes with quota met\"]).round(1)\n",
    "gene_level_figure=gene_level_figure[[\"Library\",\"Year\",\"Quota\",\"% not covered\"]].set_index(\"Library\")\n"
   ]
  },
  {
   "cell_type": "code",
   "execution_count": 78,
   "id": "bf7cf809-009e-419f-8e8e-724fe367128a",
   "metadata": {},
   "outputs": [
    {
     "data": {
      "image/png": "[encoded data removed]",
      "text/plain": [
       "<Figure size 600x200 with 1 Axes>"
      ]
     },
     "metadata": {},
     "output_type": "display_data"
    }
   ],
   "source": [
    "fig, ax = plt.subplots(figsize=(6,2))\n",
    "ax.table(cellText=gene_level_figure.values, \n",
    "         colLabels=gene_level_figure.columns, \n",
    "         loc='center',colColours=[\"lightgrey\",\"lightgrey\",\"lightblue\"],\n",
    "         fontsize=10,rowLabels=gene_level_figure.index)\n",
    "ax.axis('off')\n",
    "fig.tight_layout()\n",
    "plt.title(\"Coverage of GENCODE47 protein coding genes by library\")\n",
    "plt.savefig(\"../Figures/percent_of_GENCODE47_genes_not_covered_quota_level_CRISPRkoCas9_libraries.pdf\",dpi=600,bbox_inches=\"tight\")"
   ]
  },
  {
   "cell_type": "markdown",
   "id": "21730769-e1de-4125-8fee-46d17bc1a4ea",
   "metadata": {},
   "source": [
    "####  Alternative table (Supplementary Figure)\n",
    "1) identifying % of libraries whose original targeting guides are now outside of a protein coding region\n",
    "2) identify % of GENCODE47 genes to which no guides in the library map "
   ]
  },
  {
   "cell_type": "code",
   "execution_count": 103,
   "id": "c2bbe1f6-50e4-4217-9a1b-7a7cb31ef624",
   "metadata": {},
   "outputs": [
    {
     "name": "stderr",
     "output_type": "stream",
     "text": [
      "/Users/ldrepano/base_analysis/lib/python3.13/site-packages/openpyxl/worksheet/_reader.py:329: UserWarning: Unknown extension is not supported and will be removed\n",
      "  warn(msg)\n"
     ]
    }
   ],
   "source": [
    "#Retrieiving the list of targeting guides alone across libraries \n",
    "original_library_annotations= \"/Users/ldrepano/Library/CloudStorage/GoogleDrive-ldrepano@broadinstitute.org/Shared drives/GPP Cloud /R&D/People/Laura/CRISPick Parameter Tuning/Manuscript/Part 5: New SpCas9ko genome-wide library/Data/Original Annotations of CRISPRko Cas9 Genome Wide Libraries/\"\n",
    "\n",
    "gecko_ogmap_a=pd.read_csv(original_library_annotations+\"human_geckov2_library_a_09mar2015.csv\")\n",
    "gecko_ogmap_b=pd.read_csv(original_library_annotations+\"human_geckov2_library_b_09mar2015.csv\")\n",
    "gecko_ogmap=pd.concat([gecko_ogmap_a,gecko_ogmap_b])\n",
    "gecko_targeting_guides= gecko_ogmap[gecko_ogmap[\"gene_id\"].str.count(\"NonTargeting\")==0][\"seq\"].tolist()\n",
    "gecko_targeting_df=gecko[gecko[\"Target Sequence\"].isin(gecko_targeting_guides)].reset_index(drop=True)\n",
    "\n",
    "avana_ogmap=pd.read_csv(original_library_annotations+\"AvanaGuideMap.csv\")\n",
    "avana_targeting_guides= avana_ogmap[(avana_ogmap[\"Gene\"].isna()==False)&(avana_ogmap[\"Gene\"].str.count(\"INTERGENIC\")==0)][\"sgRNA\"].tolist()\n",
    "avana_targeting_df=avana[avana[\"Target Sequence\"].isin(avana_targeting_guides)].reset_index(drop=True)\n",
    "\n",
    "brunello_ogmap=pd.read_excel(original_library_annotations+\"STable 21 Brunello.xlsx\",sheet_name=\"Sheet1\")\n",
    "brunello_targeting_guides=brunello_ogmap[\"sgRNA Target Sequence\"].tolist()\n",
    "brunello_targeting_df=brunello[brunello[\"Target Sequence\"].isin(brunello_targeting_guides)].reset_index(drop=True)\n",
    "\n",
    "projscore_ogmap=pd.read_csv(original_library_annotations+\"hsangerv1.csv\")\n",
    "projscore_targeting_guides= projscore_ogmap[\"20nt Guide\"].tolist()\n",
    "projscore_targeting_df=projscore[projscore[\"Target Sequence\"].isin(projscore_targeting_guides)].reset_index(drop=True)\n",
    "\n",
    "tkov3_ogmap= pd.read_excel(original_library_annotations+\"tkov3_guide_sequence.xlsx\",sheet_name=\"TKOv3-Human-Library\")\n",
    "tkov3_targeting_guides=tkov3_ogmap[tkov3_ogmap[\"GENE\"].isin([\"LacZ\",\"luciferase\",\"EGFP\"])==False][\"SEQUENCE\"].tolist()\n",
    "tkov3_targeting_df=tkov3[tkov3[\"Target Sequence\"].isin(tkov3_targeting_guides)].reset_index(drop=True)\n",
    "\n",
    "gattinara_ogmap=pd.read_table(original_library_annotations+\"broadgpp-gattinara-library-contents.txt\")\n",
    "gattinara_targeting_guides= gattinara_ogmap[gattinara_ogmap[\"Annotated Gene Symbol\"].str.count(\"NEG_CONTROL\")==0][\"Barcode Sequence\"].tolist()\n",
    "gattinara_targeting_df=gattinara[gattinara[\"Target Sequence\"].isin(gattinara_targeting_guides)].reset_index(drop=True)\n",
    "\n",
    "minlib_ogmap= pd.read_excel(original_library_annotations+\"Goncalves2021_AddFile4_MinLib.xlsx\",sheet_name=\"Sheet1\")\n",
    "minlib_targeting_guides= minlib_ogmap[minlib_ogmap[\"Approved_Symbol\"].isna()==False][\"20 NT sgRNA sequences\"].tolist()\n",
    "minlib_targeting_df=minlibcas9[minlibcas9[\"Target Sequence\"].isin(minlib_targeting_guides)].reset_index(drop=True)\n",
    "\n",
    "jacquere_targeting_df=jacquere_targeting_df[jacquere_targeting_df[\"Notes\"].str.count(\"SITE\")==0].reset_index(drop=True)"
   ]
  },
  {
   "cell_type": "code",
   "execution_count": 106,
   "id": "1c255eb7-8a9d-4f16-a536-a36e92ed7b0b",
   "metadata": {},
   "outputs": [
    {
     "name": "stderr",
     "output_type": "stream",
     "text": [
      "/var/folders/nm/6_wl7tx50tq5bqfp8vzf4m6r0000gq/T/ipykernel_35241/2053068769.py:8: UserWarning: Boolean Series key will be reindexed to match DataFrame index.\n",
      "  jacquere_percent_drifted=100*len(jacquere_targeting_df[minlib_targeting_df[\"Notes\"].isna()==False])/len(jacquere_targeting_df)\n"
     ]
    }
   ],
   "source": [
    "gecko_percent_drifted=100*len(gecko_targeting_df[gecko_targeting_df[\"Notes\"].isna()==False])/len(gecko_targeting_df)\n",
    "avana_percent_drifted=100*len(avana_targeting_df[avana_targeting_df[\"Notes\"].isna()==False])/len(avana_targeting_df)\n",
    "brunello_percent_drifted=100*len(brunello_targeting_df[brunello_targeting_df[\"Notes\"].isna()==False])/len(brunello_targeting_df)\n",
    "projscore_percent_drifted=100*len(projscore_targeting_df[projscore_targeting_df[\"Notes\"].isna()==False])/len(projscore_targeting_df)\n",
    "tkov3_percent_drifted=100*len(tkov3_targeting_df[tkov3_targeting_df[\"Notes\"].isna()==False])/len(tkov3_targeting_df)\n",
    "gattinara_percent_drifted=100*len(gattinara_targeting_df[gattinara_targeting_df[\"Notes\"].isna()==False])/len(gattinara_targeting_df)\n",
    "minlib_percent_drifted=100*len(minlib_targeting_df[minlib_targeting_df[\"Notes\"].isna()==False])/len(minlib_targeting_df)\n",
    "jacquere_percent_drifted=100*len(jacquere_targeting_df[minlib_targeting_df[\"Notes\"].isna()==False])/len(jacquere_targeting_df)\n",
    "\n",
    "percent_drift_list=[round(gecko_percent_drifted,1),round(avana_percent_drifted,1),\n",
    "                    round(brunello_percent_drifted,1),round(projscore_percent_drifted,1),\n",
    "                    round(tkov3_percent_drifted,1),round(gattinara_percent_drifted,1),\n",
    "                    round(minlib_percent_drifted,1),round(jacquere_percent_drifted,1)]\n"
   ]
  },
  {
   "cell_type": "code",
   "execution_count": 109,
   "id": "bc099835-c9f7-473e-9424-ee4e658aef28",
   "metadata": {},
   "outputs": [],
   "source": [
    "#identify % of GENCODE47 genes to which no guides in the library map\n",
    "total=len(all_counts)\n",
    "perc_gencode47_genes_untargeted_gecko= 100*len(all_counts[all_counts[\"gecko\"]==0])/total\n",
    "perc_gencode47_genes_untargeted_avana= 100*len(all_counts[all_counts[\"avana\"]==0])/total\n",
    "perc_gencode47_genes_untargeted_brunello= 100*len(all_counts[all_counts[\"brunello\"]==0])/total\n",
    "perc_gencode47_genes_untargeted_sanger= 100*len(all_counts[all_counts[\"projscore\"]==0])/total\n",
    "perc_gencode47_genes_untargeted_tkov3= 100*len(all_counts[all_counts[\"tkov3\"]==0])/total\n",
    "perc_gencode47_genes_untargeted_gattinara= 100*len(all_counts[all_counts[\"gattinara\"]==0])/total\n",
    "perc_gencode47_genes_untargeted_minlibcas9= 100*len(all_counts[all_counts[\"minlibcas9\"]==0])/total\n",
    "perc_gencode47_genes_untargeted_jacquere= 100*len(all_counts[all_counts[\"jacquere\"]==0])/total\n",
    "\n",
    "perc_gencode47_genes_untargeted=[round(perc_gencode47_genes_untargeted_gecko,2),round(perc_gencode47_genes_untargeted_avana,2),\n",
    "                                 round(perc_gencode47_genes_untargeted_brunello,2),round(perc_gencode47_genes_untargeted_sanger,2),\n",
    "                                 round(perc_gencode47_genes_untargeted_tkov3,2),round(perc_gencode47_genes_untargeted_gattinara,2),\n",
    "                                 round(perc_gencode47_genes_untargeted_minlibcas9,2),round(perc_gencode47_genes_untargeted_jacquere,2)]\n"
   ]
  },
  {
   "cell_type": "code",
   "execution_count": 118,
   "id": "caf669d9-482f-4558-91a7-ad6ad365b45c",
   "metadata": {},
   "outputs": [],
   "source": [
    "library_labels=[\"GeCKOv2 (PMID:25075903)\",\n",
    "                \"Avana (PMID:26780180)\",\n",
    "                \"Brunello (PMID:26780180)\",\n",
    "                \"Proj.Score (PMID:27760321)\",\n",
    "                \"TKOv3 (PMID:30970261)\",\n",
    "                \"Gattinara (PMID:32029722)\",\n",
    "                \"MinLib (PMID:33478580)\",\n",
    "                \"Jacquere\"]\n",
    "library_years=[\"2014\",\"2016\",\"2016\",\"2016\",\"2017\",\"2018\",\"2021\",\"2025\"]\n",
    "\n",
    "\n",
    "gene_level_figure2=pd.DataFrame({\"Year\":library_years,\"% guides unmapped\":percent_drift_list,\"% genes untargeted\":perc_gencode47_genes_untargeted},index=library_labels)"
   ]
  },
  {
   "cell_type": "code",
   "execution_count": 122,
   "id": "c2eadcca-0a8e-414b-8279-7f03bd4a4780",
   "metadata": {},
   "outputs": [
    {
     "data": {
      "image/png": "[encoded data removed]",
      "text/plain": [
       "<Figure size 600x200 with 1 Axes>"
      ]
     },
     "metadata": {},
     "output_type": "display_data"
    }
   ],
   "source": [
    "fig, ax = plt.subplots(figsize=(6,2))\n",
    "ax.table(cellText=gene_level_figure2.values, \n",
    "         colLabels=gene_level_figure2.columns, \n",
    "         loc='center',colColours=[\"lightgrey\",\"lightblue\",\"lightblue\"],\n",
    "         fontsize=10,rowLabels=gene_level_figure2.index)\n",
    "ax.axis('off')\n",
    "fig.tight_layout()\n",
    "plt.title(\"Libraries assessed with GENCODE47\")\n",
    "plt.savefig(\"../Figures/percent_of_GENCODE47_drifted_CRISPRkoCas9_libraries.pdf\",dpi=600,bbox_inches=\"tight\")"
   ]
  }
 ],
 "metadata": {
  "kernelspec": {
   "display_name": "Python 3 (ipykernel)",
   "language": "python",
   "name": "python3"
  },
  "language_info": {
   "codemirror_mode": {
    "name": "ipython",
    "version": 3
   },
   "file_extension": ".py",
   "mimetype": "text/x-python",
   "name": "python",
   "nbconvert_exporter": "python",
   "pygments_lexer": "ipython3",
   "version": "3.13.0"
  }
 },
 "nbformat": 4,
 "nbformat_minor": 5
}
