{
 "cells": [
  {
   "cell_type": "code",
   "execution_count": 3,
   "id": "d4e40f10",
   "metadata": {},
   "outputs": [],
   "source": [
    "import pandas as pd\n",
    "import gzip\n",
    "gpp.set_aesthetics(context = 'paper')"
   ]
  },
  {
   "cell_type": "markdown",
   "id": "5474b3c9",
   "metadata": {},
   "source": [
    "Identifying the percentage of the DeWeirdt 2022 tiling screen (nonessential *and* essential targeting guides) that is excluded by the filter for influential off-target sites implemented by Guidescan2 vs. what is implemented in CRISPick/ for the design of Jacquere "
   ]
  },
  {
   "cell_type": "markdown",
   "id": "2064bf59",
   "metadata": {},
   "source": [
    "\n",
    "**Guidescan2 influential off-target site filter** \n",
    "\n",
    "Due to excessive risk of off-target activtiy, Guidescan2 does not assign a specificity score (thus imposing absolute exclusion) to guides with:\n",
    "\n",
    "- any OTS with 0 mismatches to target site\n",
    "\n",
    "- more than 1 OTS with 1 mismatch to target site \n",
    "\n",
    "and includes no OTS with an NGG PAM in this search. Mismatch # includes any mismatch in entire 20mer. \n",
    "\n"
   ]
  },
  {
   "cell_type": "markdown",
   "id": "f3736d94",
   "metadata": {},
   "source": [
    "The DeWeirdt 2022 Tiling library (essentials and nonessentials) was supplied as input to the [Guidescan2 gRNA design tool](https://guidescan.com/) to acquire specificity scores"
   ]
  },
  {
   "cell_type": "code",
   "execution_count": 4,
   "id": "e9ba51dc",
   "metadata": {},
   "outputs": [],
   "source": [
    "guidescan_batch1=pd.read_csv(\"../Data/rs3val_ess_noness_guidescan_batch1.csv\")\n",
    "guidescan_batch2=pd.read_csv(\"../Data/rs3val_ess_noness_guidescan_batch2.csv\")\n",
    "guidescan_batch3=pd.read_csv(\"../Data/rs3val_ess_noness_guidescan_batch3.csv\")\n",
    "\n",
    "guidescan=pd.concat([guidescan_batch1,guidescan_batch2]).reset_index(drop=True)\n",
    "guidescan=pd.concat([guidescan,guidescan_batch3]).reset_index(drop=True)\n"
   ]
  },
  {
   "cell_type": "markdown",
   "id": "6ef9db76-6c51-42b4-88f1-35648be046f3",
   "metadata": {},
   "source": [
    "Guides that have either 1) any OTS with 0 mismatches to target site or 2) more than 1 OTS with 1 mismatch to target site yield an error message in the \"Chromosome\" column of guidescan2 output. Thus, the % of guides with no target chromosome provided resemble the % of guides that eliminated from library design by Guidescan2 on the basis of these two criteria"
   ]
  },
  {
   "cell_type": "code",
   "execution_count": 13,
   "id": "c42a453d-f670-4b2f-96f8-4b9ee011521b",
   "metadata": {},
   "outputs": [
    {
     "name": "stdout",
     "output_type": "stream",
     "text": [
      "% of DeWeirdt 2022 tiling library exceeding Guidescan2 influential off-target site filter: 30.08\n"
     ]
    }
   ],
   "source": [
    "print(\"% of DeWeirdt 2022 tiling library exceeding Guidescan2 influential off-target site filter:\", round(100*len(guidescan[guidescan[\"Chromosome\"].str.count(\"chr\")==0])/len(guidescan),2))\n"
   ]
  },
  {
   "cell_type": "markdown",
   "id": "44c63a86-8d99-4bcc-9bea-71e922c80a71",
   "metadata": {},
   "source": [
    "**CRISPick/ Jacquere influential off-target site filter**\n",
    "\n",
    "We preferentially select guides with no CFD=1.0 OTS with fewer than 2MM, relaxing this restriction as needed to guides with such OTS in Tier I (protein coding) regions. \n",
    "\n",
    "This criteria can be violated if necessary to meet the quota for a gene, in which case the Aggregate CFD score stands to exclude guides with excessive off-target activity. \n"
   ]
  },
  {
   "cell_type": "code",
   "execution_count": 14,
   "id": "b9ac9e35-96a7-4bb6-9ecd-5e647d11f826",
   "metadata": {},
   "outputs": [
    {
     "ename": "FileNotFoundError",
     "evalue": "[Errno 2] No such file or directory: '../Data/rs3validation_essentials_batch1_verbose_1_22_2024-sgrna-designs.offtargetdisco.txt.gz'",
     "output_type": "error",
     "traceback": [
      "\u001b[0;31m---------------------------------------------------------------------------\u001b[0m",
      "\u001b[0;31mFileNotFoundError\u001b[0m                         Traceback (most recent call last)",
      "Cell \u001b[0;32mIn[14], line 2\u001b[0m\n\u001b[1;32m      1\u001b[0m \u001b[38;5;66;03m#essentials verbose batch 1\u001b[39;00m\n\u001b[0;32m----> 2\u001b[0m \u001b[38;5;28;01mwith\u001b[39;00m \u001b[43mgzip\u001b[49m\u001b[38;5;241;43m.\u001b[39;49m\u001b[43mopen\u001b[49m\u001b[43m(\u001b[49m\u001b[38;5;124;43m'\u001b[39;49m\u001b[38;5;124;43m../Data/rs3validation_essentials_batch1_verbose_1_22_2024-sgrna-designs.offtargetdisco.txt.gz\u001b[39;49m\u001b[38;5;124;43m'\u001b[39;49m\u001b[43m)\u001b[49m \u001b[38;5;28;01mas\u001b[39;00m f:\n\u001b[1;32m      3\u001b[0m     rs3val_ess_verbose_batch1 \u001b[38;5;241m=\u001b[39m pd\u001b[38;5;241m.\u001b[39mread_table(f,index_col\u001b[38;5;241m=\u001b[39m\u001b[38;5;28;01mFalse\u001b[39;00m,header\u001b[38;5;241m=\u001b[39m\u001b[38;5;28;01mNone\u001b[39;00m,names\u001b[38;5;241m=\u001b[39m[\u001b[38;5;124m\"\u001b[39m\u001b[38;5;124mTarget\u001b[39m\u001b[38;5;124m\"\u001b[39m,\u001b[38;5;124m\"\u001b[39m\u001b[38;5;124mTarget Sequence\u001b[39m\u001b[38;5;124m\"\u001b[39m,\u001b[38;5;124m\"\u001b[39m\u001b[38;5;124mContext Sequence\u001b[39m\u001b[38;5;124m\"\u001b[39m,\u001b[38;5;124m\"\u001b[39m\u001b[38;5;124mMatch Tier\u001b[39m\u001b[38;5;124m\"\u001b[39m, \u001b[38;5;124m\"\u001b[39m\u001b[38;5;124mCFD Score\u001b[39m\u001b[38;5;124m\"\u001b[39m,\u001b[38;5;124m\"\u001b[39m\u001b[38;5;124mPAM Sequence\u001b[39m\u001b[38;5;124m\"\u001b[39m, \u001b[38;5;124m\"\u001b[39m\u001b[38;5;124m# of mismatches\u001b[39m\u001b[38;5;124m\"\u001b[39m])\n\u001b[1;32m      4\u001b[0m \u001b[38;5;66;03m#essentials verbose batch 2\u001b[39;00m\n",
      "File \u001b[0;32m/opt/homebrew/Cellar/python@3.13/3.13.0_1/Frameworks/Python.framework/Versions/3.13/lib/python3.13/gzip.py:62\u001b[0m, in \u001b[0;36mopen\u001b[0;34m(filename, mode, compresslevel, encoding, errors, newline)\u001b[0m\n\u001b[1;32m     60\u001b[0m gz_mode \u001b[38;5;241m=\u001b[39m mode\u001b[38;5;241m.\u001b[39mreplace(\u001b[38;5;124m\"\u001b[39m\u001b[38;5;124mt\u001b[39m\u001b[38;5;124m\"\u001b[39m, \u001b[38;5;124m\"\u001b[39m\u001b[38;5;124m\"\u001b[39m)\n\u001b[1;32m     61\u001b[0m \u001b[38;5;28;01mif\u001b[39;00m \u001b[38;5;28misinstance\u001b[39m(filename, (\u001b[38;5;28mstr\u001b[39m, \u001b[38;5;28mbytes\u001b[39m, os\u001b[38;5;241m.\u001b[39mPathLike)):\n\u001b[0;32m---> 62\u001b[0m     binary_file \u001b[38;5;241m=\u001b[39m \u001b[43mGzipFile\u001b[49m\u001b[43m(\u001b[49m\u001b[43mfilename\u001b[49m\u001b[43m,\u001b[49m\u001b[43m \u001b[49m\u001b[43mgz_mode\u001b[49m\u001b[43m,\u001b[49m\u001b[43m \u001b[49m\u001b[43mcompresslevel\u001b[49m\u001b[43m)\u001b[49m\n\u001b[1;32m     63\u001b[0m \u001b[38;5;28;01melif\u001b[39;00m \u001b[38;5;28mhasattr\u001b[39m(filename, \u001b[38;5;124m\"\u001b[39m\u001b[38;5;124mread\u001b[39m\u001b[38;5;124m\"\u001b[39m) \u001b[38;5;129;01mor\u001b[39;00m \u001b[38;5;28mhasattr\u001b[39m(filename, \u001b[38;5;124m\"\u001b[39m\u001b[38;5;124mwrite\u001b[39m\u001b[38;5;124m\"\u001b[39m):\n\u001b[1;32m     64\u001b[0m     binary_file \u001b[38;5;241m=\u001b[39m GzipFile(\u001b[38;5;28;01mNone\u001b[39;00m, gz_mode, compresslevel, filename)\n",
      "File \u001b[0;32m/opt/homebrew/Cellar/python@3.13/3.13.0_1/Frameworks/Python.framework/Versions/3.13/lib/python3.13/gzip.py:194\u001b[0m, in \u001b[0;36mGzipFile.__init__\u001b[0;34m(self, filename, mode, compresslevel, fileobj, mtime)\u001b[0m\n\u001b[1;32m    192\u001b[0m     mode \u001b[38;5;241m+\u001b[39m\u001b[38;5;241m=\u001b[39m \u001b[38;5;124m'\u001b[39m\u001b[38;5;124mb\u001b[39m\u001b[38;5;124m'\u001b[39m\n\u001b[1;32m    193\u001b[0m \u001b[38;5;28;01mif\u001b[39;00m fileobj \u001b[38;5;129;01mis\u001b[39;00m \u001b[38;5;28;01mNone\u001b[39;00m:\n\u001b[0;32m--> 194\u001b[0m     fileobj \u001b[38;5;241m=\u001b[39m \u001b[38;5;28mself\u001b[39m\u001b[38;5;241m.\u001b[39mmyfileobj \u001b[38;5;241m=\u001b[39m \u001b[43mbuiltins\u001b[49m\u001b[38;5;241;43m.\u001b[39;49m\u001b[43mopen\u001b[49m\u001b[43m(\u001b[49m\u001b[43mfilename\u001b[49m\u001b[43m,\u001b[49m\u001b[43m \u001b[49m\u001b[43mmode\u001b[49m\u001b[43m \u001b[49m\u001b[38;5;129;43;01mor\u001b[39;49;00m\u001b[43m \u001b[49m\u001b[38;5;124;43m'\u001b[39;49m\u001b[38;5;124;43mrb\u001b[39;49m\u001b[38;5;124;43m'\u001b[39;49m\u001b[43m)\u001b[49m\n\u001b[1;32m    195\u001b[0m \u001b[38;5;28;01mif\u001b[39;00m filename \u001b[38;5;129;01mis\u001b[39;00m \u001b[38;5;28;01mNone\u001b[39;00m:\n\u001b[1;32m    196\u001b[0m     filename \u001b[38;5;241m=\u001b[39m \u001b[38;5;28mgetattr\u001b[39m(fileobj, \u001b[38;5;124m'\u001b[39m\u001b[38;5;124mname\u001b[39m\u001b[38;5;124m'\u001b[39m, \u001b[38;5;124m'\u001b[39m\u001b[38;5;124m'\u001b[39m)\n",
      "\u001b[0;31mFileNotFoundError\u001b[0m: [Errno 2] No such file or directory: '../Data/rs3validation_essentials_batch1_verbose_1_22_2024-sgrna-designs.offtargetdisco.txt.gz'"
     ]
    }
   ],
   "source": [
    "#essentials verbose batch 1\n",
    "with gzip.open('../Data/rs3validation_essentials_batch1_verbose_1_22_2024-sgrna-designs.offtargetdisco.txt.gz') as f:\n",
    "    rs3val_ess_verbose_batch1 = pd.read_table(f,index_col=False,header=None,names=[\"Target\",\"Target Sequence\",\"Context Sequence\",\"Match Tier\", \"CFD Score\",\"PAM Sequence\", \"# of mismatches\"])\n",
    "#essentials verbose batch 2\n",
    "with gzip.open('../Data/rs3val_essentials_batch2_verbose_1_22_2024-sgrna-designs.offtargetdisco.txt.gz') as f:\n",
    "    rs3val_ess_verbose_batch2 = pd.read_table(f,index_col=False,header=None,names=[\"Target\",\"Target Sequence\",\"Context Sequence\",\"Match Tier\", \"CFD Score\",\"PAM Sequence\", \"# of mismatches\"])\n",
    "#nonessentials verbose\n",
    "with gzip.open('../Data/sgrna-designs.targetdisco.txt.gz') as f:\n",
    "    rs3val_noness_verbose = pd.read_table(f,index_col=False,header=None,names=[\"Target\",\"Target Sequence\",\"Context Sequence\",\"Match Tier\", \"CFD Score\",\"PAM Sequence\", \"# of mismatches\"])\n",
    "\n",
    "#join both essential batches\n",
    "rs3val_ess_verbose=pd.concat([rs3val_ess_verbose_batch1,rs3val_ess_verbose_batch2]).reset_index(drop=True)    \n",
    "#join essentials and nonessentials\n",
    "rs3val_verbose=pd.concat([rs3val_ess_verbose,rs3val_noness_verbose])"
   ]
  },
  {
   "cell_type": "code",
   "execution_count": null,
   "id": "6cf481fa-4123-49b0-801b-83ecddf2b2d8",
   "metadata": {},
   "outputs": [],
   "source": [
    "#drop data from sgRNAs with >10,000 OTS \n",
    "rs3val_verbose=rs3val_verbose[pd.to_numeric(rs3val_verbose[\"# of mismatches\"], errors='coerce').notnull()].reset_index(drop=True).copy()\n",
    "rs3val_verbose[\"# of mismatches\"]=rs3val_verbose[\"# of mismatches\"].astype(np.int64)\n",
    "rs3val_verbose[\"CFD Score\"]=rs3val_verbose[\"CFD Score\"].astype(np.float64)\n",
    "\n",
    "rs3val_verbose[\"cfd_1.0\"]= np.where(rs3val_verbose[\"CFD Score\"]==1, 1,0)\n",
    "rs3val_verbose[\"cfd_1.0_below2mm\"]= np.where((rs3val_verbose[\"# of mismatches\"]<2)&(rs3val_verbose[\"CFD Score\"]==1), 1,0)\n",
    "rs3val_verbose[\"cfd_1.0_below2mm_proteincoding\"]= np.where((rs3val_verbose[\"# of mismatches\"]<2)&(rs3val_verbose[\"Match Tier\"]==\"Tier I\")&(rs3val_verbose[\"CFD Score\"]==1), 1,0)\n",
    "rs3val_verbose"
   ]
  }
 ],
 "metadata": {
  "kernelspec": {
   "display_name": "Python 3 (ipykernel)",
   "language": "python",
   "name": "python3"
  },
  "language_info": {
   "codemirror_mode": {
    "name": "ipython",
    "version": 3
   },
   "file_extension": ".py",
   "mimetype": "text/x-python",
   "name": "python",
   "nbconvert_exporter": "python",
   "pygments_lexer": "ipython3",
   "version": "3.13.0"
  }
 },
 "nbformat": 4,
 "nbformat_minor": 5
}
