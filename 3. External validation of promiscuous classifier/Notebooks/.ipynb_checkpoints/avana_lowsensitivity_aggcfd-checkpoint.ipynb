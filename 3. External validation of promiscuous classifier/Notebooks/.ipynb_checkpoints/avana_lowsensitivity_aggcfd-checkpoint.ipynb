{
 "cells": [
  {
   "cell_type": "code",
   "execution_count": 1,
   "id": "fda223ef",
   "metadata": {},
   "outputs": [],
   "source": [
    "import pandas as pd\n",
    "import numpy as np\n",
    "from sklearn.metrics import f1_score\n",
    "import gzip\n",
    "import matplotlib.pyplot as plt\n",
    "import seaborn as sns\n",
    "import gpplot as gpp\n",
    "gpp.set_aesthetics(context = 'paper')"
   ]
  },
  {
   "cell_type": "markdown",
   "id": "cec6213f",
   "metadata": {},
   "source": [
    "Load the nonessential-targeting guides cleaned in the prior jupyter notebook. These guides come from the avana library, and the screening data utilizes the median read counts across cell lines. "
   ]
  },
  {
   "cell_type": "code",
   "execution_count": 2,
   "id": "0ad928b5",
   "metadata": {},
   "outputs": [
    {
     "data": {
      "text/html": [
       "<div>\n",
       "<style scoped>\n",
       "    .dataframe tbody tr th:only-of-type {\n",
       "        vertical-align: middle;\n",
       "    }\n",
       "\n",
       "    .dataframe tbody tr th {\n",
       "        vertical-align: top;\n",
       "    }\n",
       "\n",
       "    .dataframe thead th {\n",
       "        text-align: right;\n",
       "    }\n",
       "</style>\n",
       "<table border=\"1\" class=\"dataframe\">\n",
       "  <thead>\n",
       "    <tr style=\"text-align: right;\">\n",
       "      <th></th>\n",
       "      <th>Target Sequence</th>\n",
       "      <th>On-target Gene Symbols</th>\n",
       "      <th>promiscuous</th>\n",
       "    </tr>\n",
       "  </thead>\n",
       "  <tbody>\n",
       "    <tr>\n",
       "      <th>0</th>\n",
       "      <td>AAAAGAACTGAGCCAAGCAG</td>\n",
       "      <td>OR1B1</td>\n",
       "      <td>False</td>\n",
       "    </tr>\n",
       "    <tr>\n",
       "      <th>1</th>\n",
       "      <td>AAACAACGACAGCGAGACCG</td>\n",
       "      <td>SPACA1</td>\n",
       "      <td>False</td>\n",
       "    </tr>\n",
       "    <tr>\n",
       "      <th>2</th>\n",
       "      <td>AAACAGGGAGGTCAAAACGG</td>\n",
       "      <td>OR2T12</td>\n",
       "      <td>False</td>\n",
       "    </tr>\n",
       "    <tr>\n",
       "      <th>3</th>\n",
       "      <td>AAACCAGCTTCCCTATTCCA</td>\n",
       "      <td>GCM2</td>\n",
       "      <td>False</td>\n",
       "    </tr>\n",
       "    <tr>\n",
       "      <th>4</th>\n",
       "      <td>AAACGAGGCCAGTTACCCGG</td>\n",
       "      <td>PPP3R2</td>\n",
       "      <td>False</td>\n",
       "    </tr>\n",
       "    <tr>\n",
       "      <th>...</th>\n",
       "      <td>...</td>\n",
       "      <td>...</td>\n",
       "      <td>...</td>\n",
       "    </tr>\n",
       "    <tr>\n",
       "      <th>1719</th>\n",
       "      <td>TTTGGTTATAGAAACTTGGG</td>\n",
       "      <td>MS4A13</td>\n",
       "      <td>False</td>\n",
       "    </tr>\n",
       "    <tr>\n",
       "      <th>1720</th>\n",
       "      <td>TTTGTAGCTGAGCACCAGCA</td>\n",
       "      <td>IFNA10,IFNA16,IFNA17,IFNA21,IFNA4</td>\n",
       "      <td>False</td>\n",
       "    </tr>\n",
       "    <tr>\n",
       "      <th>1721</th>\n",
       "      <td>TTTGTCATTGCAGGTCATGG</td>\n",
       "      <td>DEFB103B</td>\n",
       "      <td>False</td>\n",
       "    </tr>\n",
       "    <tr>\n",
       "      <th>1722</th>\n",
       "      <td>TTTGTCTTCCAACAGGCCAA</td>\n",
       "      <td>MBL2</td>\n",
       "      <td>False</td>\n",
       "    </tr>\n",
       "    <tr>\n",
       "      <th>1723</th>\n",
       "      <td>TTTGTGTCTGTACTACCCTG</td>\n",
       "      <td>SLC6A5</td>\n",
       "      <td>False</td>\n",
       "    </tr>\n",
       "  </tbody>\n",
       "</table>\n",
       "<p>1724 rows × 3 columns</p>\n",
       "</div>"
      ],
      "text/plain": [
       "           Target Sequence             On-target Gene Symbols  promiscuous\n",
       "0     AAAAGAACTGAGCCAAGCAG                              OR1B1        False\n",
       "1     AAACAACGACAGCGAGACCG                             SPACA1        False\n",
       "2     AAACAGGGAGGTCAAAACGG                             OR2T12        False\n",
       "3     AAACCAGCTTCCCTATTCCA                               GCM2        False\n",
       "4     AAACGAGGCCAGTTACCCGG                             PPP3R2        False\n",
       "...                    ...                                ...          ...\n",
       "1719  TTTGGTTATAGAAACTTGGG                             MS4A13        False\n",
       "1720  TTTGTAGCTGAGCACCAGCA  IFNA10,IFNA16,IFNA17,IFNA21,IFNA4        False\n",
       "1721  TTTGTCATTGCAGGTCATGG                           DEFB103B        False\n",
       "1722  TTTGTCTTCCAACAGGCCAA                               MBL2        False\n",
       "1723  TTTGTGTCTGTACTACCCTG                             SLC6A5        False\n",
       "\n",
       "[1724 rows x 3 columns]"
      ]
     },
     "execution_count": 2,
     "metadata": {},
     "output_type": "execute_result"
    }
   ],
   "source": [
    "screening_data= pd.read_csv(\"../Data/avana_noness_low_sensitivity_screenresults.csv\")\n",
    "screening_data"
   ]
  },
  {
   "cell_type": "markdown",
   "id": "8a5d1439",
   "metadata": {},
   "source": [
    "Avana nonessential-targeting guides cleaned are copied into library mode of CRISPick to report all predicted off-target sites. This enables calculation of aggregate CFD of these guides. \n",
    "\n",
    "retrieving avana nonessentials scored for off-target activity from server: \n",
    "\n",
    "```scp ldrepano@login.broadinstitute.org:/broad/hptmp/gpp/sgrna-miner-extras/dev/sgrna-miner/59/37/5937db4e-b182-41ae-8b31-3bc9354ec95d/avana_noness_verbose-sgrna-designs.offtargetdisco.txt .```\n",
    "\n",
    "compress file\n",
    "\n",
    "``` gzip avana_noness_verbose-sgrna-designs.offtargetdisco.txt```"
   ]
  },
  {
   "cell_type": "code",
   "execution_count": null,
   "id": "688b0ea4",
   "metadata": {},
   "outputs": [],
   "source": [
    "with gzip.open('../Data/avana_noness_verbose-sgrna-designs.offtargetdisco.txt.gz') as f:\n",
    "    crispick_verbose = (pd.read_table(f,index_col=False,header=None,\n",
    "                                      names=[\"Target\",\"Target Sequence\",\"Context Sequence\",\"Match Tier\", \"CFD Score\",\"PAM Sequence\", \"# of mismatches\",\"identifier\"],\n",
    "                                      usecols=[\"Target Sequence\", \"CFD Score\", \"# of mismatches\"],\n",
    "                                      on_bad_lines=\"warn\"))\n",
    "#get rid of NA pick orders (i.e. MAX OTS)\n",
    "crispick_verbose=crispick_verbose[pd.to_numeric(crispick_verbose[\"# of mismatches\"], errors='coerce').notnull()].reset_index(drop=True).copy()\n",
    "crispick_verbose[\"# of mismatches\"]=crispick_verbose[\"# of mismatches\"].astype(np.int64)\n",
    "crispick_verbose[\"CFD Score\"]=crispick_verbose[\"CFD Score\"].astype(np.float64)\n",
    "\n",
    "crispick_verbose"
   ]
  },
  {
   "cell_type": "code",
   "execution_count": null,
   "id": "f0b70d8d",
   "metadata": {},
   "outputs": [],
   "source": [
    "crispick_verbose[\"CFD_upto1mm\"]= np.where(crispick_verbose[\"# of mismatches\"]<=1, crispick_verbose[\"CFD Score\"],0)\n",
    "\n",
    "\n",
    "crispick_agg = (crispick_verbose.groupby(\"Target Sequence\")\n",
    "            .agg(aggcfd= (\"CFD_upto1mm\",\"sum\"))\n",
    "            .reset_index())\n",
    "crispick_agg"
   ]
  },
  {
   "cell_type": "code",
   "execution_count": null,
   "id": "386c63cb",
   "metadata": {},
   "outputs": [],
   "source": [
    "#merge with actual data\n",
    "merged=crispick_agg.merge(screening_data[[\"Target Sequence\",\"promiscuous\"]],on=\"Target Sequence\")\n",
    "merged"
   ]
  },
  {
   "cell_type": "code",
   "execution_count": null,
   "id": "442152a5",
   "metadata": {},
   "outputs": [],
   "source": [
    "metric=merged[\"aggcfd\"].astype(np.float64)\n",
    "f1=[]\n",
    "cutoffs=[i*0.1 for i in range(300)]\n",
    "for cutoff in cutoffs:\n",
    "    metric_binary= metric > cutoff\n",
    "    performance= f1_score(merged[\"promiscuous\"], metric_binary ,average=\"macro\")\n",
    "    f1.append(performance)\n",
    "f1_best=max(f1) \n",
    "bestcutoff=cutoffs[f1.index(f1_best)]\n",
    "rs3valcutoff=4.8\n",
    "merged[\"Agg CFD Predicted\"]=merged[\"aggcfd\"]>rs3valcutoff\n",
    "print(\"F1= \", f1_score(merged[\"promiscuous\"], merged[\"Agg CFD Predicted\"] ,average=\"macro\"), \" at Agg CFD cutoff \",rs3valcutoff)"
   ]
  },
  {
   "cell_type": "code",
   "execution_count": null,
   "id": "15bff0d1",
   "metadata": {},
   "outputs": [],
   "source": [
    "pd.DataFrame(merged[[\"Agg CFD Predicted\",\"promiscuous\"]].value_counts()).sort_values(by=\"Agg CFD Predicted\")\n"
   ]
  }
 ],
 "metadata": {
  "kernelspec": {
   "display_name": "Python 3 (ipykernel)",
   "language": "python",
   "name": "python3"
  },
  "language_info": {
   "codemirror_mode": {
    "name": "ipython",
    "version": 3
   },
   "file_extension": ".py",
   "mimetype": "text/x-python",
   "name": "python",
   "nbconvert_exporter": "python",
   "pygments_lexer": "ipython3",
   "version": "3.8.16"
  }
 },
 "nbformat": 4,
 "nbformat_minor": 5
}
