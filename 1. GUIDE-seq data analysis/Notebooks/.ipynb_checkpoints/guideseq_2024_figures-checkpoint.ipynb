{
 "cells": [
  {
   "cell_type": "markdown",
   "id": "4c411e03",
   "metadata": {},
   "source": [
    "Generating figures from GUIDEseq data processed in guideseq_2024_data to characterize Cas9 CRISPRko off-target behavior. \n",
    "\n",
    "[Source paper](https://www.biorxiv.org/content/10.1101/2023.11.01.565099v2)"
   ]
  },
  {
   "cell_type": "code",
   "execution_count": 1,
   "id": "8603ae96",
   "metadata": {},
   "outputs": [],
   "source": [
    "import pandas as pd\n",
    "import matplotlib.pyplot as plt \n",
    "import numpy as np\n",
    "import seaborn as sns\n",
    "from scipy import stats\n",
    "import gpplot as gpp \n",
    "from statannotations.Annotator import Annotator\n",
    "from scipy.stats import pearsonr\n",
    "\n",
    "\n",
    "gpp.set_aesthetics(context = 'paper')\n"
   ]
  },
  {
   "cell_type": "code",
   "execution_count": 2,
   "id": "559ee5c1",
   "metadata": {},
   "outputs": [],
   "source": [
    "#guideseq collated data with duplicates/on-target sites removed, bulge sites removed, CFD and # mismatches in SDR calculated \n",
    "guideseq_nobulges= pd.read_csv(\"../Data/guideseq_2024_nobulges_withCFD.csv\")\n"
   ]
  },
  {
   "cell_type": "code",
   "execution_count": 3,
   "id": "c352212b-5fbd-4e00-beb1-ac10a7bf2926",
   "metadata": {},
   "outputs": [
    {
     "data": {
      "text/html": [
       "<div>\n",
       "<style scoped>\n",
       "    .dataframe tbody tr th:only-of-type {\n",
       "        vertical-align: middle;\n",
       "    }\n",
       "\n",
       "    .dataframe tbody tr th {\n",
       "        vertical-align: top;\n",
       "    }\n",
       "\n",
       "    .dataframe thead th {\n",
       "        text-align: right;\n",
       "    }\n",
       "</style>\n",
       "<table border=\"1\" class=\"dataframe\">\n",
       "  <thead>\n",
       "    <tr style=\"text-align: right;\">\n",
       "      <th></th>\n",
       "      <th>sgRNA</th>\n",
       "      <th>Align.off-target</th>\n",
       "      <th>Align.#Mismatches</th>\n",
       "      <th>normalized_reads</th>\n",
       "      <th>mismatches_in_SDR</th>\n",
       "      <th>cfd_score</th>\n",
       "    </tr>\n",
       "  </thead>\n",
       "  <tbody>\n",
       "    <tr>\n",
       "      <th>0</th>\n",
       "      <td>GAAAAAGTACACGCCTACAGNGG</td>\n",
       "      <td>GAAAAAGTACACGCCTACAATGG</td>\n",
       "      <td>1.0</td>\n",
       "      <td>0.334686</td>\n",
       "      <td>1</td>\n",
       "      <td>0.937500</td>\n",
       "    </tr>\n",
       "    <tr>\n",
       "      <th>1</th>\n",
       "      <td>GAACACAAAGCATAGACTGCNGG</td>\n",
       "      <td>GTACACAAAGCTCAGACTGGCTA</td>\n",
       "      <td>6.0</td>\n",
       "      <td>0.000000</td>\n",
       "      <td>5</td>\n",
       "      <td>0.000000</td>\n",
       "    </tr>\n",
       "    <tr>\n",
       "      <th>2</th>\n",
       "      <td>GAACACAAAGCATAGACTGCNGG</td>\n",
       "      <td>GAACTGAAAGCAGAGAATGAAAG</td>\n",
       "      <td>6.0</td>\n",
       "      <td>0.000000</td>\n",
       "      <td>6</td>\n",
       "      <td>0.002869</td>\n",
       "    </tr>\n",
       "    <tr>\n",
       "      <th>3</th>\n",
       "      <td>GAACACAAAGCATAGACTGCNGG</td>\n",
       "      <td>GAATAAAAGGCAAAGACAACTGG</td>\n",
       "      <td>6.0</td>\n",
       "      <td>0.000000</td>\n",
       "      <td>6</td>\n",
       "      <td>0.163265</td>\n",
       "    </tr>\n",
       "    <tr>\n",
       "      <th>4</th>\n",
       "      <td>GAACACAAAGCATAGACTGCNGG</td>\n",
       "      <td>GAGCAAAGACCAGAGACTGCTGA</td>\n",
       "      <td>6.0</td>\n",
       "      <td>0.000000</td>\n",
       "      <td>5</td>\n",
       "      <td>0.003015</td>\n",
       "    </tr>\n",
       "    <tr>\n",
       "      <th>...</th>\n",
       "      <td>...</td>\n",
       "      <td>...</td>\n",
       "      <td>...</td>\n",
       "      <td>...</td>\n",
       "      <td>...</td>\n",
       "      <td>...</td>\n",
       "    </tr>\n",
       "    <tr>\n",
       "      <th>3393174</th>\n",
       "      <td>GTTTGCGACTCTGACAGAGCNGG</td>\n",
       "      <td>CTTTGCGGCTCTCACAGTGGTGG</td>\n",
       "      <td>5.0</td>\n",
       "      <td>0.000000</td>\n",
       "      <td>4</td>\n",
       "      <td>0.006487</td>\n",
       "    </tr>\n",
       "    <tr>\n",
       "      <th>3393175</th>\n",
       "      <td>GTTTGCGACTCTGACAGAGCNGG</td>\n",
       "      <td>GTTTTGGCCTCTAAAAGTGCCGG</td>\n",
       "      <td>6.0</td>\n",
       "      <td>0.000000</td>\n",
       "      <td>6</td>\n",
       "      <td>0.006593</td>\n",
       "    </tr>\n",
       "    <tr>\n",
       "      <th>3393176</th>\n",
       "      <td>GTTTGCGACTCTGACAGAGCNGG</td>\n",
       "      <td>GATTACAACTTTGAAAGAGCCGA</td>\n",
       "      <td>6.0</td>\n",
       "      <td>0.000000</td>\n",
       "      <td>5</td>\n",
       "      <td>0.003482</td>\n",
       "    </tr>\n",
       "    <tr>\n",
       "      <th>3393177</th>\n",
       "      <td>GTTTGCGACTCTGACAGAGCNGG</td>\n",
       "      <td>TTTGGAAACTCTGACAGCGCTGC</td>\n",
       "      <td>6.0</td>\n",
       "      <td>0.000000</td>\n",
       "      <td>5</td>\n",
       "      <td>0.002457</td>\n",
       "    </tr>\n",
       "    <tr>\n",
       "      <th>3393178</th>\n",
       "      <td>GTTTGCGACTCTGACAGAGCNGG</td>\n",
       "      <td>GTTTGGGAGGCTGAAGGAGGAGG</td>\n",
       "      <td>6.0</td>\n",
       "      <td>0.000000</td>\n",
       "      <td>6</td>\n",
       "      <td>0.000389</td>\n",
       "    </tr>\n",
       "  </tbody>\n",
       "</table>\n",
       "<p>3393179 rows × 6 columns</p>\n",
       "</div>"
      ],
      "text/plain": [
       "                           sgRNA         Align.off-target  Align.#Mismatches  \\\n",
       "0        GAAAAAGTACACGCCTACAGNGG  GAAAAAGTACACGCCTACAATGG                1.0   \n",
       "1        GAACACAAAGCATAGACTGCNGG  GTACACAAAGCTCAGACTGGCTA                6.0   \n",
       "2        GAACACAAAGCATAGACTGCNGG  GAACTGAAAGCAGAGAATGAAAG                6.0   \n",
       "3        GAACACAAAGCATAGACTGCNGG  GAATAAAAGGCAAAGACAACTGG                6.0   \n",
       "4        GAACACAAAGCATAGACTGCNGG  GAGCAAAGACCAGAGACTGCTGA                6.0   \n",
       "...                          ...                      ...                ...   \n",
       "3393174  GTTTGCGACTCTGACAGAGCNGG  CTTTGCGGCTCTCACAGTGGTGG                5.0   \n",
       "3393175  GTTTGCGACTCTGACAGAGCNGG  GTTTTGGCCTCTAAAAGTGCCGG                6.0   \n",
       "3393176  GTTTGCGACTCTGACAGAGCNGG  GATTACAACTTTGAAAGAGCCGA                6.0   \n",
       "3393177  GTTTGCGACTCTGACAGAGCNGG  TTTGGAAACTCTGACAGCGCTGC                6.0   \n",
       "3393178  GTTTGCGACTCTGACAGAGCNGG  GTTTGGGAGGCTGAAGGAGGAGG                6.0   \n",
       "\n",
       "         normalized_reads  mismatches_in_SDR  cfd_score  \n",
       "0                0.334686                  1   0.937500  \n",
       "1                0.000000                  5   0.000000  \n",
       "2                0.000000                  6   0.002869  \n",
       "3                0.000000                  6   0.163265  \n",
       "4                0.000000                  5   0.003015  \n",
       "...                   ...                ...        ...  \n",
       "3393174          0.000000                  4   0.006487  \n",
       "3393175          0.000000                  6   0.006593  \n",
       "3393176          0.000000                  5   0.003482  \n",
       "3393177          0.000000                  5   0.002457  \n",
       "3393178          0.000000                  6   0.000389  \n",
       "\n",
       "[3393179 rows x 6 columns]"
      ]
     },
     "execution_count": 3,
     "metadata": {},
     "output_type": "execute_result"
    }
   ],
   "source": [
    "guideseq_nobulges"
   ]
  },
  {
   "cell_type": "markdown",
   "id": "43a354cb",
   "metadata": {},
   "source": [
    "**Off-Target Sites with 2 or more mismatches are unlikely to be active**\n",
    "\n"
   ]
  },
  {
   "cell_type": "code",
   "execution_count": 4,
   "id": "8cf5658a-85e1-4765-a9ce-4e324620b09d",
   "metadata": {},
   "outputs": [],
   "source": [
    "#get bin of normalized read count \n",
    "norm_read_bins = pd.IntervalIndex.from_tuples([(0.5,np.inf),(0.05, 0.5),(0.01, 0.05),(0, 0.01),(-np.inf,0)])\n",
    "#guideseq_nobulges[\"normalized_reads_bin\"]=pd.cut(guideseq_nobulges[\"normalized_reads\"], bins)\n",
    "intervals = norm_read_bins.values\n",
    "interval_labels = [\"50+%\",\"5-50%\",\"1-5%\",\"0-1%\",\"0%\"]\n",
    "norm_read_bins_to_name = {interval: label for interval, label in zip(intervals, interval_labels)}\n",
    "guideseq_nobulges[\"normalized_reads_bin\"] = pd.Series(\n",
    "    pd.CategoricalIndex(pd.cut(guideseq_nobulges[\"normalized_reads\"], norm_read_bins)).rename_categories(norm_read_bins_to_name))\n"
   ]
  },
  {
   "cell_type": "code",
   "execution_count": 5,
   "id": "93189717",
   "metadata": {},
   "outputs": [],
   "source": [
    "guideseq_0mm= guideseq_nobulges[(guideseq_nobulges[\"mismatches_in_SDR\"]==0)].reset_index(drop=True).copy()\n",
    "guideseq_1mm= guideseq_nobulges[(guideseq_nobulges[\"mismatches_in_SDR\"]==1)].reset_index(drop=True).copy()\n",
    "guideseq_2mm= guideseq_nobulges[(guideseq_nobulges[\"mismatches_in_SDR\"]==2)].reset_index(drop=True).copy()\n",
    "guideseq_3mm= guideseq_nobulges[(guideseq_nobulges[\"mismatches_in_SDR\"]==3)].reset_index(drop=True).copy()\n",
    "guideseq_4plusmm= guideseq_nobulges[(guideseq_nobulges[\"mismatches_in_SDR\"]>=4)].reset_index(drop=True).copy()\n",
    "\n"
   ]
  },
  {
   "cell_type": "code",
   "execution_count": 6,
   "id": "2c2c5f18",
   "metadata": {},
   "outputs": [],
   "source": [
    "#fraction of OTS in each category that are \"active\": has at least 1% of reads as on-target site \n",
    "guideseq_0mm_fraction_active= len(guideseq_0mm[guideseq_0mm[\"normalized_reads\"]>0.01])/len(guideseq_0mm)\n",
    "guideseq_1mm_fraction_active= len(guideseq_1mm[guideseq_1mm[\"normalized_reads\"]>0.01])/len(guideseq_1mm)\n",
    "guideseq_2mm_fraction_active= len(guideseq_2mm[guideseq_2mm[\"normalized_reads\"]>0.01])/len(guideseq_2mm)\n",
    "guideseq_3mm_fraction_active= len(guideseq_3mm[guideseq_3mm[\"normalized_reads\"]>0.01])/len(guideseq_3mm)\n",
    "guideseq_4plusmm_fraction_active= len(guideseq_4plusmm[guideseq_4plusmm[\"normalized_reads\"]>0.1])/len(guideseq_4plusmm)"
   ]
  },
  {
   "cell_type": "code",
   "execution_count": 7,
   "id": "2cf1ccef",
   "metadata": {},
   "outputs": [],
   "source": [
    "#average normalized reads at active OTS \n",
    "active_0mm_avg_norm_reads= guideseq_0mm[guideseq_0mm[\"normalized_reads\"]>0.01][\"normalized_reads\"].mean()\n",
    "active_1mm_avg_norm_reads= guideseq_1mm[guideseq_1mm[\"normalized_reads\"]>0.01][\"normalized_reads\"].mean()\n",
    "active_2mm_avg_norm_reads= guideseq_2mm[guideseq_2mm[\"normalized_reads\"]>0.01][\"normalized_reads\"].mean()\n",
    "active_3mm_avg_norm_reads= guideseq_3mm[guideseq_3mm[\"normalized_reads\"]>0.01][\"normalized_reads\"].mean()\n",
    "active_4plusmm_avg_norm_reads= guideseq_4plusmm[guideseq_4plusmm[\"normalized_reads\"]>0.01][\"normalized_reads\"].mean()"
   ]
  },
  {
   "cell_type": "code",
   "execution_count": 8,
   "id": "7392125e",
   "metadata": {},
   "outputs": [
    {
     "ename": "OSError",
     "evalue": "[Errno 89] Operation canceled",
     "output_type": "error",
     "traceback": [
      "\u001b[31m---------------------------------------------------------------------------\u001b[39m",
      "\u001b[31mOSError\u001b[39m                                   Traceback (most recent call last)",
      "\u001b[36mCell\u001b[39m\u001b[36m \u001b[39m\u001b[32mIn[8]\u001b[39m\u001b[32m, line 2\u001b[39m\n\u001b[32m      1\u001b[39m \u001b[38;5;66;03m#get info for bulges\u001b[39;00m\n\u001b[32m----> \u001b[39m\u001b[32m2\u001b[39m guideseq_bulges= \u001b[43mpd\u001b[49m\u001b[43m.\u001b[49m\u001b[43mread_csv\u001b[49m\u001b[43m(\u001b[49m\u001b[33;43m\"\u001b[39;49m\u001b[33;43m../Data/guideseq_bulges.csv\u001b[39;49m\u001b[33;43m\"\u001b[39;49m\u001b[43m)\u001b[49m\n\u001b[32m      3\u001b[39m guideseq_bulge_fraction_active= \u001b[38;5;28mlen\u001b[39m(guideseq_bulges[guideseq_bulges[\u001b[33m\"\u001b[39m\u001b[33mnormalized_reads\u001b[39m\u001b[33m\"\u001b[39m]>\u001b[32m0.01\u001b[39m])/\u001b[38;5;28mlen\u001b[39m(guideseq_bulges)\n\u001b[32m      4\u001b[39m active_bulge_avg_norm_reads= guideseq_bulges[guideseq_bulges[\u001b[33m\"\u001b[39m\u001b[33mnormalized_reads\u001b[39m\u001b[33m\"\u001b[39m]>\u001b[32m0.01\u001b[39m][\u001b[33m\"\u001b[39m\u001b[33mnormalized_reads\u001b[39m\u001b[33m\"\u001b[39m].mean()\n",
      "\u001b[36mFile \u001b[39m\u001b[32m~/Library/CloudStorage/GoogleDrive-ldrepano@broadinstitute.org/Shared drives/GPP Cloud /R&D/People/Laura/CRISPick Parameter Tuning/GPP-Jacquere/run_jacquere_code/lib/python3.13/site-packages/pandas/io/parsers/readers.py:1026\u001b[39m, in \u001b[36mread_csv\u001b[39m\u001b[34m(filepath_or_buffer, sep, delimiter, header, names, index_col, usecols, dtype, engine, converters, true_values, false_values, skipinitialspace, skiprows, skipfooter, nrows, na_values, keep_default_na, na_filter, verbose, skip_blank_lines, parse_dates, infer_datetime_format, keep_date_col, date_parser, date_format, dayfirst, cache_dates, iterator, chunksize, compression, thousands, decimal, lineterminator, quotechar, quoting, doublequote, escapechar, comment, encoding, encoding_errors, dialect, on_bad_lines, delim_whitespace, low_memory, memory_map, float_precision, storage_options, dtype_backend)\u001b[39m\n\u001b[32m   1013\u001b[39m kwds_defaults = _refine_defaults_read(\n\u001b[32m   1014\u001b[39m     dialect,\n\u001b[32m   1015\u001b[39m     delimiter,\n\u001b[32m   (...)\u001b[39m\u001b[32m   1022\u001b[39m     dtype_backend=dtype_backend,\n\u001b[32m   1023\u001b[39m )\n\u001b[32m   1024\u001b[39m kwds.update(kwds_defaults)\n\u001b[32m-> \u001b[39m\u001b[32m1026\u001b[39m \u001b[38;5;28;01mreturn\u001b[39;00m \u001b[43m_read\u001b[49m\u001b[43m(\u001b[49m\u001b[43mfilepath_or_buffer\u001b[49m\u001b[43m,\u001b[49m\u001b[43m \u001b[49m\u001b[43mkwds\u001b[49m\u001b[43m)\u001b[49m\n",
      "\u001b[36mFile \u001b[39m\u001b[32m~/Library/CloudStorage/GoogleDrive-ldrepano@broadinstitute.org/Shared drives/GPP Cloud /R&D/People/Laura/CRISPick Parameter Tuning/GPP-Jacquere/run_jacquere_code/lib/python3.13/site-packages/pandas/io/parsers/readers.py:626\u001b[39m, in \u001b[36m_read\u001b[39m\u001b[34m(filepath_or_buffer, kwds)\u001b[39m\n\u001b[32m    623\u001b[39m     \u001b[38;5;28;01mreturn\u001b[39;00m parser\n\u001b[32m    625\u001b[39m \u001b[38;5;28;01mwith\u001b[39;00m parser:\n\u001b[32m--> \u001b[39m\u001b[32m626\u001b[39m     \u001b[38;5;28;01mreturn\u001b[39;00m \u001b[43mparser\u001b[49m\u001b[43m.\u001b[49m\u001b[43mread\u001b[49m\u001b[43m(\u001b[49m\u001b[43mnrows\u001b[49m\u001b[43m)\u001b[49m\n",
      "\u001b[36mFile \u001b[39m\u001b[32m~/Library/CloudStorage/GoogleDrive-ldrepano@broadinstitute.org/Shared drives/GPP Cloud /R&D/People/Laura/CRISPick Parameter Tuning/GPP-Jacquere/run_jacquere_code/lib/python3.13/site-packages/pandas/io/parsers/readers.py:1923\u001b[39m, in \u001b[36mTextFileReader.read\u001b[39m\u001b[34m(self, nrows)\u001b[39m\n\u001b[32m   1916\u001b[39m nrows = validate_integer(\u001b[33m\"\u001b[39m\u001b[33mnrows\u001b[39m\u001b[33m\"\u001b[39m, nrows)\n\u001b[32m   1917\u001b[39m \u001b[38;5;28;01mtry\u001b[39;00m:\n\u001b[32m   1918\u001b[39m     \u001b[38;5;66;03m# error: \"ParserBase\" has no attribute \"read\"\u001b[39;00m\n\u001b[32m   1919\u001b[39m     (\n\u001b[32m   1920\u001b[39m         index,\n\u001b[32m   1921\u001b[39m         columns,\n\u001b[32m   1922\u001b[39m         col_dict,\n\u001b[32m-> \u001b[39m\u001b[32m1923\u001b[39m     ) = \u001b[38;5;28;43mself\u001b[39;49m\u001b[43m.\u001b[49m\u001b[43m_engine\u001b[49m\u001b[43m.\u001b[49m\u001b[43mread\u001b[49m\u001b[43m(\u001b[49m\u001b[43m  \u001b[49m\u001b[38;5;66;43;03m# type: ignore[attr-defined]\u001b[39;49;00m\n\u001b[32m   1924\u001b[39m \u001b[43m        \u001b[49m\u001b[43mnrows\u001b[49m\n\u001b[32m   1925\u001b[39m \u001b[43m    \u001b[49m\u001b[43m)\u001b[49m\n\u001b[32m   1926\u001b[39m \u001b[38;5;28;01mexcept\u001b[39;00m \u001b[38;5;167;01mException\u001b[39;00m:\n\u001b[32m   1927\u001b[39m     \u001b[38;5;28mself\u001b[39m.close()\n",
      "\u001b[36mFile \u001b[39m\u001b[32m~/Library/CloudStorage/GoogleDrive-ldrepano@broadinstitute.org/Shared drives/GPP Cloud /R&D/People/Laura/CRISPick Parameter Tuning/GPP-Jacquere/run_jacquere_code/lib/python3.13/site-packages/pandas/io/parsers/c_parser_wrapper.py:234\u001b[39m, in \u001b[36mCParserWrapper.read\u001b[39m\u001b[34m(self, nrows)\u001b[39m\n\u001b[32m    232\u001b[39m \u001b[38;5;28;01mtry\u001b[39;00m:\n\u001b[32m    233\u001b[39m     \u001b[38;5;28;01mif\u001b[39;00m \u001b[38;5;28mself\u001b[39m.low_memory:\n\u001b[32m--> \u001b[39m\u001b[32m234\u001b[39m         chunks = \u001b[38;5;28;43mself\u001b[39;49m\u001b[43m.\u001b[49m\u001b[43m_reader\u001b[49m\u001b[43m.\u001b[49m\u001b[43mread_low_memory\u001b[49m\u001b[43m(\u001b[49m\u001b[43mnrows\u001b[49m\u001b[43m)\u001b[49m\n\u001b[32m    235\u001b[39m         \u001b[38;5;66;03m# destructive to chunks\u001b[39;00m\n\u001b[32m    236\u001b[39m         data = _concatenate_chunks(chunks)\n",
      "\u001b[36mFile \u001b[39m\u001b[32mparsers.pyx:838\u001b[39m, in \u001b[36mpandas._libs.parsers.TextReader.read_low_memory\u001b[39m\u001b[34m()\u001b[39m\n",
      "\u001b[36mFile \u001b[39m\u001b[32mparsers.pyx:905\u001b[39m, in \u001b[36mpandas._libs.parsers.TextReader._read_rows\u001b[39m\u001b[34m()\u001b[39m\n",
      "\u001b[36mFile \u001b[39m\u001b[32mparsers.pyx:874\u001b[39m, in \u001b[36mpandas._libs.parsers.TextReader._tokenize_rows\u001b[39m\u001b[34m()\u001b[39m\n",
      "\u001b[36mFile \u001b[39m\u001b[32mparsers.pyx:891\u001b[39m, in \u001b[36mpandas._libs.parsers.TextReader._check_tokenize_status\u001b[39m\u001b[34m()\u001b[39m\n",
      "\u001b[36mFile \u001b[39m\u001b[32mparsers.pyx:2053\u001b[39m, in \u001b[36mpandas._libs.parsers.raise_parser_error\u001b[39m\u001b[34m()\u001b[39m\n",
      "\u001b[31mOSError\u001b[39m: [Errno 89] Operation canceled"
     ]
    }
   ],
   "source": [
    "#get info for bulges\n",
    "guideseq_bulges= pd.read_csv(\"../Data/guideseq_bulges.csv\")\n",
    "guideseq_bulge_fraction_active= len(guideseq_bulges[guideseq_bulges[\"normalized_reads\"]>0.01])/len(guideseq_bulges)\n",
    "active_bulge_avg_norm_reads= guideseq_bulges[guideseq_bulges[\"normalized_reads\"]>0.01][\"normalized_reads\"].mean()\n",
    "guideseq_bulges[\"normalized_reads_bin\"] = pd.Series(\n",
    "    pd.CategoricalIndex(pd.cut(guideseq_bulges[\"normalized_reads\"], norm_read_bins)).rename_categories(norm_read_bins_to_name))\n",
    "guideseq_bulges"
   ]
  },
  {
   "cell_type": "code",
   "execution_count": null,
   "id": "7f5e1231-54bf-438f-b9af-9b81c2d20913",
   "metadata": {},
   "outputs": [],
   "source": [
    "\n",
    "#gets counts of OTS in each normalized read count bin, stratified by MM# \n",
    "\n",
    "guideseq_0mm_bincounts= pd.DataFrame(guideseq_0mm[\"normalized_reads_bin\"].value_counts()).reset_index()\n",
    "guideseq_0mm_bincounts[\"normalized_reads_bin_frac\"]=guideseq_0mm_bincounts[\"count\"]/len(guideseq_0mm)\n",
    "\n",
    "guideseq_1mm_bincounts= pd.DataFrame(guideseq_1mm[\"normalized_reads_bin\"].value_counts()).reset_index()\n",
    "guideseq_1mm_bincounts[\"normalized_reads_bin_frac\"]=guideseq_1mm_bincounts[\"count\"]/len(guideseq_1mm)\n",
    "\n",
    "guideseq_2mm_bincounts= pd.DataFrame(guideseq_2mm[\"normalized_reads_bin\"].value_counts()).reset_index()\n",
    "guideseq_2mm_bincounts[\"normalized_reads_bin_frac\"]=guideseq_2mm_bincounts[\"count\"]/len(guideseq_2mm)\n",
    "\n",
    "guideseq_3mm_bincounts= pd.DataFrame(guideseq_3mm[\"normalized_reads_bin\"].value_counts()).reset_index()\n",
    "guideseq_3mm_bincounts[\"normalized_reads_bin_frac\"]=guideseq_3mm_bincounts[\"count\"]/len(guideseq_3mm)\n",
    "\n",
    "guideseq_4plusmm_bincounts= pd.DataFrame(guideseq_4plusmm[\"normalized_reads_bin\"].value_counts()).reset_index()\n",
    "guideseq_4plusmm_bincounts[\"normalized_reads_bin_frac\"]=guideseq_4plusmm_bincounts[\"count\"]/len(guideseq_4plusmm)\n",
    "\n",
    "guideseq_bulges_bincounts= pd.DataFrame(guideseq_bulges[\"normalized_reads_bin\"].value_counts()).reset_index()\n",
    "guideseq_bulges_bincounts[\"normalized_reads_bin_frac\"]=guideseq_bulges_bincounts[\"count\"]/len(guideseq_bulges)\n",
    "\n",
    "norm_read_bincounts_all=pd.concat([guideseq_0mm_bincounts,guideseq_1mm_bincounts,guideseq_2mm_bincounts,guideseq_3mm_bincounts,guideseq_4plusmm_bincounts,guideseq_bulges_bincounts],keys=[\"0MM\",\"1MM\",\"2MM\",\"3MM\",\"4+MM\",\"Bulge\"]).reset_index()\n",
    "norm_read_bincounts_all_pivot = norm_read_bincounts_all.pivot(index='level_0', columns='normalized_reads_bin', values='normalized_reads_bin_frac')\n"
   ]
  },
  {
   "cell_type": "code",
   "execution_count": null,
   "id": "ca917f98-64d5-4bd5-9747-edb20074474f",
   "metadata": {},
   "outputs": [],
   "source": [
    "(fig,ax)=plt.subplots(1,2,figsize=(14,6))\n",
    "fig.suptitle(\"GUIDE-seq of off-target sites (OTS) for 114 sgRNAs (Yaish & Orenstein, 2024)\",size=16)\n",
    "fig.supxlabel(\"# Mismatches in SDR to target site\",size=16)\n",
    "\n",
    "num_ots_mm= pd.DataFrame(data={\"Off-Target Site Type\":[\"0\",\"1\",\"2\",\"3\",\"4+\",\"N/A (Bulge)\"],\"# Sites\":[len(guideseq_0mm),len(guideseq_1mm),len(guideseq_2mm),len(guideseq_3mm),len(guideseq_4plusmm),len(guideseq_bulges)]})\n",
    "sns.barplot(data=num_ots_mm,x=\"Off-Target Site Type\",y=\"# Sites\",ax=ax[0],color=\"lightgrey\")\n",
    "ax[0].bar_label(ax[0].containers[0], fmt = '%d',size=14)\n",
    "ax[0].set_yticks([])\n",
    "ax[0].set_xticks(ticks=[0,1,2,3,4,5],labels=[\"0\",\"1\",\"2\",\"3\",\"4+\",\"Bulge\"],fontsize=16)\n",
    "ax[0].set_xlabel(\"\",size=16)\n",
    "ax[0].set_ylabel(\"\",size=16)\n",
    "#line below makes sure graph is tall enough so that the text doesn't get cut off\n",
    "ax[0].set_ylim(0,num_ots_mm[\"# Sites\"].max()*1.1)\n",
    "ax[0].set_xlim(-0.5,5.7)\n",
    "ax[0].set_title(\"# potential OTS\",size=16)\n",
    "\n",
    "norm_read_bincounts_all_pivot.plot(kind='bar', stacked=True,ax=ax[1],edgecolor=\"none\",cmap=\"GnBu_r\")\n",
    "ax[1].set_xticks(ticks=[0,1,2,3,4,5],labels=[\"0\",\"1\",\"2\",\"3\",\"4+\",\"Bulge\"],fontsize=16,rotation=0)\n",
    "ax[1].set_xlabel(\"\",size=16)\n",
    "ax[1].set_xlabel(\"\",size=16)\n",
    "\n",
    "handles,labels = ax[1].get_legend_handles_labels()\n",
    "sorted_legends= [x for _,x in sorted(zip(interval_labels,labels))] \n",
    "sorted_handles=[x for _,x in sorted(zip(interval_labels,handles))]\n",
    "ax[1].legend(sorted_handles,sorted_legends, loc='upper right',fontsize=16)\n",
    "ax[1].set_ylabel(\"Fraction of potential OTS\",size=16)\n",
    "ax[1].set_ylim(0,1.05)\n",
    "ax[1].set_title(\"Reads at potential OTS (% relative to target site) \",size=16)\n",
    "\n",
    "gpp.savefig(\"../Figures/ots_count_and_guideseq_activity_breakdown.pdf\", dpi=600, bbox_inches = 'tight')\n"
   ]
  },
  {
   "cell_type": "code",
   "execution_count": null,
   "id": "45fb317e-5132-4732-91e9-e2671d3c2501",
   "metadata": {},
   "outputs": [],
   "source": [
    "#identify fraction of OTS at each mismatch count that are not guideseq active (at least 0.1 normalized reads)\n",
    "get_fnr=norm_read_bincounts_all_pivot.copy()\n",
    "get_fnr[\"fraction active\"]=get_fnr[[\"1-5%\",\"5-50%\",\"50+%\"]].sum(axis=1)\n",
    "get_fnr"
   ]
  },
  {
   "cell_type": "markdown",
   "id": "7d225350",
   "metadata": {},
   "source": [
    "**CFD effectively predicts the probability of activity at off-target sites**\n"
   ]
  },
  {
   "cell_type": "code",
   "execution_count": null,
   "id": "de285f06",
   "metadata": {},
   "outputs": [],
   "source": [
    "#indicates whether or not an off-target site is at least 1% as active as the on-target site \n",
    "guideseq_nobulges[\"notably_active\"]=guideseq_nobulges[\"normalized_reads\"]>0.01\n",
    "guideseq_nobulges[\"cfd_x100\"]=(guideseq_nobulges[\"cfd_score\"]*100).astype(int)\n"
   ]
  },
  {
   "cell_type": "code",
   "execution_count": null,
   "id": "568f6837-fe14-42ef-a112-e8208e29a141",
   "metadata": {},
   "outputs": [],
   "source": [
    "num_bins=150\n",
    "below_3MM= guideseq_nobulges[(guideseq_nobulges[\"mismatches_in_SDR\"]<3)].reset_index(drop=True).copy()\n",
    "num_OTS_per_bin_below3MM=len(below_3MM)/num_bins\n",
    "num_sgRNAs=len(below_3MM[\"sgRNA\"].unique())\n",
    "label=str(int(num_OTS_per_bin_below3MM))+\" OTS\"\n",
    "below_3MM[\"CFD_interval\"]=pd.qcut(below_3MM[\"cfd_x100\"],num_bins,duplicates='drop')\n",
    "below_3MM[\"CFD_interval_midpoint\"]=below_3MM[\"CFD_interval\"].apply(lambda x: x.mid*0.01) \n",
    "\n",
    "#for error bars\n",
    "below_3MM[\"CFD_low_error\"]=below_3MM[\"CFD_interval\"].apply(lambda x: x.mid*0.01-x.left*0.01) \n",
    "below_3MM[\"CFD_high_error\"]=below_3MM[\"CFD_interval\"].apply(lambda x: x.right*0.01-x.mid*0.01) \n",
    "cfd_bin_extremes=below_3MM[[\"CFD_low_error\",\"CFD_high_error\",\"CFD_interval_midpoint\"]].drop_duplicates(keep=\"first\").sort_values(by=\"CFD_interval_midpoint\")\n",
    "bin_cfd_low_errors=cfd_bin_extremes[\"CFD_low_error\"].tolist()\n",
    "bin_cfd_high_errors=cfd_bin_extremes[\"CFD_high_error\"].tolist()\n",
    "\n",
    "binned_cfd_and_effective= below_3MM[[\"CFD_interval_midpoint\",\"notably_active\"]].groupby(\"CFD_interval_midpoint\",sort=True,as_index=False,observed=True)\n",
    "fraction_effective_binned_below3MM= binned_cfd_and_effective.mean()\n",
    "\n"
   ]
  },
  {
   "cell_type": "code",
   "execution_count": null,
   "id": "83bb571e-f7af-43bb-bfe2-62eab7ce042d",
   "metadata": {},
   "outputs": [],
   "source": [
    "label=str(int(num_OTS_per_bin_below3MM))+\" OTS\"\n",
    "plt.scatter(data=fraction_effective_binned_below3MM,y=\"CFD_interval_midpoint\",x=\"notably_active\",c=\"cornflowerblue\",s=60,label=label)\n",
    "plt.legend(fontsize=16,loc=\"upper left\")\n",
    "plt.title(\"Predicted vs. Experimental OTS activity\",fontsize=16)\n",
    "plt.ylabel(\"Median CFD of OTS in bin\",fontsize=16)\n",
    "plt.xlabel(\"Fraction GUIDE-seq active\",fontsize=16)\n",
    "plt.gca().set_aspect('equal')\n",
    "#adding errorbars with 5th, 95th CFD percentile in bin\n",
    "plt.errorbar(fraction_effective_binned_below3MM[\"CFD_interval_midpoint\"], fraction_effective_binned_below3MM[\"notably_active\"], yerr=None,xerr = [bin_cfd_low_errors,bin_cfd_high_errors],ls=\"none\",c=\"grey\") \n",
    "plt.xlim(0,1)\n",
    "plt.ylim(0,1)\n",
    "r,_=pearsonr(fraction_effective_binned_below3MM[\"notably_active\"], fraction_effective_binned_below3MM[\"CFD_interval_midpoint\"])\n",
    "plt.text(0.6, 0.1, f\"r = {r:.2f}\" , fontsize=16, color='black')\n",
    "plt.tick_params(axis='both', which='major', labelsize=14)\n",
    "gpp.savefig(\"../Figures/correlation_cfd_guideseq_activity.pdf\", dpi=600, bbox_inches = 'tight')\n"
   ]
  },
  {
   "cell_type": "markdown",
   "id": "c134eefc",
   "metadata": {},
   "source": [
    "## Contrast CFD of active vs inactive OTS"
   ]
  },
  {
   "cell_type": "code",
   "execution_count": null,
   "id": "2796851b",
   "metadata": {},
   "outputs": [],
   "source": [
    "guideseq_nobulges\n",
    "binorder= [False,True]\n",
    "box_pairs=[(False,True)]\n",
    "\n",
    "ax = sns.boxplot(x=guideseq_nobulges['notably_active'], y=guideseq_nobulges['cfd_score'],color = 'cornflowerblue')\n",
    "plt.ylabel(\"CFD Score\",fontsize=16)\n",
    "plt.xlabel(\"Active (>=0.01 normalized reads) in GUIDE-seq data\", fontsize=16)\n",
    "plt.title(\"CFD Score of active vs. inactive OTS in GUIDE-seq data\",fontsize=16)\n",
    "\n",
    "annotator = Annotator(ax, [(False,True)], data=guideseq_nobulges, x=\"notably_active\", y='cfd_score', order=[False,True],verbose=False)\n",
    "annotator.configure(test='Mann-Whitney-ls', text_format='simple',fontsize=16) #this shows test name, actual p value\n",
    "annotator.apply_and_annotate()\n",
    "\n",
    "gpp.savefig(\"../Figures/cfd_active_v_inactive.pdf\", dpi=600, bbox_inches = 'tight')\n"
   ]
  },
  {
   "cell_type": "code",
   "execution_count": null,
   "id": "1bc9247c-7419-4204-a7d0-124c506c7347",
   "metadata": {},
   "outputs": [],
   "source": [
    "guideseq_nobulges[\"mismatches_in_SDR\"].value_counts()"
   ]
  },
  {
   "cell_type": "markdown",
   "id": "870e36de-a74c-4ffc-8035-1e5a78eb4713",
   "metadata": {},
   "source": [
    "### OTS Considered in Aggregate CFD vs. Guidescan\n",
    "\n",
    "Aggregate CFD: <2 MM OTS (MM counted in the SDR, which includes the PAM)\n",
    "\n",
    "Guidescan: <4 MM OTS (MM counted in 20nt guide sequence)"
   ]
  },
  {
   "cell_type": "code",
   "execution_count": null,
   "id": "30803218-4ad3-49c4-bec8-5e8644afe034",
   "metadata": {},
   "outputs": [],
   "source": [
    "potential_aggcfd_ots= guideseq_nobulges[(guideseq_nobulges[\"mismatches_in_SDR\"]<2)].reset_index()\n",
    "potential_guidescan_ots= guideseq_nobulges[(guideseq_nobulges[\"Align.#Mismatches\"]<4)].reset_index()\n",
    "\n",
    "print(\"average # OTS in specificity score per guide:\",len(potential_guidescan_ots)/len(guideseq_nobulges[\"sgRNA\"].unique()))\n",
    "print(\"average # OTS in aggregate CFD per guide:\",len(potential_aggcfd_ots)/len(guideseq_nobulges[\"sgRNA\"].unique()))\n"
   ]
  },
  {
   "cell_type": "code",
   "execution_count": null,
   "id": "b39b69ee-734e-424c-b3f0-4c62a96b937b",
   "metadata": {},
   "outputs": [],
   "source": [
    "potential_aggcfd_ots_bincounts= pd.DataFrame(potential_aggcfd_ots[\"normalized_reads_bin\"].value_counts()).reset_index()\n",
    "potential_aggcfd_ots_bincounts[\"normalized_reads_bin_frac\"]=potential_aggcfd_ots_bincounts[\"count\"]/len(potential_aggcfd_ots)\n",
    "\n",
    "potential_guidescan_ots_bincounts= pd.DataFrame(potential_guidescan_ots[\"normalized_reads_bin\"].value_counts()).reset_index()\n",
    "potential_guidescan_ots_bincounts[\"normalized_reads_bin_frac\"]=potential_guidescan_ots_bincounts[\"count\"]/len(potential_guidescan_ots)\n"
   ]
  },
  {
   "cell_type": "code",
   "execution_count": null,
   "id": "b416eb05-3235-4afe-af28-7bfe419b4a97",
   "metadata": {},
   "outputs": [],
   "source": [
    "norm_read_bincounts_both=pd.concat([potential_aggcfd_ots_bincounts,potential_guidescan_ots_bincounts],keys=[\"<2MM in SDR\",\"<4MM in 20nt sequence\\nNGG PAM only\"]).reset_index()\n",
    "norm_read_bincounts_both_pivot = norm_read_bincounts_both.pivot(index='level_0', columns='normalized_reads_bin', values='normalized_reads_bin_frac')\n",
    "ax=norm_read_bincounts_both_pivot.plot(kind='bar', stacked=True,edgecolor=\"none\",cmap=\"GnBu_r\")\n",
    "plt.xticks(ticks=[0,1],labels=[\"<2MM in SDR\",\"<4MM in 20nt sequence\"],fontsize=16,rotation=0)\n",
    "plt.xlabel(\"OTS Set\",fontsize=16)\n",
    "plt.ylabel(\"Fraction of OTS in set\",fontsize=16)\n",
    "handles,labels = ax.get_legend_handles_labels()\n",
    "sorted_legends= [x for _,x in sorted(zip(interval_labels,labels))] \n",
    "sorted_handles=[x for _,x in sorted(zip(interval_labels,handles))]\n",
    "plt.legend(sorted_handles,sorted_legends, title=\"# Reads at off-target site\\n relative to target site\",bbox_to_anchor=(1,1),fontsize=14,title_fontsize=14)\n",
    "plt.title(\"Activity at OTS for 114 GUIDE-seq sgRNAs\",size=16)\n",
    "gpp.savefig(\"../Figures/GUIDEseq_activity_by_OTS_subset.pdf\", dpi=600, bbox_inches = 'tight')"
   ]
  },
  {
   "cell_type": "code",
   "execution_count": null,
   "id": "7b2b9efb-1818-442e-ba3a-bdeff304d8b5",
   "metadata": {},
   "outputs": [],
   "source": [
    "print(\"Agg CFD OTS FDR:\",len(potential_aggcfd_ots[(potential_aggcfd_ots[\"normalized_reads_bin\"]==\"0%\")|(potential_aggcfd_ots[\"normalized_reads_bin\"]==\"0-1%\")])/len(potential_aggcfd_ots))\n",
    "print(\"Guidescan OTS FDR:\",len(potential_guidescan_ots[(potential_guidescan_ots[\"normalized_reads_bin\"]==\"0%\")|(potential_guidescan_ots[\"normalized_reads_bin\"]==\"0-1%\")])/len(potential_guidescan_ots))"
   ]
  },
  {
   "cell_type": "code",
   "execution_count": null,
   "id": "70cbe48f-59d0-4e5c-9b18-61fb3d509a66",
   "metadata": {},
   "outputs": [],
   "source": [
    "total_active_ots=len(guideseq_nobulges[~guideseq_nobulges[\"normalized_reads_bin\"].isin([\"0%\",\"0-1%\"])])\n",
    "print(\"% of active OTS captured by agg CFD OTS:\",100*len(potential_aggcfd_ots[~potential_aggcfd_ots[\"normalized_reads_bin\"].isin([\"0%\",\"0-1%\"])])/total_active_ots)\n",
    "print(\"% of active OTS captured by Guidescan OTS:\",100*len(potential_guidescan_ots[~potential_guidescan_ots[\"normalized_reads_bin\"].isin([\"0%\",\"0-1%\"])])/total_active_ots)"
   ]
  }
 ],
 "metadata": {
  "kernelspec": {
   "display_name": "Python 3 (ipykernel)",
   "language": "python",
   "name": "python3"
  },
  "language_info": {
   "codemirror_mode": {
    "name": "ipython",
    "version": 3
   },
   "file_extension": ".py",
   "mimetype": "text/x-python",
   "name": "python",
   "nbconvert_exporter": "python",
   "pygments_lexer": "ipython3",
   "version": "3.13.0"
  }
 },
 "nbformat": 4,
 "nbformat_minor": 5
}
